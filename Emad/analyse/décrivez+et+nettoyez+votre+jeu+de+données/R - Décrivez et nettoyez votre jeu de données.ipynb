{
 "cells": [
  {
   "cell_type": "markdown",
   "id": "0bcc3c4e",
   "metadata": {},
   "source": [
    "# Sommaire :\n",
    " - <a href=\"#C1\">Importation des données</a>\n",
    " \n",
    "**Partie 2 : Nettoyez un jeu de données**\n",
    " - <a href=\"#C2\">Nettoyez votre jeu de données</a>\n",
    " \n",
    "**Partie 3 : Représentez vos variables**\n",
    " - <a href=\"#C3\">Représentez la distribution empirique d'une variable</a>\n",
    " - <a href=\"#C4\">Présentez une variable sous forme de tableau</a>\n",
    " - <a href=\"#C5\">Découvrez les mesures de tendance centrale</a>\n",
    " - <a href=\"#C6\">Comprenez les mesures de dispersion</a>\n",
    " - <a href=\"#C7\">Appréhendez les mesures de forme</a>\n",
    " - <a href=\"#C8\">Familiarisez-vous avec les mesures de concentration</a>\n",
    " \n",
    "**Partie 4 : Réalisez une analyse bivariée**\n",
    " - <a href=\"#C9\">Analysez la corrélation entre deux variables quantitatives</a>\n",
    " - <a href=\"#C10\">Analysez deux variables quantitatives par régression linéaire</a>\n",
    " - <a href=\"#C11\">Analysez une variable quantitative et une qualitative par ANOVA</a>\n",
    " - <a href=\"#C12\">Analysez deux variables qualitatives avec le Chi-2</a>\n",
    "\n",
    "# <a name=\"C1\">Importation des données</a>\n",
    "\n",
    "Les données que nous allons utiliser tout au long de ce cours se trouvent dans le même dossier compressé où vous avez trouvé le présent notebook. Comme annoncé en préambule, c'est un fichier contenant les relevés bancaires (fictives) d'un individu. Importons dans un premier temps l'ensemble des librairies qui vont nous servir durant l'entièreté de ce cours :"
   ]
  },
  {
   "cell_type": "code",
   "execution_count": 1,
   "id": "c0c8e4a9",
   "metadata": {
    "vscode": {
     "languageId": "r"
    }
   },
   "outputs": [
    {
     "name": "stderr",
     "output_type": "stream",
     "text": [
      "Registered S3 methods overwritten by 'ggplot2':\n",
      "  method         from \n",
      "  [.quosures     rlang\n",
      "  c.quosures     rlang\n",
      "  print.quosures rlang\n"
     ]
    }
   ],
   "source": [
    "# si l'un des packages n'est pas installé :\n",
    "# install.packages(\"ggplot2\")\n",
    "# install.packages(\"moments\")\n",
    "\n",
    "library(moments)\n",
    "library(\"ggplot2\")"
   ]
  },
  {
   "cell_type": "code",
   "execution_count": null,
   "id": "3bf4f71f",
   "metadata": {
    "vscode": {
     "languageId": "r"
    }
   },
   "outputs": [],
   "source": []
  },
  {
   "cell_type": "markdown",
   "id": "1c839d13",
   "metadata": {},
   "source": [
    "Nous pouvons à présent charger le jeu de données, dans un dataframe que nous nommerons ici `data`. Nous affichons ensuite les 5 premières lignes."
   ]
  },
  {
   "cell_type": "code",
   "execution_count": null,
   "id": "955af496",
   "metadata": {
    "vscode": {
     "languageId": "r"
    }
   },
   "outputs": [],
   "source": []
  },
  {
   "cell_type": "code",
   "execution_count": 2,
   "id": "9066f06c",
   "metadata": {
    "scrolled": true,
    "vscode": {
     "languageId": "r"
    }
   },
   "outputs": [
    {
     "data": {
      "text/html": [
       "<table>\n",
       "<thead><tr><th scope=col>date_operation</th><th scope=col>libelle</th><th scope=col>montant</th><th scope=col>solde_avt_ope</th><th scope=col>categ</th></tr></thead>\n",
       "<tbody>\n",
       "\t<tr><td>2023-03-31                                  </td><td>DON XX XX XX XX XX XX XX                    </td><td> -1.44                                      </td><td>1515.25                                     </td><td>AUTRE                                       </td></tr>\n",
       "\t<tr><td>2023-04-03                                  </td><td>CARTE XX XX RAPT XX                         </td><td>-24.00                                      </td><td>1513.81                                     </td><td>TRANSPORT                                   </td></tr>\n",
       "\t<tr><td>2023-04-03                                  </td><td>CARTE XX XX RAPT XX                         </td><td>-73.00                                      </td><td>1489.81                                     </td><td>TRANSPORT                                   </td></tr>\n",
       "\t<tr><td>2023-04-03                                  </td><td>VIREMENT XX XX XX XX XX XX XX XX XX XX XX XX</td><td>676.00                                      </td><td>1416.81                                     </td><td>AUTRE                                       </td></tr>\n",
       "\t<tr><td>2023-04-03                                  </td><td>VIREMENT XX XX XX XX XX XX                  </td><td>  4.80                                      </td><td>2092.81                                     </td><td>AUTRE                                       </td></tr>\n",
       "\t<tr><td>2023-04-03                                  </td><td>CARTE XX XX XX XX                           </td><td>-14.39                                      </td><td>2097.61                                     </td><td>AUTRE                                       </td></tr>\n",
       "</tbody>\n",
       "</table>\n"
      ],
      "text/latex": [
       "\\begin{tabular}{r|lllll}\n",
       " date\\_operation & libelle & montant & solde\\_avt\\_ope & categ\\\\\n",
       "\\hline\n",
       "\t 2023-03-31                                   & DON XX XX XX XX XX XX XX                     &  -1.44                                       & 1515.25                                      & AUTRE                                       \\\\\n",
       "\t 2023-04-03                                   & CARTE XX XX RAPT XX                          & -24.00                                       & 1513.81                                      & TRANSPORT                                   \\\\\n",
       "\t 2023-04-03                                   & CARTE XX XX RAPT XX                          & -73.00                                       & 1489.81                                      & TRANSPORT                                   \\\\\n",
       "\t 2023-04-03                                   & VIREMENT XX XX XX XX XX XX XX XX XX XX XX XX & 676.00                                       & 1416.81                                      & AUTRE                                       \\\\\n",
       "\t 2023-04-03                                   & VIREMENT XX XX XX XX XX XX                   &   4.80                                       & 2092.81                                      & AUTRE                                       \\\\\n",
       "\t 2023-04-03                                   & CARTE XX XX XX XX                            & -14.39                                       & 2097.61                                      & AUTRE                                       \\\\\n",
       "\\end{tabular}\n"
      ],
      "text/markdown": [
       "\n",
       "| date_operation | libelle | montant | solde_avt_ope | categ |\n",
       "|---|---|---|---|---|\n",
       "| 2023-03-31                                   | DON XX XX XX XX XX XX XX                     |  -1.44                                       | 1515.25                                      | AUTRE                                        |\n",
       "| 2023-04-03                                   | CARTE XX XX RAPT XX                          | -24.00                                       | 1513.81                                      | TRANSPORT                                    |\n",
       "| 2023-04-03                                   | CARTE XX XX RAPT XX                          | -73.00                                       | 1489.81                                      | TRANSPORT                                    |\n",
       "| 2023-04-03                                   | VIREMENT XX XX XX XX XX XX XX XX XX XX XX XX | 676.00                                       | 1416.81                                      | AUTRE                                        |\n",
       "| 2023-04-03                                   | VIREMENT XX XX XX XX XX XX                   |   4.80                                       | 2092.81                                      | AUTRE                                        |\n",
       "| 2023-04-03                                   | CARTE XX XX XX XX                            | -14.39                                       | 2097.61                                      | AUTRE                                        |\n",
       "\n"
      ],
      "text/plain": [
       "  date_operation libelle                                      montant\n",
       "1 2023-03-31     DON XX XX XX XX XX XX XX                      -1.44 \n",
       "2 2023-04-03     CARTE XX XX RAPT XX                          -24.00 \n",
       "3 2023-04-03     CARTE XX XX RAPT XX                          -73.00 \n",
       "4 2023-04-03     VIREMENT XX XX XX XX XX XX XX XX XX XX XX XX 676.00 \n",
       "5 2023-04-03     VIREMENT XX XX XX XX XX XX                     4.80 \n",
       "6 2023-04-03     CARTE XX XX XX XX                            -14.39 \n",
       "  solde_avt_ope categ    \n",
       "1 1515.25       AUTRE    \n",
       "2 1513.81       TRANSPORT\n",
       "3 1489.81       TRANSPORT\n",
       "4 1416.81       AUTRE    \n",
       "5 2092.81       AUTRE    \n",
       "6 2097.61       AUTRE    "
      ]
     },
     "metadata": {},
     "output_type": "display_data"
    }
   ],
   "source": [
    "data = read.csv('operations.csv',\n",
    "                stringsAsFactors = FALSE, # pour éviter de travailler avec des Factors et faciliter les traitements\n",
    "                fileEncoding = \"UTF-8\", # spécifier l'encodage du fichier\n",
    "                na.strings=c(\"\",\"NA\"))\n",
    "head(data)"
   ]
  },
  {
   "cell_type": "code",
   "execution_count": 3,
   "id": "7c35bcdd",
   "metadata": {
    "vscode": {
     "languageId": "r"
    }
   },
   "outputs": [
    {
     "data": {
      "text/html": [
       "<ol class=list-inline>\n",
       "\t<li>309</li>\n",
       "\t<li>5</li>\n",
       "</ol>\n"
      ],
      "text/latex": [
       "\\begin{enumerate*}\n",
       "\\item 309\n",
       "\\item 5\n",
       "\\end{enumerate*}\n"
      ],
      "text/markdown": [
       "1. 309\n",
       "2. 5\n",
       "\n",
       "\n"
      ],
      "text/plain": [
       "[1] 309   5"
      ]
     },
     "metadata": {},
     "output_type": "display_data"
    }
   ],
   "source": [
    "dim(data)"
   ]
  },
  {
   "cell_type": "markdown",
   "id": "4dfbbde6",
   "metadata": {},
   "source": [
    "Comme vous pouvez le voir via la commande ci dessus, nous avons 309 transactions, renseignées sur 5 variables différentes. Nous avons notamment : \n",
    "- date_operation : date de l'opération\n",
    "- libelle : libellé de l'opération\n",
    "- montant : montant de l'opération\n",
    "- solde_avt_ope : solde du compte avant l'opération considérée\n",
    "- categ : catégorie d'achat\n",
    "\n",
    "<font color='darkred'>*vous aurez probablement moins d'informations sur vos propres relevés bancaires. Nous avons réalisé quelques lignes de codes en amont pour ajouter la catégorie d'achat*</font>"
   ]
  },
  {
   "cell_type": "markdown",
   "id": "9e5e41ac",
   "metadata": {},
   "source": [
    "# <a name=\"C2\">P2C3 - Nettoyez votre jeu de données</a>\n",
    "\n",
    "Il est à présent temps de mettre en pratique tout ce que nous avons vu sur notre jeu de données de transactions bancaires. Plusieurs **erreurs** se sont glissées dans ce jeu de données. Votre mission, si toutefois vous l'acceptez, va être de les **trouver** et de **proposer des solutions** adéquates pour les gérer.\n",
    "\n",
    "### 1. Erreurs de type\n",
    "\n",
    "Le premier reflexe devrait être de vérifier que les variables ont bien été importées dans le bon type :"
   ]
  },
  {
   "cell_type": "code",
   "execution_count": 4,
   "id": "98024b46",
   "metadata": {
    "vscode": {
     "languageId": "r"
    }
   },
   "outputs": [
    {
     "name": "stdout",
     "output_type": "stream",
     "text": [
      "'data.frame':\t309 obs. of  5 variables:\n",
      " $ date_operation: chr  \"2023-03-31\" \"2023-04-03\" \"2023-04-03\" \"2023-04-03\" ...\n",
      " $ libelle       : chr  \"DON XX XX XX XX XX XX XX\" \"CARTE XX XX RAPT XX\" \"CARTE XX XX RAPT XX\" \"VIREMENT XX XX XX XX XX XX XX XX XX XX XX XX\" ...\n",
      " $ montant       : num  -1.44 -24 -73 676 4.8 ...\n",
      " $ solde_avt_ope : num  1515 1514 1490 1417 2093 ...\n",
      " $ categ         : chr  \"AUTRE\" \"TRANSPORT\" \"TRANSPORT\" \"AUTRE\" ...\n"
     ]
    }
   ],
   "source": [
    "str(data)"
   ]
  },
  {
   "cell_type": "markdown",
   "id": "f8564929",
   "metadata": {},
   "source": [
    "La seule chose qui semble être problématique est la variable date qui n'est pas considérée comme une date. On peut corriger cela facilement via la fonction `to_datetime` de pandas :"
   ]
  },
  {
   "cell_type": "code",
   "execution_count": 5,
   "id": "f68aaa84",
   "metadata": {
    "vscode": {
     "languageId": "r"
    }
   },
   "outputs": [],
   "source": [
    "data$date_operation = as.Date(data$date_operation , \"%Y-%m-%d\")"
   ]
  },
  {
   "cell_type": "markdown",
   "id": "4bf6b77c",
   "metadata": {},
   "source": [
    "Sinon, tout semble en ordre\n",
    "\n",
    "### 2. Valeurs manquantes\n",
    "\n",
    "On va ensuite vérifier si notre jeu de données contient des valeurs manquantes :"
   ]
  },
  {
   "cell_type": "code",
   "execution_count": 6,
   "id": "128cb52a",
   "metadata": {
    "vscode": {
     "languageId": "r"
    }
   },
   "outputs": [
    {
     "data": {
      "text/html": [
       "<dl class=dl-horizontal>\n",
       "\t<dt>date_operation</dt>\n",
       "\t\t<dd>0</dd>\n",
       "\t<dt>libelle</dt>\n",
       "\t\t<dd>0</dd>\n",
       "\t<dt>montant</dt>\n",
       "\t\t<dd>2</dd>\n",
       "\t<dt>solde_avt_ope</dt>\n",
       "\t\t<dd>0</dd>\n",
       "\t<dt>categ</dt>\n",
       "\t\t<dd>1</dd>\n",
       "</dl>\n"
      ],
      "text/latex": [
       "\\begin{description*}\n",
       "\\item[date\\textbackslash{}\\_operation] 0\n",
       "\\item[libelle] 0\n",
       "\\item[montant] 2\n",
       "\\item[solde\\textbackslash{}\\_avt\\textbackslash{}\\_ope] 0\n",
       "\\item[categ] 1\n",
       "\\end{description*}\n"
      ],
      "text/markdown": [
       "date_operation\n",
       ":   0libelle\n",
       ":   0montant\n",
       ":   2solde_avt_ope\n",
       ":   0categ\n",
       ":   1\n",
       "\n"
      ],
      "text/plain": [
       "date_operation        libelle        montant  solde_avt_ope          categ \n",
       "             0              0              2              0              1 "
      ]
     },
     "metadata": {},
     "output_type": "display_data"
    }
   ],
   "source": [
    "sapply(data, function(y) sum(is.na(y)))"
   ]
  },
  {
   "cell_type": "code",
   "execution_count": 7,
   "id": "c2307fa4",
   "metadata": {
    "vscode": {
     "languageId": "r"
    }
   },
   "outputs": [
    {
     "data": {
      "text/html": [
       "<dl class=dl-horizontal>\n",
       "\t<dt>montant</dt>\n",
       "\t\t<dd>2</dd>\n",
       "\t<dt>categ</dt>\n",
       "\t\t<dd>1</dd>\n",
       "</dl>\n"
      ],
      "text/latex": [
       "\\begin{description*}\n",
       "\\item[montant] 2\n",
       "\\item[categ] 1\n",
       "\\end{description*}\n"
      ],
      "text/markdown": [
       "montant\n",
       ":   2categ\n",
       ":   1\n",
       "\n"
      ],
      "text/plain": [
       "montant   categ \n",
       "      2       1 "
      ]
     },
     "metadata": {},
     "output_type": "display_data"
    }
   ],
   "source": [
    "# pour afficher uniquement les variables qui ont des valeurs manquantes\n",
    "nb_na = sapply(data, function(y) sum(is.na(y)))\n",
    "nb_na[nb_na>0]"
   ]
  },
  {
   "cell_type": "markdown",
   "id": "ab2d7991",
   "metadata": {},
   "source": [
    "On observe que notre jeu de données contient 3 valeurs manquantes. Regardons les plus en détails :"
   ]
  },
  {
   "cell_type": "code",
   "execution_count": 8,
   "id": "fb29ddc1",
   "metadata": {
    "vscode": {
     "languageId": "r"
    }
   },
   "outputs": [
    {
     "data": {
      "text/html": [
       "<table>\n",
       "<thead><tr><th></th><th scope=col>date_operation</th><th scope=col>libelle</th><th scope=col>montant</th><th scope=col>solde_avt_ope</th><th scope=col>categ</th></tr></thead>\n",
       "<tbody>\n",
       "\t<tr><th scope=row>108</th><td>2023-06-12                         </td><td>CARTE XX XX LES ANCIENS ROBINSON XX</td><td>NA                                 </td><td>4667.19                            </td><td>COURSES                            </td></tr>\n",
       "\t<tr><th scope=row>270</th><td>2023-09-11                         </td><td>CARTE XX XX XX XX                  </td><td>NA                                 </td><td>3401.93                            </td><td>AUTRE                              </td></tr>\n",
       "</tbody>\n",
       "</table>\n"
      ],
      "text/latex": [
       "\\begin{tabular}{r|lllll}\n",
       "  & date\\_operation & libelle & montant & solde\\_avt\\_ope & categ\\\\\n",
       "\\hline\n",
       "\t108 & 2023-06-12                          & CARTE XX XX LES ANCIENS ROBINSON XX & NA                                  & 4667.19                             & COURSES                            \\\\\n",
       "\t270 & 2023-09-11                          & CARTE XX XX XX XX                   & NA                                  & 3401.93                             & AUTRE                              \\\\\n",
       "\\end{tabular}\n"
      ],
      "text/markdown": [
       "\n",
       "| <!--/--> | date_operation | libelle | montant | solde_avt_ope | categ |\n",
       "|---|---|---|---|---|---|\n",
       "| 108 | 2023-06-12                          | CARTE XX XX LES ANCIENS ROBINSON XX | NA                                  | 4667.19                             | COURSES                             |\n",
       "| 270 | 2023-09-11                          | CARTE XX XX XX XX                   | NA                                  | 3401.93                             | AUTRE                               |\n",
       "\n"
      ],
      "text/plain": [
       "    date_operation libelle                             montant solde_avt_ope\n",
       "108 2023-06-12     CARTE XX XX LES ANCIENS ROBINSON XX NA      4667.19      \n",
       "270 2023-09-11     CARTE XX XX XX XX                   NA      3401.93      \n",
       "    categ  \n",
       "108 COURSES\n",
       "270 AUTRE  "
      ]
     },
     "metadata": {},
     "output_type": "display_data"
    }
   ],
   "source": [
    "data[is.na(data$montant),]"
   ]
  },
  {
   "cell_type": "markdown",
   "id": "fb25fc65",
   "metadata": {},
   "source": [
    "Ici, il reste relativement simple de remplacer les valeurs manquantes : en effet, les transactions étant organisées par ordre chronologique, on peut à partir du solde de l'opération suivante déduire le montant qui a été débité pour chacune des ces opérations.\n",
    "\n",
    "Le montant manquant correspond donc au solde de l'opération suivante, moins le solde de l'opération concernée. Voilà comment faire cela pour nos lignes concernées :"
   ]
  },
  {
   "cell_type": "code",
   "execution_count": 9,
   "id": "bcfbea78",
   "metadata": {
    "vscode": {
     "languageId": "r"
    }
   },
   "outputs": [],
   "source": [
    "# on stocke les index des valeurs manquantes au sein de notre dataframe initial\n",
    "data_na = as.numeric(rownames(data[is.na(data$montant),]))\n",
    "\n",
    "\n",
    "for(i in 1:length(data_na)){\n",
    "    # pour chaque ligne de mon df contenant un NA, on récupère l'index correspondant\n",
    "    index = data_na[i] \n",
    "    # calcul du montant à partir des soldes précédents et actuels \n",
    "    data$montant[index] = data$solde_avt_ope[index+1] - data$solde_avt_ope[index]\n",
    "}"
   ]
  },
  {
   "cell_type": "markdown",
   "id": "1941f951",
   "metadata": {},
   "source": [
    "A présent regardons la categorie manquante :"
   ]
  },
  {
   "cell_type": "code",
   "execution_count": 10,
   "id": "b283881a",
   "metadata": {
    "vscode": {
     "languageId": "r"
    }
   },
   "outputs": [
    {
     "data": {
      "text/html": [
       "<table>\n",
       "<thead><tr><th></th><th scope=col>date_operation</th><th scope=col>libelle</th><th scope=col>montant</th><th scope=col>solde_avt_ope</th><th scope=col>categ</th></tr></thead>\n",
       "<tbody>\n",
       "\t<tr><th scope=row>157</th><td>2023-07-06                    </td><td>PRELEVEMENT XX TELEPHONE XX XX</td><td>-36.48                        </td><td>3295.68                       </td><td>NA                            </td></tr>\n",
       "</tbody>\n",
       "</table>\n"
      ],
      "text/latex": [
       "\\begin{tabular}{r|lllll}\n",
       "  & date\\_operation & libelle & montant & solde\\_avt\\_ope & categ\\\\\n",
       "\\hline\n",
       "\t157 & 2023-07-06                     & PRELEVEMENT XX TELEPHONE XX XX & -36.48                         & 3295.68                        & NA                            \\\\\n",
       "\\end{tabular}\n"
      ],
      "text/markdown": [
       "\n",
       "| <!--/--> | date_operation | libelle | montant | solde_avt_ope | categ |\n",
       "|---|---|---|---|---|---|\n",
       "| 157 | 2023-07-06                     | PRELEVEMENT XX TELEPHONE XX XX | -36.48                         | 3295.68                        | NA                             |\n",
       "\n"
      ],
      "text/plain": [
       "    date_operation libelle                        montant solde_avt_ope categ\n",
       "157 2023-07-06     PRELEVEMENT XX TELEPHONE XX XX -36.48  3295.68       NA   "
      ]
     },
     "metadata": {},
     "output_type": "display_data"
    }
   ],
   "source": [
    "data[is.na(data$categ),]"
   ]
  },
  {
   "cell_type": "markdown",
   "id": "a8af4eb8",
   "metadata": {},
   "source": [
    "Par manque d'informations, on devrait supprimer ici la ligne correspondante. Mais regardons si nous ne pouvons pas trouver la catégorie à partir des autres informations, notamment le libellé :"
   ]
  },
  {
   "cell_type": "code",
   "execution_count": 11,
   "id": "603aec7e",
   "metadata": {
    "vscode": {
     "languageId": "r"
    }
   },
   "outputs": [
    {
     "data": {
      "text/html": [
       "<table>\n",
       "<thead><tr><th></th><th scope=col>date_operation</th><th scope=col>libelle</th><th scope=col>montant</th><th scope=col>solde_avt_ope</th><th scope=col>categ</th></tr></thead>\n",
       "<tbody>\n",
       "\t<tr><th scope=row>9</th><td>2023-04-05                    </td><td>PRELEVEMENT XX TELEPHONE XX XX</td><td> -7.02                        </td><td>2056.02                       </td><td>FACTURE TELEPHONE             </td></tr>\n",
       "\t<tr><th scope=row>63</th><td>2023-05-09                    </td><td>PRELEVEMENT XX TELEPHONE XX XX</td><td> -7.02                        </td><td>4090.10                       </td><td>FACTURE TELEPHONE             </td></tr>\n",
       "\t<tr><th scope=row>103</th><td>2023-06-07                    </td><td>PRELEVEMENT XX TELEPHONE XX XX</td><td> -6.38                        </td><td>4688.91                       </td><td>FACTURE TELEPHONE             </td></tr>\n",
       "\t<tr><th scope=row>157</th><td>2023-07-06                    </td><td>PRELEVEMENT XX TELEPHONE XX XX</td><td>-36.48                        </td><td>3295.68                       </td><td>NA                            </td></tr>\n",
       "\t<tr><th scope=row>205</th><td>2023-08-07                    </td><td>PRELEVEMENT XX TELEPHONE XX XX</td><td> -7.46                        </td><td>3751.73                       </td><td>FACTURE TELEPHONE             </td></tr>\n",
       "\t<tr><th scope=row>261</th><td>2023-09-05                    </td><td>PRELEVEMENT XX TELEPHONE XX XX</td><td> -6.38                        </td><td>3453.96                       </td><td>FACTURE TELEPHONE             </td></tr>\n",
       "\t<tr><th scope=row>309</th><td>2023-10-06                    </td><td>PRELEVEMENT XX TELEPHONE XX XX</td><td>-13.58                        </td><td>2413.58                       </td><td>FACTURE TELEPHONE             </td></tr>\n",
       "</tbody>\n",
       "</table>\n"
      ],
      "text/latex": [
       "\\begin{tabular}{r|lllll}\n",
       "  & date\\_operation & libelle & montant & solde\\_avt\\_ope & categ\\\\\n",
       "\\hline\n",
       "\t9 & 2023-04-05                     & PRELEVEMENT XX TELEPHONE XX XX &  -7.02                         & 2056.02                        & FACTURE TELEPHONE             \\\\\n",
       "\t63 & 2023-05-09                     & PRELEVEMENT XX TELEPHONE XX XX &  -7.02                         & 4090.10                        & FACTURE TELEPHONE             \\\\\n",
       "\t103 & 2023-06-07                     & PRELEVEMENT XX TELEPHONE XX XX &  -6.38                         & 4688.91                        & FACTURE TELEPHONE             \\\\\n",
       "\t157 & 2023-07-06                     & PRELEVEMENT XX TELEPHONE XX XX & -36.48                         & 3295.68                        & NA                            \\\\\n",
       "\t205 & 2023-08-07                     & PRELEVEMENT XX TELEPHONE XX XX &  -7.46                         & 3751.73                        & FACTURE TELEPHONE             \\\\\n",
       "\t261 & 2023-09-05                     & PRELEVEMENT XX TELEPHONE XX XX &  -6.38                         & 3453.96                        & FACTURE TELEPHONE             \\\\\n",
       "\t309 & 2023-10-06                     & PRELEVEMENT XX TELEPHONE XX XX & -13.58                         & 2413.58                        & FACTURE TELEPHONE             \\\\\n",
       "\\end{tabular}\n"
      ],
      "text/markdown": [
       "\n",
       "| <!--/--> | date_operation | libelle | montant | solde_avt_ope | categ |\n",
       "|---|---|---|---|---|---|\n",
       "| 9 | 2023-04-05                     | PRELEVEMENT XX TELEPHONE XX XX |  -7.02                         | 2056.02                        | FACTURE TELEPHONE              |\n",
       "| 63 | 2023-05-09                     | PRELEVEMENT XX TELEPHONE XX XX |  -7.02                         | 4090.10                        | FACTURE TELEPHONE              |\n",
       "| 103 | 2023-06-07                     | PRELEVEMENT XX TELEPHONE XX XX |  -6.38                         | 4688.91                        | FACTURE TELEPHONE              |\n",
       "| 157 | 2023-07-06                     | PRELEVEMENT XX TELEPHONE XX XX | -36.48                         | 3295.68                        | NA                             |\n",
       "| 205 | 2023-08-07                     | PRELEVEMENT XX TELEPHONE XX XX |  -7.46                         | 3751.73                        | FACTURE TELEPHONE              |\n",
       "| 261 | 2023-09-05                     | PRELEVEMENT XX TELEPHONE XX XX |  -6.38                         | 3453.96                        | FACTURE TELEPHONE              |\n",
       "| 309 | 2023-10-06                     | PRELEVEMENT XX TELEPHONE XX XX | -13.58                         | 2413.58                        | FACTURE TELEPHONE              |\n",
       "\n"
      ],
      "text/plain": [
       "    date_operation libelle                        montant solde_avt_ope\n",
       "9   2023-04-05     PRELEVEMENT XX TELEPHONE XX XX  -7.02  2056.02      \n",
       "63  2023-05-09     PRELEVEMENT XX TELEPHONE XX XX  -7.02  4090.10      \n",
       "103 2023-06-07     PRELEVEMENT XX TELEPHONE XX XX  -6.38  4688.91      \n",
       "157 2023-07-06     PRELEVEMENT XX TELEPHONE XX XX -36.48  3295.68      \n",
       "205 2023-08-07     PRELEVEMENT XX TELEPHONE XX XX  -7.46  3751.73      \n",
       "261 2023-09-05     PRELEVEMENT XX TELEPHONE XX XX  -6.38  3453.96      \n",
       "309 2023-10-06     PRELEVEMENT XX TELEPHONE XX XX -13.58  2413.58      \n",
       "    categ            \n",
       "9   FACTURE TELEPHONE\n",
       "63  FACTURE TELEPHONE\n",
       "103 FACTURE TELEPHONE\n",
       "157 NA               \n",
       "205 FACTURE TELEPHONE\n",
       "261 FACTURE TELEPHONE\n",
       "309 FACTURE TELEPHONE"
      ]
     },
     "metadata": {},
     "output_type": "display_data"
    }
   ],
   "source": [
    "data[data$libelle == 'PRELEVEMENT XX TELEPHONE XX XX',]"
   ]
  },
  {
   "cell_type": "markdown",
   "id": "ec9d641a",
   "metadata": {},
   "source": [
    "On déduit assez facilement que la catégorie manquante ici est : FACTURE TELEPHONE"
   ]
  },
  {
   "cell_type": "code",
   "execution_count": 12,
   "id": "2c79ce4c",
   "metadata": {
    "vscode": {
     "languageId": "r"
    }
   },
   "outputs": [],
   "source": [
    "data[is.na(data$categ),'categ'] = 'FACTURE TELEPHONE'"
   ]
  },
  {
   "cell_type": "markdown",
   "id": "9728e3aa",
   "metadata": {},
   "source": [
    "### 3. Doublons \n",
    "\n",
    "Regardons à présent si certaines transactions sont apparues en doublons. Pour cela, on se concentrera sur des informations qui ne peuvent normalement pas être doublés, soit : la date, le libelle, le montant et le solde avant opération. Sur ces 4 variables, il n'est normalement pas possible d'avoir deux transactions identiques :"
   ]
  },
  {
   "cell_type": "code",
   "execution_count": 13,
   "id": "1d995446",
   "metadata": {
    "vscode": {
     "languageId": "r"
    }
   },
   "outputs": [
    {
     "data": {
      "text/html": [
       "<table>\n",
       "<thead><tr><th></th><th scope=col>date_operation</th><th scope=col>libelle</th><th scope=col>montant</th><th scope=col>solde_avt_ope</th><th scope=col>categ</th></tr></thead>\n",
       "<tbody>\n",
       "\t<tr><th scope=row>44</th><td>2023-04-25                         </td><td>CARTE XX XX LES ANCIENS ROBINSON XX</td><td>-32.67                             </td><td>3647.67                            </td><td>COURSES                            </td></tr>\n",
       "\t<tr><th scope=row>45</th><td>2023-04-25                         </td><td>CARTE XX XX LES ANCIENS ROBINSON XX</td><td>-32.67                             </td><td>3647.67                            </td><td>COURSES                            </td></tr>\n",
       "</tbody>\n",
       "</table>\n"
      ],
      "text/latex": [
       "\\begin{tabular}{r|lllll}\n",
       "  & date\\_operation & libelle & montant & solde\\_avt\\_ope & categ\\\\\n",
       "\\hline\n",
       "\t44 & 2023-04-25                          & CARTE XX XX LES ANCIENS ROBINSON XX & -32.67                              & 3647.67                             & COURSES                            \\\\\n",
       "\t45 & 2023-04-25                          & CARTE XX XX LES ANCIENS ROBINSON XX & -32.67                              & 3647.67                             & COURSES                            \\\\\n",
       "\\end{tabular}\n"
      ],
      "text/markdown": [
       "\n",
       "| <!--/--> | date_operation | libelle | montant | solde_avt_ope | categ |\n",
       "|---|---|---|---|---|---|\n",
       "| 44 | 2023-04-25                          | CARTE XX XX LES ANCIENS ROBINSON XX | -32.67                              | 3647.67                             | COURSES                             |\n",
       "| 45 | 2023-04-25                          | CARTE XX XX LES ANCIENS ROBINSON XX | -32.67                              | 3647.67                             | COURSES                             |\n",
       "\n"
      ],
      "text/plain": [
       "   date_operation libelle                             montant solde_avt_ope\n",
       "44 2023-04-25     CARTE XX XX LES ANCIENS ROBINSON XX -32.67  3647.67      \n",
       "45 2023-04-25     CARTE XX XX LES ANCIENS ROBINSON XX -32.67  3647.67      \n",
       "   categ  \n",
       "44 COURSES\n",
       "45 COURSES"
      ]
     },
     "metadata": {},
     "output_type": "display_data"
    }
   ],
   "source": [
    "col = c('date_operation', 'libelle', 'montant', 'solde_avt_ope')\n",
    "data[duplicated(data[col]) | duplicated(data[col], fromLast=TRUE),]"
   ]
  },
  {
   "cell_type": "markdown",
   "id": "653c307e",
   "metadata": {},
   "source": [
    "On a ici une opération qui est complètement en double. Il suffit donc de supprimer l'une des deux via le drop_duplicate"
   ]
  },
  {
   "cell_type": "code",
   "execution_count": 14,
   "id": "28be5947",
   "metadata": {
    "vscode": {
     "languageId": "r"
    }
   },
   "outputs": [],
   "source": [
    "data = data[!duplicated(data[col]),]"
   ]
  },
  {
   "cell_type": "markdown",
   "id": "e158434d",
   "metadata": {},
   "source": [
    "### 4. Détection d'outliers :\n",
    "\n",
    "Un `summary` peut potentiellement nous aider dans un premier temps :"
   ]
  },
  {
   "cell_type": "code",
   "execution_count": 15,
   "id": "a31c2530",
   "metadata": {
    "vscode": {
     "languageId": "r"
    }
   },
   "outputs": [
    {
     "data": {
      "text/plain": [
       " date_operation         libelle             montant           solde_avt_ope \n",
       " Min.   :2023-03-31   Length:308         Min.   :-15000.000   Min.   :1417  \n",
       " 1st Qu.:2023-05-21   Class :character   1st Qu.:   -20.448   1st Qu.:3011  \n",
       " Median :2023-07-05   Mode  :character   Median :    -9.600   Median :3452  \n",
       " Mean   :2023-07-05                      Mean   :   -45.782   Mean   :3395  \n",
       " 3rd Qu.:2023-08-21                      3rd Qu.:    -2.715   3rd Qu.:3787  \n",
       " Max.   :2023-10-06                      Max.   :  1071.600   Max.   :4709  \n",
       "    categ          \n",
       " Length:308        \n",
       " Class :character  \n",
       " Mode  :character  \n",
       "                   \n",
       "                   \n",
       "                   "
      ]
     },
     "metadata": {},
     "output_type": "display_data"
    }
   ],
   "source": [
    "summary(data)"
   ]
  },
  {
   "cell_type": "markdown",
   "id": "16e608d1",
   "metadata": {},
   "source": [
    "Une bonne première approche en attendant d'avoir des outils plus adéquats, est de regarder le maximum et le minimum. Cela donne généralement un premier apperçu de ce qui pourrait clocher à ce niveau. Ici on voit un minimum de montant de -15 000 (ce qui correspondrait à un débit de -15000). Cela semble assez étonnant, d'autant que le solde ne semble pas descendre en conséquence à aucun moment (le max est 4700 et le minimum 1416). Vérifions les soldes autour de cette transaction :"
   ]
  },
  {
   "cell_type": "code",
   "execution_count": 16,
   "id": "e2defd2f",
   "metadata": {
    "vscode": {
     "languageId": "r"
    }
   },
   "outputs": [
    {
     "data": {
      "text/html": [
       "<table>\n",
       "<thead><tr><th></th><th scope=col>date_operation</th><th scope=col>libelle</th><th scope=col>montant</th><th scope=col>solde_avt_ope</th><th scope=col>categ</th></tr></thead>\n",
       "<tbody>\n",
       "\t<tr><th scope=row>199</th><td>2023-08-03                                  </td><td>VIREMENT XX XX XX XX XX XX XX XX XX XX XX XX</td><td>   676.00                                   </td><td>3121.35                                     </td><td>AUTRE                                       </td></tr>\n",
       "\t<tr><th scope=row>200</th><td>2023-08-03                                  </td><td>CARTE XX XX XX XX                           </td><td>-15000.00                                   </td><td>3797.35                                     </td><td>AUTRE                                       </td></tr>\n",
       "\t<tr><th scope=row>201</th><td>2023-08-03                                  </td><td>CARTE XX XX L'EPICERIE DEMBAS XX XX         </td><td>   -10.51                                   </td><td>3782.96                                     </td><td>AUTRE                                       </td></tr>\n",
       "</tbody>\n",
       "</table>\n"
      ],
      "text/latex": [
       "\\begin{tabular}{r|lllll}\n",
       "  & date\\_operation & libelle & montant & solde\\_avt\\_ope & categ\\\\\n",
       "\\hline\n",
       "\t199 & 2023-08-03                                   & VIREMENT XX XX XX XX XX XX XX XX XX XX XX XX &    676.00                                    & 3121.35                                      & AUTRE                                       \\\\\n",
       "\t200 & 2023-08-03                                   & CARTE XX XX XX XX                            & -15000.00                                    & 3797.35                                      & AUTRE                                       \\\\\n",
       "\t201 & 2023-08-03                                   & CARTE XX XX L'EPICERIE DEMBAS XX XX          &    -10.51                                    & 3782.96                                      & AUTRE                                       \\\\\n",
       "\\end{tabular}\n"
      ],
      "text/markdown": [
       "\n",
       "| <!--/--> | date_operation | libelle | montant | solde_avt_ope | categ |\n",
       "|---|---|---|---|---|---|\n",
       "| 199 | 2023-08-03                                   | VIREMENT XX XX XX XX XX XX XX XX XX XX XX XX |    676.00                                    | 3121.35                                      | AUTRE                                        |\n",
       "| 200 | 2023-08-03                                   | CARTE XX XX XX XX                            | -15000.00                                    | 3797.35                                      | AUTRE                                        |\n",
       "| 201 | 2023-08-03                                   | CARTE XX XX L'EPICERIE DEMBAS XX XX          |    -10.51                                    | 3782.96                                      | AUTRE                                        |\n",
       "\n"
      ],
      "text/plain": [
       "    date_operation libelle                                      montant  \n",
       "199 2023-08-03     VIREMENT XX XX XX XX XX XX XX XX XX XX XX XX    676.00\n",
       "200 2023-08-03     CARTE XX XX XX XX                            -15000.00\n",
       "201 2023-08-03     CARTE XX XX L'EPICERIE DEMBAS XX XX             -10.51\n",
       "    solde_avt_ope categ\n",
       "199 3121.35       AUTRE\n",
       "200 3797.35       AUTRE\n",
       "201 3782.96       AUTRE"
      ]
     },
     "metadata": {},
     "output_type": "display_data"
    }
   ],
   "source": [
    "i = as.numeric(rownames(data[data$montant==-15000,])) # récupération de l'index de la transaction à -15000\n",
    "\n",
    "data[(i-2):i,] # on regarde la transaction précédente et la suivante"
   ]
  },
  {
   "cell_type": "markdown",
   "id": "3652f48b",
   "metadata": {},
   "source": [
    "Il y a en effet une grosse incohérence. Les soldes nous indique une opération de -14.39 et non de -15000. Il y a en effet une valeur abérrante ici ! Remplaçons donc là pour sa valeur initiale :"
   ]
  },
  {
   "cell_type": "code",
   "execution_count": 17,
   "id": "20d11b3e",
   "metadata": {
    "vscode": {
     "languageId": "r"
    }
   },
   "outputs": [],
   "source": [
    "data[data$montant==-15000, 'montant'] = -14.39"
   ]
  },
  {
   "cell_type": "markdown",
   "id": "ec1e8f0a",
   "metadata": {},
   "source": [
    "Le jeu de données semble à présent propre, on peut avancer sur la partie analyse."
   ]
  },
  {
   "cell_type": "markdown",
   "id": "e98a5b20",
   "metadata": {},
   "source": [
    "# <a name=\"C3\"> P3C1 - Représentez la distribution empirique d'une variable</a>\n",
    "\n",
    "**1. variables qualitatives**\n",
    "\n",
    "Voici 2 représentations possibles de la distribution de la variable categ :"
   ]
  },
  {
   "cell_type": "code",
   "execution_count": 18,
   "id": "b939c80a",
   "metadata": {
    "vscode": {
     "languageId": "r"
    }
   },
   "outputs": [
    {
     "data": {
      "image/png": "[encoded data removed]",
      "text/plain": [
       "plot without title"
      ]
     },
     "metadata": {},
     "output_type": "display_data"
    },
    {
     "data": {
      "image/png": "[encoded data removed]",
      "text/plain": [
       "plot without title"
      ]
     },
     "metadata": {},
     "output_type": "display_data"
    }
   ],
   "source": [
    "# VARIABLE QUALITATIVE\n",
    "value_counts = as.data.frame(table(data$categ))\n",
    "colnames(value_counts) = c(\"categ\",\"effectifs\")\n",
    "\n",
    "# Diagramme en secteurs\n",
    "ggplot(value_counts, aes(\"\",effectifs,fill=categ)) +\n",
    "    geom_bar(width = 1, stat = \"identity\") +\n",
    "    coord_polar(\"y\")\n",
    "\n",
    "# Diagramme en tuyaux d'orgues\n",
    "ggplot(value_counts, aes(categ,effectifs)) + geom_bar(stat = \"identity\")"
   ]
  },
  {
   "cell_type": "markdown",
   "id": "9f4ffccf",
   "metadata": {},
   "source": [
    "À gauche, vous avez le diagramme en secteurs, plus connu sous le nom de diagramme en camembert. Si les francophones y voient un camembert (fleuron de la gastronomie française), les anglophones y voient plutôt une tarte, et l'appellent donc **pie chart**. Ici, l'angle de chaque secteur est proportionnel à l'effectif de chaque modalité.\n",
    "\n",
    "À droite, c'est le diagramme en tuyaux d'orgue, appelé en anglais **bar chart**. La hauteur des tuyaux est égale à l'effectif de chaque modalité, ou bien (au choix) égale à la fréquence de chaque modalité, comme c'est le cas ici.\n",
    "\n",
    "**2. Variables quantitatives**\n",
    "\n",
    "Pour les **variables discrètes**, on les représente par un équivalent du diagramme en tuyaux d'orgue : **le diagramme en bâtons**. Cependant, avec les variables qualitatives, on pouvait placer les tuyaux un peu n'importe où sur l'axe horizontal. Mais avec une variable quantitative, on est contraint à placer précisément les bâtons sur l'axe horizontal. Comme on doit être précis, on préfère que les bâtons soient très fins. \n",
    "\n",
    "Pour représenter cela, nous allons créer une variable `quart_mois` pouvant prendre les valeurs 1, 2, 3 ou 4, et indiquant l'avancée dans le mois (1 : début, ..., 4 : fin de mois) :"
   ]
  },
  {
   "cell_type": "code",
   "execution_count": 19,
   "id": "69bf6def",
   "metadata": {
    "vscode": {
     "languageId": "r"
    }
   },
   "outputs": [],
   "source": [
    "data[\"jour\"] = apply(data[\"date_operation\"], 1, FUN=function(d) as.integer(format(as.Date(d),\"%d\"))) \n",
    "data[\"quart_mois\"] = apply(data[\"jour\"], 1, function(jour) as.integer((jour-1)*4/31)+1 )\n",
    "data[\"jour\"] <- NULL"
   ]
  },
  {
   "cell_type": "markdown",
   "id": "30b90562",
   "metadata": {},
   "source": [
    "On peut à présent représenter sa distribution :"
   ]
  },
  {
   "cell_type": "code",
   "execution_count": 20,
   "id": "6afcb0e8",
   "metadata": {
    "vscode": {
     "languageId": "r"
    }
   },
   "outputs": [
    {
     "data": {
      "image/png": "[encoded data removed]",
      "text/plain": [
       "plot without title"
      ]
     },
     "metadata": {},
     "output_type": "display_data"
    }
   ],
   "source": [
    "# Diagramme en bâtons\n",
    "value_counts = as.data.frame(table(data$quart_mois))\n",
    "colnames(value_counts) = c(\"quart_mois\",\"effectifs\")\n",
    "ggplot(value_counts, aes(quart_mois,effectifs)) + geom_bar(stat = \"identity\")"
   ]
  },
  {
   "cell_type": "markdown",
   "id": "37fdf7a9",
   "metadata": {},
   "source": [
    "Pour les variables **continues**, on utilise l'histogramme, dans lequel les valeurs sont agrégées. Ici, comme on représente des classes (ou des intervalles, si vous préférez), on n'utilise plus de fins bâtons, mais des rectangles dont la largeur correspond à la largeur de la classe."
   ]
  },
  {
   "cell_type": "code",
   "execution_count": 21,
   "id": "354f3798",
   "metadata": {
    "vscode": {
     "languageId": "r"
    }
   },
   "outputs": [
    {
     "name": "stderr",
     "output_type": "stream",
     "text": [
      "`stat_bin()` using `bins = 30`. Pick better value with `binwidth`.\n"
     ]
    },
    {
     "data": {
      "image/png": "[encoded data removed]",
      "text/plain": [
       "plot without title"
      ]
     },
     "metadata": {},
     "output_type": "display_data"
    },
    {
     "data": {
      "image/png": "[encoded data removed]",
      "text/plain": [
       "plot without title"
      ]
     },
     "metadata": {},
     "output_type": "display_data"
    }
   ],
   "source": [
    "# Histogramme\n",
    "ggplot(data, aes(montant)) + geom_histogram()\n",
    "\n",
    "# Histogramme plus beau\n",
    "subset = data[abs(data$montant) < 100,]\n",
    "ggplot(subset, aes(montant)) + geom_histogram(bins=20)"
   ]
  },
  {
   "cell_type": "markdown",
   "id": "f244d1f2",
   "metadata": {},
   "source": [
    "# <a name=\"C4\"> P3C2 - Présentez une variable sous forme de tableau</a>\n",
    "\n",
    "Voici le code qui a généré le tableau récapitulatif de la variable quart_mois."
   ]
  },
  {
   "cell_type": "code",
   "execution_count": 22,
   "id": "d5369742",
   "metadata": {
    "vscode": {
     "languageId": "r"
    }
   },
   "outputs": [
    {
     "data": {
      "text/html": [
       "<table>\n",
       "<thead><tr><th scope=col>quart_mois</th><th scope=col>n</th><th scope=col>f</th></tr></thead>\n",
       "<tbody>\n",
       "\t<tr><td>1        </td><td>86       </td><td>0.2792208</td></tr>\n",
       "\t<tr><td>2        </td><td>76       </td><td>0.2467532</td></tr>\n",
       "\t<tr><td>3        </td><td>75       </td><td>0.2435065</td></tr>\n",
       "\t<tr><td>4        </td><td>71       </td><td>0.2305195</td></tr>\n",
       "</tbody>\n",
       "</table>\n"
      ],
      "text/latex": [
       "\\begin{tabular}{r|lll}\n",
       " quart\\_mois & n & f\\\\\n",
       "\\hline\n",
       "\t 1         & 86        & 0.2792208\\\\\n",
       "\t 2         & 76        & 0.2467532\\\\\n",
       "\t 3         & 75        & 0.2435065\\\\\n",
       "\t 4         & 71        & 0.2305195\\\\\n",
       "\\end{tabular}\n"
      ],
      "text/markdown": [
       "\n",
       "| quart_mois | n | f |\n",
       "|---|---|---|\n",
       "| 1         | 86        | 0.2792208 |\n",
       "| 2         | 76        | 0.2467532 |\n",
       "| 3         | 75        | 0.2435065 |\n",
       "| 4         | 71        | 0.2305195 |\n",
       "\n"
      ],
      "text/plain": [
       "  quart_mois n  f        \n",
       "1 1          86 0.2792208\n",
       "2 2          76 0.2467532\n",
       "3 3          75 0.2435065\n",
       "4 4          71 0.2305195"
      ]
     },
     "metadata": {},
     "output_type": "display_data"
    }
   ],
   "source": [
    "tab = as.data.frame(table(data$quart_mois))\n",
    "colnames(tab) = c(\"quart_mois\",\"n\")\n",
    "tab[\"f\"] = tab[\"n\"] / nrow(data)\n",
    "\n",
    "tab"
   ]
  },
  {
   "cell_type": "markdown",
   "id": "a866ff61",
   "metadata": {},
   "source": [
    "Pour calculer les fréquences cumulées, il suffit de 2 lignes en plus. L'une trie les valeurs, et l'autre calcule la somme cumulée des fréquences :"
   ]
  },
  {
   "cell_type": "code",
   "execution_count": 23,
   "id": "03c36c8b",
   "metadata": {
    "vscode": {
     "languageId": "r"
    }
   },
   "outputs": [
    {
     "data": {
      "text/html": [
       "<table>\n",
       "<thead><tr><th scope=col>quart_mois</th><th scope=col>n</th><th scope=col>f</th><th scope=col>F</th></tr></thead>\n",
       "<tbody>\n",
       "\t<tr><td>1        </td><td>86       </td><td>0.2792208</td><td>0.2792208</td></tr>\n",
       "\t<tr><td>2        </td><td>76       </td><td>0.2467532</td><td>0.5259740</td></tr>\n",
       "\t<tr><td>3        </td><td>75       </td><td>0.2435065</td><td>0.7694805</td></tr>\n",
       "\t<tr><td>4        </td><td>71       </td><td>0.2305195</td><td>1.0000000</td></tr>\n",
       "</tbody>\n",
       "</table>\n"
      ],
      "text/latex": [
       "\\begin{tabular}{r|llll}\n",
       " quart\\_mois & n & f & F\\\\\n",
       "\\hline\n",
       "\t 1         & 86        & 0.2792208 & 0.2792208\\\\\n",
       "\t 2         & 76        & 0.2467532 & 0.5259740\\\\\n",
       "\t 3         & 75        & 0.2435065 & 0.7694805\\\\\n",
       "\t 4         & 71        & 0.2305195 & 1.0000000\\\\\n",
       "\\end{tabular}\n"
      ],
      "text/markdown": [
       "\n",
       "| quart_mois | n | f | F |\n",
       "|---|---|---|---|\n",
       "| 1         | 86        | 0.2792208 | 0.2792208 |\n",
       "| 2         | 76        | 0.2467532 | 0.5259740 |\n",
       "| 3         | 75        | 0.2435065 | 0.7694805 |\n",
       "| 4         | 71        | 0.2305195 | 1.0000000 |\n",
       "\n"
      ],
      "text/plain": [
       "  quart_mois n  f         F        \n",
       "1 1          86 0.2792208 0.2792208\n",
       "2 2          76 0.2467532 0.5259740\n",
       "3 3          75 0.2435065 0.7694805\n",
       "4 4          71 0.2305195 1.0000000"
      ]
     },
     "metadata": {},
     "output_type": "display_data"
    }
   ],
   "source": [
    "tab = tab[order(tab$quart_mois),]\n",
    "tab[\"F\"] = cumsum(tab[\"f\"])\n",
    "tab"
   ]
  },
  {
   "cell_type": "markdown",
   "id": "f492c278",
   "metadata": {},
   "source": [
    "# <a name=\"C5\"> P3C4 - Découvrez les mesures de tendance centrale</a>\n",
    "\n",
    "En R, le calcul du mode est un peu plus complexe qu'en Python. Il va falloir créer une fonction intermédiaire qui va nous permettre de calculer le mode :"
   ]
  },
  {
   "cell_type": "code",
   "execution_count": 24,
   "id": "85e27b8c",
   "metadata": {
    "vscode": {
     "languageId": "r"
    }
   },
   "outputs": [],
   "source": [
    "mode = function(v) {\n",
    "   uniqv = unique(v)\n",
    "   uniqv[which.max(tabulate(match(v, uniqv)))]\n",
    "}"
   ]
  },
  {
   "cell_type": "markdown",
   "id": "323659b7",
   "metadata": {},
   "source": [
    "Qu'on peut utiliser simplement avec :"
   ]
  },
  {
   "cell_type": "code",
   "execution_count": 25,
   "id": "822b0a2a",
   "metadata": {
    "vscode": {
     "languageId": "r"
    }
   },
   "outputs": [
    {
     "data": {
      "text/html": [
       "-1.6"
      ],
      "text/latex": [
       "-1.6"
      ],
      "text/markdown": [
       "-1.6"
      ],
      "text/plain": [
       "[1] -1.6"
      ]
     },
     "metadata": {},
     "output_type": "display_data"
    }
   ],
   "source": [
    "mode(data$montant)"
   ]
  },
  {
   "cell_type": "markdown",
   "id": "aa5a4b53",
   "metadata": {},
   "source": [
    "Voici comment calculer la moyenne des montants dépensés :"
   ]
  },
  {
   "cell_type": "code",
   "execution_count": 26,
   "id": "0d2375b3",
   "metadata": {
    "vscode": {
     "languageId": "r"
    }
   },
   "outputs": [
    {
     "data": {
      "text/html": [
       "2.87256493506493"
      ],
      "text/latex": [
       "2.87256493506493"
      ],
      "text/markdown": [
       "2.87256493506493"
      ],
      "text/plain": [
       "[1] 2.872565"
      ]
     },
     "metadata": {},
     "output_type": "display_data"
    }
   ],
   "source": [
    "mean(data$montant)"
   ]
  },
  {
   "cell_type": "markdown",
   "id": "fe6dfd7e",
   "metadata": {},
   "source": [
    "Voilà comment calculer la médiane des montants :"
   ]
  },
  {
   "cell_type": "code",
   "execution_count": 27,
   "id": "3bbabc78",
   "metadata": {
    "vscode": {
     "languageId": "r"
    }
   },
   "outputs": [
    {
     "data": {
      "text/html": [
       "-9.6"
      ],
      "text/latex": [
       "-9.6"
      ],
      "text/markdown": [
       "-9.6"
      ],
      "text/plain": [
       "[1] -9.6"
      ]
     },
     "metadata": {},
     "output_type": "display_data"
    }
   ],
   "source": [
    "median(data$montant)"
   ]
  },
  {
   "cell_type": "markdown",
   "id": "d7a39ca1",
   "metadata": {},
   "source": [
    "Analysons un peu plus en détail notre variable montant.\n",
    "\n",
    "Les montants des opérations sont très hétérogènes : il y a des dépenses (à montant négatif) parfois grosses (les loyers, par exemple), souvent petites (courses, téléphone, etc.), et il y a des rentrées d'argent (à montant positif), peu fréquentes mais grosses. Difficile donc d'interpréter la moyenne (très sensible aux valeurs atypiques) qui vaut ici 2,87 €.\n",
    "\n",
    "On a le même problème pour la médiane qui vaut -9,6 €. Le fait qu'elle soit négative nous indique cependant qu'il y a plus de dépenses que d'entrées d'argent. Par contre, le mode nous indique que la plupart des opérations tournent autour de -1,6 €. Ici, les 3 mesures sont très éloignées les unes des autres.\n",
    "\n",
    "Pour avoir des montants d'opérations plus homogènes, il serait intéressant de calculer ces mesures pour chaque catégorie d'opération : les montants devraient être moins éparpillés au sein d'une catégorie puisque les opérations sont de même nature. Je vous laisse le faire en Python. Vous pouvez réaliser cela via une boucle `for`, qui itérera sur chacune des catégories. Ne vous arrêtez cependant pas uniquement au code, essayez d'en tirer une dimension analytique : quelle interprétation pouvez-vous faire des résultats ?"
   ]
  },
  {
   "cell_type": "code",
   "execution_count": 28,
   "id": "3bee6b81",
   "metadata": {
    "scrolled": true,
    "vscode": {
     "languageId": "r"
    }
   },
   "outputs": [
    {
     "name": "stdout",
     "output_type": "stream",
     "text": [
      "[1] \"--------------------\"\n",
      "[1] \"AUTRE\"\n",
      "[1] \"mod\"\n",
      "[1] -1.6\n",
      "[1] \"moy\"\n",
      "[1] 23.43321\n",
      "[1] \"med\"\n",
      "[1] -8.31\n",
      "[1] \"--------------------\"\n",
      "[1] \"TRANSPORT\"\n",
      "[1] \"mod\"\n",
      "[1] -73\n",
      "[1] \"moy\"\n",
      "[1] -52.99714\n",
      "[1] \"med\"\n",
      "[1] -53.1\n",
      "[1] \"--------------------\"\n",
      "[1] \"FACTURE TELEPHONE\"\n",
      "[1] \"mod\"\n",
      "[1] -7.02\n",
      "[1] \"moy\"\n",
      "[1] -12.04571\n",
      "[1] \"med\"\n",
      "[1] -7.02\n",
      "[1] \"--------------------\"\n",
      "[1] \"COURSES\"\n",
      "[1] \"mod\"\n",
      "[1] -6.8\n",
      "[1] \"moy\"\n",
      "[1] -16.34128\n",
      "[1] \"med\"\n",
      "[1] -12.24\n",
      "[1] \"--------------------\"\n",
      "[1] \"COTISATION BANCAIRE\"\n",
      "[1] \"mod\"\n",
      "[1] -1.92\n",
      "[1] \"moy\"\n",
      "[1] -1.885714\n",
      "[1] \"med\"\n",
      "[1] -1.92\n",
      "[1] \"--------------------\"\n",
      "[1] \"RESTAURANT\"\n",
      "[1] \"mod\"\n",
      "[1] -9.2\n",
      "[1] \"moy\"\n",
      "[1] -10.3325\n",
      "[1] \"med\"\n",
      "[1] -10.1\n",
      "[1] \"--------------------\"\n",
      "[1] \"LOYER\"\n",
      "[1] \"mod\"\n",
      "[1] -345\n",
      "[1] \"moy\"\n",
      "[1] -345\n",
      "[1] \"med\"\n",
      "[1] -345\n"
     ]
    },
    {
     "data": {
      "image/png": "[encoded data removed]",
      "text/plain": [
       "plot without title"
      ]
     },
     "metadata": {},
     "output_type": "display_data"
    },
    {
     "data": {
      "image/png": "[encoded data removed]",
      "text/plain": [
       "plot without title"
      ]
     },
     "metadata": {},
     "output_type": "display_data"
    },
    {
     "data": {
      "image/png": "[encoded data removed]",
      "text/plain": [
       "plot without title"
      ]
     },
     "metadata": {},
     "output_type": "display_data"
    },
    {
     "data": {
      "image/png": "[encoded data removed]",
      "text/plain": [
       "plot without title"
      ]
     },
     "metadata": {},
     "output_type": "display_data"
    },
    {
     "data": {
      "image/png": "[encoded data removed]",
      "text/plain": [
       "plot without title"
      ]
     },
     "metadata": {},
     "output_type": "display_data"
    },
    {
     "name": "stderr",
     "output_type": "stream",
     "text": [
      "Warning message:\n",
      "\"Computation failed in `stat_bin()`:\n",
      "`binwidth` must be positive\""
     ]
    },
    {
     "data": {
      "image/png": "[encoded data removed]",
      "text/plain": [
       "plot without title"
      ]
     },
     "metadata": {},
     "output_type": "display_data"
    },
    {
     "data": {
      "image/png": "[encoded data removed]",
      "text/plain": [
       "plot without title"
      ]
     },
     "metadata": {},
     "output_type": "display_data"
    }
   ],
   "source": [
    "for(cat in unique(data$categ)){\n",
    "    sous_echantillon = data[data$categ == cat,] # Création du sous-échantillon\n",
    "    print(\"--------------------\")\n",
    "    print(cat)\n",
    "    print(\"mod\");print(mode(sous_echantillon$montant))\n",
    "    print(\"moy\");print(mean(sous_echantillon$montant))\n",
    "    print(\"med\");print(median(sous_echantillon$montant))\n",
    "}\n",
    "\n",
    "for(cat in unique(data$categ)){\n",
    "    sous_echantillon = data[data$categ == cat,]\n",
    "    print(ggplot(sous_echantillon, aes(montant)) + geom_histogram(bins=20) + labs(title=cat)) # Création de l'histogramme\n",
    "}"
   ]
  },
  {
   "cell_type": "markdown",
   "id": "63babd43",
   "metadata": {},
   "source": [
    "Pour chaque catégorie, on crée un sous-échantillon (subset) qui contient uniquement les opérations de la catégorie en cours. On affiche en lignes 5 à 7 les 3 mesures, et on affiche également l'histogramme pour mettre en perspectives les 3 mesures. A vous d'interpréter vos résultats !"
   ]
  },
  {
   "cell_type": "markdown",
   "id": "02f2c017",
   "metadata": {},
   "source": [
    "# <a name=\"C6\">P3C5 - Comprenez les mesures de dispersion</a>\n",
    "\n",
    "Pour calculer la variance en Python, cela se fait très facilement ! Il suffit d'utiliser la méthode .var() sur la variable considérée. Par exemple avec la variable montant :"
   ]
  },
  {
   "cell_type": "code",
   "execution_count": 29,
   "id": "03f86d4d",
   "metadata": {
    "vscode": {
     "languageId": "r"
    }
   },
   "outputs": [
    {
     "data": {
      "text/html": [
       "31007.6380406309"
      ],
      "text/latex": [
       "31007.6380406309"
      ],
      "text/markdown": [
       "31007.6380406309"
      ],
      "text/plain": [
       "[1] 31007.64"
      ]
     },
     "metadata": {},
     "output_type": "display_data"
    }
   ],
   "source": [
    "var(data$montant)"
   ]
  },
  {
   "cell_type": "markdown",
   "id": "baa29f67",
   "metadata": {},
   "source": [
    "Aussi, vous trouverez souvent une version \"corrigée\" de la variance empirique, que l'on qualifie de non biaisée. En effet, quand on se plonge dans les calculs, on s'aperçoit que la variance empirique donne des valeurs qui (en moyenne) sont inférieures à la variance de la variable aléatoire. Il s'agit de la notion de biais d'un estimateur. Un estimateur sans biais est meilleur qu'un estimateur biaisé.\n",
    "\n",
    "Pour corriger ce biais, on a créé la variance empirique corrigée, ou variance empirique sans biais. Voici comment calculer la variance empirique corrigée en R :"
   ]
  },
  {
   "cell_type": "code",
   "execution_count": 30,
   "id": "618d5890",
   "metadata": {
    "vscode": {
     "languageId": "r"
    }
   },
   "outputs": [
    {
     "data": {
      "text/html": [
       "30906.9638911484"
      ],
      "text/latex": [
       "30906.9638911484"
      ],
      "text/markdown": [
       "30906.9638911484"
      ],
      "text/plain": [
       "[1] 30906.96"
      ]
     },
     "metadata": {},
     "output_type": "display_data"
    }
   ],
   "source": [
    "n = length(data$montant)\n",
    "var(data$montant)*(n-1)/n"
   ]
  },
  {
   "cell_type": "markdown",
   "id": "46348b92",
   "metadata": {},
   "source": [
    "Voilà comment calculer l'écart-type de la variable montant :"
   ]
  },
  {
   "cell_type": "code",
   "execution_count": 31,
   "id": "eb5c17f9",
   "metadata": {
    "vscode": {
     "languageId": "r"
    }
   },
   "outputs": [
    {
     "data": {
      "text/html": [
       "176.089857858512"
      ],
      "text/latex": [
       "176.089857858512"
      ],
      "text/markdown": [
       "176.089857858512"
      ],
      "text/plain": [
       "[1] 176.0899"
      ]
     },
     "metadata": {},
     "output_type": "display_data"
    }
   ],
   "source": [
    "sd(data$montant)"
   ]
  },
  {
   "cell_type": "markdown",
   "id": "c1d198fa",
   "metadata": {},
   "source": [
    "Mais lorsque vous faites un trajet, un écart-type de 6,55 minutes sur un trajet de 1 h (1h en moyenne), ce n'est pas la même chose qu'un écart-type de 6,55 minutes sur un trajet de 24 h (24h en moyenne) ! Pour remédier à cela, on a donc créé le coefficient de variation qui est l'écart-type empirique divisé par la moyenne.\n",
    "\n",
    "Le calcul de ce dernier en R est tout aussi simple :"
   ]
  },
  {
   "cell_type": "code",
   "execution_count": 32,
   "id": "5c0b8dd7",
   "metadata": {
    "vscode": {
     "languageId": "r"
    }
   },
   "outputs": [
    {
     "data": {
      "text/html": [
       "175.51813754079"
      ],
      "text/latex": [
       "175.51813754079"
      ],
      "text/markdown": [
       "175.51813754079"
      ],
      "text/plain": [
       "[1] 175.5181"
      ]
     },
     "metadata": {},
     "output_type": "display_data"
    }
   ],
   "source": [
    "n = length(data$montant)\n",
    "sd(data$montant)*(n-1)/n"
   ]
  },
  {
   "cell_type": "markdown",
   "id": "0ffed292",
   "metadata": {},
   "source": [
    "Nous pouvons facilement construire une boîte à moustaches avec Python :"
   ]
  },
  {
   "cell_type": "code",
   "execution_count": 33,
   "id": "1d538fa3",
   "metadata": {
    "scrolled": true,
    "vscode": {
     "languageId": "r"
    }
   },
   "outputs": [
    {
     "data": {
      "image/png": "[encoded data removed]",
      "text/plain": [
       "plot without title"
      ]
     },
     "metadata": {},
     "output_type": "display_data"
    }
   ],
   "source": [
    "ggplot(data, aes(x=\"\", y=montant)) + geom_boxplot() + coord_flip() + labs(title=cat)"
   ]
  },
  {
   "cell_type": "markdown",
   "id": "6b4a9fa4",
   "metadata": {},
   "source": [
    "À votre tour ! Reprenez le code développé lors du chapitre précédent, en y ajoutant pour chaque catégorie :\n",
    "- l'écart-type ;\n",
    "- la variance ;\n",
    "- un histogramme ;\n",
    "- une boîte à moustache des montants."
   ]
  },
  {
   "cell_type": "code",
   "execution_count": 34,
   "id": "fdebdeb3",
   "metadata": {
    "scrolled": true,
    "vscode": {
     "languageId": "r"
    }
   },
   "outputs": [
    {
     "name": "stdout",
     "output_type": "stream",
     "text": [
      "[1] \"--------------------\"\n",
      "[1] \"AUTRE\"\n",
      "[1] \"mod\"\n",
      "[1] -1.6\n",
      "[1] \"moy\"\n",
      "[1] 23.43321\n",
      "[1] \"med\"\n",
      "[1] -8.31\n",
      "[1] \"var\"\n",
      "[1] 40593.31\n",
      "[1] \"std\"\n",
      "[1] 201.4778\n",
      "[1] \"--------------------\"\n",
      "[1] \"TRANSPORT\"\n",
      "[1] \"mod\"\n",
      "[1] -73\n",
      "[1] \"moy\"\n",
      "[1] -52.99714\n",
      "[1] \"med\"\n",
      "[1] -53.1\n",
      "[1] \"var\"\n",
      "[1] 2315.268\n",
      "[1] \"std\"\n",
      "[1] 48.11723\n",
      "[1] \"--------------------\"\n",
      "[1] \"FACTURE TELEPHONE\"\n",
      "[1] \"mod\"\n",
      "[1] -7.02\n",
      "[1] \"moy\"\n",
      "[1] -12.04571\n",
      "[1] \"med\"\n",
      "[1] -7.02\n",
      "[1] \"var\"\n",
      "[1] 122.5222\n",
      "[1] \"std\"\n",
      "[1] 11.06898\n",
      "[1] \"--------------------\"\n",
      "[1] \"COURSES\"\n",
      "[1] \"mod\"\n",
      "[1] -6.8\n",
      "[1] \"moy\"\n",
      "[1] -16.34128\n",
      "[1] \"med\"\n",
      "[1] -12.24\n",
      "[1] \"var\"\n",
      "[1] 181.6839\n",
      "[1] \"std\"\n",
      "[1] 13.47902\n",
      "[1] \"--------------------\"\n",
      "[1] \"COTISATION BANCAIRE\"\n",
      "[1] \"mod\"\n",
      "[1] -1.92\n",
      "[1] \"moy\"\n",
      "[1] -1.885714\n",
      "[1] \"med\"\n",
      "[1] -1.92\n",
      "[1] \"var\"\n",
      "[1] 0.001828571\n",
      "[1] \"std\"\n",
      "[1] 0.0427618\n",
      "[1] \"--------------------\"\n",
      "[1] \"RESTAURANT\"\n",
      "[1] \"mod\"\n",
      "[1] -9.2\n",
      "[1] \"moy\"\n",
      "[1] -10.3325\n",
      "[1] \"med\"\n",
      "[1] -10.1\n",
      "[1] \"var\"\n",
      "[1] 3.043407\n",
      "[1] \"std\"\n",
      "[1] 1.744536\n",
      "[1] \"--------------------\"\n",
      "[1] \"LOYER\"\n",
      "[1] \"mod\"\n",
      "[1] -345\n",
      "[1] \"moy\"\n",
      "[1] -345\n",
      "[1] \"med\"\n",
      "[1] -345\n",
      "[1] \"var\"\n",
      "[1] 0\n",
      "[1] \"std\"\n",
      "[1] 0\n"
     ]
    },
    {
     "data": {
      "image/png": "[encoded data removed]",
      "text/plain": [
       "plot without title"
      ]
     },
     "metadata": {},
     "output_type": "display_data"
    },
    {
     "data": {
      "image/png": "[encoded data removed]",
      "text/plain": [
       "plot without title"
      ]
     },
     "metadata": {},
     "output_type": "display_data"
    },
    {
     "data": {
      "image/png": "[encoded data removed]",
      "text/plain": [
       "plot without title"
      ]
     },
     "metadata": {},
     "output_type": "display_data"
    },
    {
     "data": {
      "image/png": "[encoded data removed]",
      "text/plain": [
       "plot without title"
      ]
     },
     "metadata": {},
     "output_type": "display_data"
    },
    {
     "data": {
      "image/png": "[encoded data removed]",
      "text/plain": [
       "plot without title"
      ]
     },
     "metadata": {},
     "output_type": "display_data"
    },
    {
     "data": {
      "image/png": "[encoded data removed]",
      "text/plain": [
       "plot without title"
      ]
     },
     "metadata": {},
     "output_type": "display_data"
    },
    {
     "data": {
      "image/png": "[encoded data removed]",
      "text/plain": [
       "plot without title"
      ]
     },
     "metadata": {},
     "output_type": "display_data"
    },
    {
     "data": {
      "image/png": "[encoded data removed]",
      "text/plain": [
       "plot without title"
      ]
     },
     "metadata": {},
     "output_type": "display_data"
    },
    {
     "data": {
      "image/png": "[encoded data removed]",
      "text/plain": [
       "plot without title"
      ]
     },
     "metadata": {},
     "output_type": "display_data"
    },
    {
     "data": {
      "image/png": "[encoded data removed]",
      "text/plain": [
       "plot without title"
      ]
     },
     "metadata": {},
     "output_type": "display_data"
    },
    {
     "data": {
      "image/png": "[encoded data removed]",
      "text/plain": [
       "plot without title"
      ]
     },
     "metadata": {},
     "output_type": "display_data"
    },
    {
     "name": "stderr",
     "output_type": "stream",
     "text": [
      "Warning message:\n",
      "\"Computation failed in `stat_bin()`:\n",
      "`binwidth` must be positive\""
     ]
    },
    {
     "data": {
      "image/png": "[encoded data removed]",
      "text/plain": [
       "plot without title"
      ]
     },
     "metadata": {},
     "output_type": "display_data"
    },
    {
     "data": {
      "image/png": "[encoded data removed]",
      "text/plain": [
       "plot without title"
      ]
     },
     "metadata": {},
     "output_type": "display_data"
    },
    {
     "data": {
      "image/png": "[encoded data removed]",
      "text/plain": [
       "plot without title"
      ]
     },
     "metadata": {},
     "output_type": "display_data"
    }
   ],
   "source": [
    "for(cat in unique(data$categ)){\n",
    "    sous_echantillon = data[data$categ == cat,] # Création du sous-échantillon\n",
    "    print(\"--------------------\")\n",
    "    print(cat)\n",
    "    print(\"mod\");print(mode(sous_echantillon$montant))\n",
    "    print(\"moy\");print(mean(sous_echantillon$montant))\n",
    "    print(\"med\");print(median(sous_echantillon$montant))\n",
    "    print(\"var\");print(var(sous_echantillon$montant))\n",
    "    print(\"std\");print(sd(sous_echantillon$montant))\n",
    "}\n",
    "\n",
    "for(cat in unique(data$categ)){\n",
    "    sous_echantillon = data[data$categ == cat,]\n",
    "    print(ggplot(sous_echantillon, aes(montant)) + geom_histogram(bins=20) + labs(title=cat)) # Création de l'histogramme\n",
    "    print(ggplot(sous_echantillon, aes(x=\"\", y=montant)) + geom_boxplot() + coord_flip() + labs(title=cat))\n",
    "}"
   ]
  },
  {
   "cell_type": "markdown",
   "id": "55581165",
   "metadata": {},
   "source": [
    " La variance du montant des opérations de la catégorie LOYER est nulle, ce qui signifie que le montant du loyer est toujours resté fixe."
   ]
  },
  {
   "cell_type": "markdown",
   "id": "fbdb962a",
   "metadata": {},
   "source": [
    "# <a name=\"C7\"> P3C6 - Appréhendez les mesures de forme</a>\n",
    "\n",
    "Le calcul du skewness se fait très facilement en Python :"
   ]
  },
  {
   "cell_type": "code",
   "execution_count": 35,
   "id": "6df3a3d2",
   "metadata": {
    "vscode": {
     "languageId": "r"
    }
   },
   "outputs": [
    {
     "data": {
      "text/html": [
       "3.34545018912528"
      ],
      "text/latex": [
       "3.34545018912528"
      ],
      "text/markdown": [
       "3.34545018912528"
      ],
      "text/plain": [
       "[1] 3.34545"
      ]
     },
     "metadata": {},
     "output_type": "display_data"
    }
   ],
   "source": [
    "skewness(data$montant)"
   ]
  },
  {
   "cell_type": "markdown",
   "id": "90a3dc75",
   "metadata": {},
   "source": [
    "Voilà comment calculer le kurtosis de notre variable montant :"
   ]
  },
  {
   "cell_type": "code",
   "execution_count": 36,
   "id": "9fb2e6a4",
   "metadata": {
    "vscode": {
     "languageId": "r"
    }
   },
   "outputs": [
    {
     "data": {
      "text/html": [
       "19.9733708360712"
      ],
      "text/latex": [
       "19.9733708360712"
      ],
      "text/markdown": [
       "19.9733708360712"
      ],
      "text/plain": [
       "[1] 19.97337"
      ]
     },
     "metadata": {},
     "output_type": "display_data"
    }
   ],
   "source": [
    "kurtosis(data$montant)"
   ]
  },
  {
   "cell_type": "markdown",
   "id": "92cf40ca",
   "metadata": {},
   "source": [
    "Poussez encore votre analyse un peu plus loin ! Ajoutez le calcul du Skewness empirique et le Kurtosis empirique pour chaque catégorie."
   ]
  },
  {
   "cell_type": "code",
   "execution_count": 37,
   "id": "39591190",
   "metadata": {
    "vscode": {
     "languageId": "r"
    }
   },
   "outputs": [
    {
     "name": "stdout",
     "output_type": "stream",
     "text": [
      "[1] \"--------------------\"\n",
      "[1] \"AUTRE\"\n",
      "[1] \"mod\"\n",
      "[1] -1.6\n",
      "[1] \"moy\"\n",
      "[1] 23.43321\n",
      "[1] \"med\"\n",
      "[1] -8.31\n",
      "[1] \"var\"\n",
      "[1] 40593.31\n",
      "[1] \"std\"\n",
      "[1] 201.4778\n",
      "[1] \"skw\"\n",
      "[1] 3.099403\n",
      "[1] \"kur\"\n",
      "[1] 15.39042\n",
      "[1] \"--------------------\"\n",
      "[1] \"TRANSPORT\"\n",
      "[1] \"mod\"\n",
      "[1] -73\n",
      "[1] \"moy\"\n",
      "[1] -52.99714\n",
      "[1] \"med\"\n",
      "[1] -53.1\n",
      "[1] \"var\"\n",
      "[1] 2315.268\n",
      "[1] \"std\"\n",
      "[1] 48.11723\n",
      "[1] \"skw\"\n",
      "[1] -1.157273\n",
      "[1] \"kur\"\n",
      "[1] 4.431265\n",
      "[1] \"--------------------\"\n",
      "[1] \"FACTURE TELEPHONE\"\n",
      "[1] \"mod\"\n",
      "[1] -7.02\n",
      "[1] \"moy\"\n",
      "[1] -12.04571\n",
      "[1] \"med\"\n",
      "[1] -7.02\n",
      "[1] \"var\"\n",
      "[1] 122.5222\n",
      "[1] \"std\"\n",
      "[1] 11.06898\n",
      "[1] \"skw\"\n",
      "[1] -1.842113\n",
      "[1] \"kur\"\n",
      "[1] 4.666068\n",
      "[1] \"--------------------\"\n",
      "[1] \"COURSES\"\n",
      "[1] \"mod\"\n",
      "[1] -6.8\n",
      "[1] \"moy\"\n",
      "[1] -16.34128\n",
      "[1] \"med\"\n",
      "[1] -12.24\n",
      "[1] \"var\"\n",
      "[1] 181.6839\n",
      "[1] \"std\"\n",
      "[1] 13.47902\n",
      "[1] \"skw\"\n",
      "[1] -1.198275\n",
      "[1] \"kur\"\n",
      "[1] 4.256251\n",
      "[1] \"--------------------\"\n",
      "[1] \"COTISATION BANCAIRE\"\n",
      "[1] \"mod\"\n",
      "[1] -1.92\n",
      "[1] \"moy\"\n",
      "[1] -1.885714\n",
      "[1] \"med\"\n",
      "[1] -1.92\n",
      "[1] \"var\"\n",
      "[1] 0.001828571\n",
      "[1] \"std\"\n",
      "[1] 0.0427618\n",
      "[1] \"skw\"\n",
      "[1] 0.2886751\n",
      "[1] \"kur\"\n",
      "[1] 1.083333\n",
      "[1] \"--------------------\"\n",
      "[1] \"RESTAURANT\"\n",
      "[1] \"mod\"\n",
      "[1] -9.2\n",
      "[1] \"moy\"\n",
      "[1] -10.3325\n",
      "[1] \"med\"\n",
      "[1] -10.1\n",
      "[1] \"var\"\n",
      "[1] 3.043407\n",
      "[1] \"std\"\n",
      "[1] 1.744536\n",
      "[1] \"skw\"\n",
      "[1] -0.8027988\n",
      "[1] \"kur\"\n",
      "[1] 3.074499\n",
      "[1] \"--------------------\"\n",
      "[1] \"LOYER\"\n",
      "[1] \"mod\"\n",
      "[1] -345\n",
      "[1] \"moy\"\n",
      "[1] -345\n",
      "[1] \"med\"\n",
      "[1] -345\n",
      "[1] \"var\"\n",
      "[1] 0\n",
      "[1] \"std\"\n",
      "[1] 0\n",
      "[1] \"skw\"\n",
      "[1] NaN\n",
      "[1] \"kur\"\n",
      "[1] NaN\n"
     ]
    },
    {
     "data": {
      "image/png": "[encoded data removed]",
      "text/plain": [
       "plot without title"
      ]
     },
     "metadata": {},
     "output_type": "display_data"
    },
    {
     "data": {
      "image/png": "[encoded data removed]",
      "text/plain": [
       "plot without title"
      ]
     },
     "metadata": {},
     "output_type": "display_data"
    },
    {
     "data": {
      "image/png": "[encoded data removed]",
      "text/plain": [
       "plot without title"
      ]
     },
     "metadata": {},
     "output_type": "display_data"
    },
    {
     "data": {
      "image/png": "[encoded data removed]",
      "text/plain": [
       "plot without title"
      ]
     },
     "metadata": {},
     "output_type": "display_data"
    },
    {
     "data": {
      "image/png": "[encoded data removed]",
      "text/plain": [
       "plot without title"
      ]
     },
     "metadata": {},
     "output_type": "display_data"
    },
    {
     "data": {
      "image/png": "[encoded data removed]",
      "text/plain": [
       "plot without title"
      ]
     },
     "metadata": {},
     "output_type": "display_data"
    },
    {
     "data": {
      "image/png": "[encoded data removed]",
      "text/plain": [
       "plot without title"
      ]
     },
     "metadata": {},
     "output_type": "display_data"
    },
    {
     "data": {
      "image/png": "[encoded data removed]",
      "text/plain": [
       "plot without title"
      ]
     },
     "metadata": {},
     "output_type": "display_data"
    },
    {
     "data": {
      "image/png": "[encoded data removed]",
      "text/plain": [
       "plot without title"
      ]
     },
     "metadata": {},
     "output_type": "display_data"
    },
    {
     "data": {
      "image/png": "[encoded data removed]",
      "text/plain": [
       "plot without title"
      ]
     },
     "metadata": {},
     "output_type": "display_data"
    },
    {
     "data": {
      "image/png": "[encoded data removed]",
      "text/plain": [
       "plot without title"
      ]
     },
     "metadata": {},
     "output_type": "display_data"
    },
    {
     "name": "stderr",
     "output_type": "stream",
     "text": [
      "Warning message:\n",
      "\"Computation failed in `stat_bin()`:\n",
      "`binwidth` must be positive\""
     ]
    },
    {
     "data": {
      "image/png": "[encoded data removed]",
      "text/plain": [
       "plot without title"
      ]
     },
     "metadata": {},
     "output_type": "display_data"
    },
    {
     "data": {
      "image/png": "[encoded data removed]",
      "text/plain": [
       "plot without title"
      ]
     },
     "metadata": {},
     "output_type": "display_data"
    },
    {
     "data": {
      "image/png": "[encoded data removed]",
      "text/plain": [
       "plot without title"
      ]
     },
     "metadata": {},
     "output_type": "display_data"
    }
   ],
   "source": [
    "for(cat in unique(data$categ)){\n",
    "    sous_echantillon = data[data$categ == cat,] # Création du sous-échantillon\n",
    "    print(\"--------------------\")\n",
    "    print(cat)\n",
    "    print(\"mod\");print(mode(sous_echantillon$montant))\n",
    "    print(\"moy\");print(mean(sous_echantillon$montant))\n",
    "    print(\"med\");print(median(sous_echantillon$montant))\n",
    "    print(\"var\");print(var(sous_echantillon$montant))\n",
    "    print(\"std\");print(sd(sous_echantillon$montant))\n",
    "    print(\"skw\");print(skewness(sous_echantillon$montant))\n",
    "    print(\"kur\");print(kurtosis(sous_echantillon$montant))\n",
    "}\n",
    "\n",
    "for(cat in unique(data$categ)){\n",
    "    sous_echantillon = data[data$categ == cat,]\n",
    "    print(ggplot(sous_echantillon, aes(montant)) + geom_histogram(bins=20) + labs(title=cat)) # Création de l'histogramme\n",
    "    print(ggplot(sous_echantillon, aes(x=\"\", y=montant)) + geom_boxplot() + coord_flip() + labs(title=cat))\n",
    "}"
   ]
  },
  {
   "cell_type": "markdown",
   "id": "156ba7d4",
   "metadata": {},
   "source": [
    "Pour toutes les opérations dont la catégorie regroupe principalement des dépenses (téléphone, courses, etc.), il est assez normal que le skewness empirique soit négatif. La distribution des dépenses s'étale vers la gauche, car on fait fréquemment des petites dépenses, et moins souvent des dépenses qui parfois peuvent être très importantes (donc très à gauche)"
   ]
  },
  {
   "cell_type": "markdown",
   "id": "edce9954",
   "metadata": {},
   "source": [
    "# <a name=\"C8\">P3C7 - Familiarisez-vous avec les mesures de concentration</a>\n",
    "\n",
    "Voici le code permettant d'afficher la courbe de Lorenz :"
   ]
  },
  {
   "cell_type": "code",
   "execution_count": 38,
   "id": "69225cc8",
   "metadata": {
    "vscode": {
     "languageId": "r"
    }
   },
   "outputs": [
    {
     "data": {
      "image/png": "[encoded data removed]",
      "text/plain": [
       "plot without title"
      ]
     },
     "metadata": {},
     "output_type": "display_data"
    }
   ],
   "source": [
    "depenses = data[data['montant'] < 0,]\n",
    "dep = -depenses$montant\n",
    "lorenz = cumsum(sort(dep)) / sum(dep)\n",
    "lorenz = c(0,lorenz) # La courbe de Lorenz commence à 0\n",
    "\n",
    "n = length(lorenz)\n",
    "lorenz_df = data.frame(x=((0:(n-1))/n), y=lorenz)\n",
    "\n",
    "ggplot(lorenz_df, aes(x,y)) + geom_point(shape=1)"
   ]
  },
  {
   "cell_type": "markdown",
   "id": "fb3df0b6",
   "metadata": {},
   "source": [
    "On y sélectionne tout d'abord le sous-échantillon de travail que l'on appelle  depenses  . Comme évoqué plus haut, il faut trier les individus dans l'ordre croissant des valeurs de la variable ; nous le faisons ici grâce à la fonction `sort()`, car  dep  contient les observations de la variable montant.\n",
    "\n",
    "Ensuite, nous calculons la somme cumulée grâce à la fonction `cumsum()`. Pour normaliser et faire en sorte que le haut de la courbe soit à 1, on divise le tout par  `sum()`. La variable  lorenz  contient les ordonnées des points, mais il nous faut maintenant leurs abscisses : celles-ci s'étendent de 0 à 1 (comme évoqué précédemment) à intervalle réguliers. C'est ce que produit `lorenz_df = data.frame(x=((0:(n-1))/n), y=lorenz)`"
   ]
  },
  {
   "cell_type": "markdown",
   "id": "35ae6caf",
   "metadata": {},
   "source": [
    "Le calcul de l'indice de Gini reprend directement les variables issues du traçage de la courbe de Lorenz mais est un peu plus complexe à comprendre, je laisse les plus courageux s'y plonger ;)"
   ]
  },
  {
   "cell_type": "code",
   "execution_count": 39,
   "id": "944eb911",
   "metadata": {
    "vscode": {
     "languageId": "r"
    }
   },
   "outputs": [
    {
     "data": {
      "text/html": [
       "0.724820740684282"
      ],
      "text/latex": [
       "0.724820740684282"
      ],
      "text/markdown": [
       "0.724820740684282"
      ],
      "text/plain": [
       "[1] 0.7248207"
      ]
     },
     "metadata": {},
     "output_type": "display_data"
    }
   ],
   "source": [
    "n = length(lorenz)\n",
    "aire_ss_courbe = sum(lorenz[1:(n-1)])/n # aire sous la courbe de Lorenz. La dernière valeur ne participe pas à l'aire, d'où \"[:-1]\"\n",
    "S = 0.5 - aire_ss_courbe # aire entre la 1e bissectrice et la courbe de Lorenz\n",
    "gini = 2*S\n",
    "gini"
   ]
  },
  {
   "cell_type": "markdown",
   "id": "3cce70a9",
   "metadata": {},
   "source": [
    "# <a name=\"C9\"> P4C3 - Analysez la corrélation entre deux variables quantitatives</a>"
   ]
  },
  {
   "cell_type": "markdown",
   "id": "13732b56",
   "metadata": {},
   "source": [
    "Posons-nous la question suivante :\n",
    "\n",
    "    Êtes-vous moins dépensier lorsque vous avez peu d'argent sur votre compte ?\n",
    "\n",
    "Vous l'aurez deviné, les 2 variables à étudier sont : montant et solde_avt_operation. Rechercher une corrélation entre ces variables revient à dire : \"Sachant que le solde de votre compte est petit, peut-on s'attendre à ce que le montant de l'opération soit lui aussi petit ?\" (ou l'inverse).\n",
    "\n",
    "Je vous invite donc à tracer le diagramme de dispersion entre le solde avant opération et le montant des dépenses, et analyser ce qui en ressort."
   ]
  },
  {
   "cell_type": "code",
   "execution_count": 40,
   "id": "e8bd4968",
   "metadata": {
    "vscode": {
     "languageId": "r"
    }
   },
   "outputs": [
    {
     "data": {
      "image/png": "[encoded data removed]",
      "text/plain": [
       "plot without title"
      ]
     },
     "metadata": {},
     "output_type": "display_data"
    }
   ],
   "source": [
    "depenses = data[data$montant < 0,]\n",
    "depenses$montant = -depenses$montant\n",
    "\n",
    "ggplot(depenses, aes(solde_avt_ope,montant)) + geom_point(shape=1) + \n",
    "    labs(x=\"solde avant opération\", y=\"montant de dépense\")"
   ]
  },
  {
   "cell_type": "markdown",
   "id": "da32155a",
   "metadata": {},
   "source": [
    "A priori sur ce diagramme de dispersion, il ne semble pas que quand le solde est petit, les montants soient particulièrement petits. Il semble ne pas y avoir de corrélation. Mais vous en trouverez peut-être une dans vos propres relevés !"
   ]
  },
  {
   "cell_type": "markdown",
   "id": "702e362d",
   "metadata": {},
   "source": [
    "Pour calculer le coefficient de Pearson et la covariance, 2 lignes suffisent !"
   ]
  },
  {
   "cell_type": "code",
   "execution_count": 41,
   "id": "36011c7c",
   "metadata": {
    "vscode": {
     "languageId": "r"
    }
   },
   "outputs": [
    {
     "data": {
      "text/html": [
       "0.0100688191337592"
      ],
      "text/latex": [
       "0.0100688191337592"
      ],
      "text/markdown": [
       "0.0100688191337592"
      ],
      "text/plain": [
       "[1] 0.01006882"
      ]
     },
     "metadata": {},
     "output_type": "display_data"
    },
    {
     "data": {
      "text/html": [
       "486.63181582652"
      ],
      "text/latex": [
       "486.63181582652"
      ],
      "text/markdown": [
       "486.63181582652"
      ],
      "text/plain": [
       "[1] 486.6318"
      ]
     },
     "metadata": {},
     "output_type": "display_data"
    }
   ],
   "source": [
    "cor(depenses$solde_avt_ope, depenses$montant, method=\"pearson\")\n",
    "cov(depenses$solde_avt_ope, depenses$montant)\n",
    "\n",
    "# calcule la covariance empirique corrigée.\n",
    "# Multiplier par (n-1)/n pour obtenir la covariance empirique\n",
    "# avec n = nrow(depenses)"
   ]
  },
  {
   "cell_type": "markdown",
   "id": "3360669a",
   "metadata": {},
   "source": [
    "# <a name=\"C10\"> P4C4 - Analysez deux variables quantitatives par régression linéaire</a>\n",
    "\n",
    "Tout d'abord, il faut calculer la variable attente ! Voici le code permettant de créer cela :"
   ]
  },
  {
   "cell_type": "code",
   "execution_count": 42,
   "id": "ab3306da",
   "metadata": {
    "vscode": {
     "languageId": "r"
    }
   },
   "outputs": [],
   "source": [
    "# Selection du sous-échantillon\n",
    "courses = data[data$categ == \"COURSES\",]\n",
    "\n",
    "# On trie les opérations par date\n",
    "courses = courses[order(courses$date_operation),]\n",
    "\n",
    "# On ramène les montants en positif\n",
    "courses[\"montant\"] = -courses[\"montant\"]\n",
    "\n",
    "# calcul de la variable attente\n",
    "r = c()\n",
    "last_date = Sys.Date()\n",
    "for(i in 1:nrow(courses)){\n",
    "    days = as.Date(courses[i,\"date_operation\"])-last_date\n",
    "    days = as.numeric(days, units=\"days\")\n",
    "    if(days == 0)\n",
    "        r = c(r,r[length(r)])\n",
    "    else\n",
    "        r = c(r,days)\n",
    "    last_date = as.Date(courses[i,\"date_operation\"])\n",
    "}\n",
    "courses[\"attente\"] = r\n",
    "courses = courses[2:nrow(courses),]\n",
    "\n",
    "# on regroupe les opérations qui ont été effectués à la même date\n",
    "# (courses réalisées le même jour mais dans 2 magasins différents)\n",
    "a = aggregate(courses$montant,list(courses$date_operation),FUN=sum)\n",
    "b = aggregate(courses$attente,list(courses$date_operation),FUN=(function (x) x[1])) \n",
    "courses = data.frame(montant=a$x,attente=b$x)"
   ]
  },
  {
   "cell_type": "markdown",
   "id": "a945f5d4",
   "metadata": {},
   "source": [
    "On crée ici au final un sous-échantillon qui ne contient que les opérations de catégorie courses, et que l'on appelle...  courses  !\n",
    "\n",
    "\n",
    "Essayons d'afficher le diagramme de dispersion avec X = attente et Y = montant, et regardons si tous les points sont alignés :"
   ]
  },
  {
   "cell_type": "code",
   "execution_count": 43,
   "id": "65bb2f26",
   "metadata": {
    "vscode": {
     "languageId": "r"
    }
   },
   "outputs": [
    {
     "data": {
      "image/png": "[encoded data removed]",
      "text/plain": [
       "plot without title"
      ]
     },
     "metadata": {},
     "output_type": "display_data"
    }
   ],
   "source": [
    "ggplot(courses, aes(attente,montant)) + geom_point(shape=1) + \n",
    "    labs(x=\"attente\", y=\"montant\")"
   ]
  },
  {
   "cell_type": "markdown",
   "id": "3379c17d",
   "metadata": {},
   "source": [
    "On peut à présent effectuer notre régression linéaire. Voici comment estimer a et b avec Python. Le code est un peu complexe, mais retenez que la dernière ligne crée les variables  a  et  b  contenant les estimations."
   ]
  },
  {
   "cell_type": "code",
   "execution_count": 44,
   "id": "0eb94565",
   "metadata": {
    "vscode": {
     "languageId": "r"
    }
   },
   "outputs": [
    {
     "name": "stdout",
     "output_type": "stream",
     "text": [
      "(Intercept)     attente \n",
      "  10.944848    1.736578 \n"
     ]
    }
   ],
   "source": [
    "coeffs = lm(montant~attente,data=courses)$coefficients\n",
    "print(coeffs)\n",
    "coeffs = as.numeric(coeffs)\n",
    "a = coeffs[2]\n",
    "b = coeffs[1]"
   ]
  },
  {
   "cell_type": "markdown",
   "id": "e9aa5e07",
   "metadata": {},
   "source": [
    "Voici comment tracer la droite de régression à partir des coefficients obtenus :"
   ]
  },
  {
   "cell_type": "code",
   "execution_count": 45,
   "id": "6579e630",
   "metadata": {
    "scrolled": false,
    "vscode": {
     "languageId": "r"
    }
   },
   "outputs": [
    {
     "data": {
      "image/png": "[encoded data removed]",
      "text/plain": [
       "plot without title"
      ]
     },
     "metadata": {},
     "output_type": "display_data"
    }
   ],
   "source": [
    "droite = data.frame(x=c(0,15),y=c(a*0+b, a*15+b))\n",
    "ggplot(courses, aes(attente,montant)) + geom_point(shape=1) + \n",
    "    geom_line(data=droite, aes(x=x,y=y))"
   ]
  },
  {
   "cell_type": "markdown",
   "id": "25350831",
   "metadata": {},
   "source": [
    "Régression linéaire sans outliers :"
   ]
  },
  {
   "cell_type": "code",
   "execution_count": 46,
   "id": "7ff16892",
   "metadata": {
    "vscode": {
     "languageId": "r"
    }
   },
   "outputs": [
    {
     "name": "stdout",
     "output_type": "stream",
     "text": [
      "(Intercept)     attente \n",
      "   5.411480    3.030823 \n"
     ]
    },
    {
     "data": {
      "image/png": "[encoded data removed]",
      "text/plain": [
       "plot without title"
      ]
     },
     "metadata": {},
     "output_type": "display_data"
    }
   ],
   "source": [
    "courses = courses[courses$attente < 15,]\n",
    "\n",
    "coeffs = lm(montant~attente,data=courses)$coefficients\n",
    "print(coeffs)\n",
    "coeffs = as.numeric(coeffs)\n",
    "a = coeffs[2]\n",
    "b = coeffs[1]\n",
    "\n",
    "droite = data.frame(x=c(0,15),y=c(a*0+b, a*15+b))\n",
    "ggplot(courses, aes(attente,montant)) + geom_point(shape=1) + \n",
    "    geom_line(data=droite, aes(x=x,y=y))"
   ]
  },
  {
   "cell_type": "markdown",
   "id": "465a456e",
   "metadata": {},
   "source": [
    "# <a name=\"C11\"> P4C5 - Analysez une variable quantitative et une qualitative par ANOVA</a>\n",
    "\n",
    "Voici le code qui permet de représenter une variable quantitative et une variable qualitative. Tout d'abord, créez le sous-échantillon sur lequel vous souhaitez travailler en adaptant ce code, notamment les variables X et Y selon la question que vous aurez choisie parmi celles ci-dessus."
   ]
  },
  {
   "cell_type": "code",
   "execution_count": 47,
   "id": "8fde8f9b",
   "metadata": {
    "vscode": {
     "languageId": "r"
    }
   },
   "outputs": [],
   "source": [
    "X = \"categ\" # qualitative\n",
    "Y = \"montant\" # quantitative\n",
    "\n",
    "# On ne garde que les dépenses\n",
    "sous_echantillon = data[data[\"montant\"] < 0,]\n",
    "# On remet les dépenses en positif\n",
    "sous_echantillon[\"montant\"] = -sous_echantillon[\"montant\"]\n",
    "# On n'étudie pas les loyers car trop gros:\n",
    "sous_echantillon = sous_echantillon[sous_echantillon[\"categ\"] != \"LOYER\",] "
   ]
  },
  {
   "cell_type": "markdown",
   "id": "b5b9468a",
   "metadata": {},
   "source": [
    "Ensuite, ces quelques lignes de code affichent votre graphique !"
   ]
  },
  {
   "cell_type": "code",
   "execution_count": 48,
   "id": "e60938b5",
   "metadata": {
    "vscode": {
     "languageId": "r"
    }
   },
   "outputs": [
    {
     "name": "stderr",
     "output_type": "stream",
     "text": [
      "Warning message:\n",
      "\"Removed 6 rows containing non-finite values (stat_boxplot).\"Warning message:\n",
      "\"Removed 6 rows containing non-finite values (stat_summary).\""
     ]
    },
    {
     "data": {
      "image/png": "[encoded data removed]",
      "text/plain": [
       "plot without title"
      ]
     },
     "metadata": {},
     "output_type": "display_data"
    }
   ],
   "source": [
    "ggplot(sous_echantillon, aes(x=categ, y=montant)) + \n",
    "    geom_boxplot(outlier.shape = NA) + coord_flip() + \n",
    "    stat_summary(fun.y=mean, colour=\"darkred\", geom=\"point\", shape=19, size=4) +\n",
    "    scale_y_continuous(limits = c(0,140))"
   ]
  },
  {
   "cell_type": "markdown",
   "id": "82f9f950",
   "metadata": {},
   "source": [
    "Les points rouges au milieu de chaque boîte à moustaches représentent la moyenne des valeurs.\n",
    "\n",
    "On voit ici que les montants sont très différents d'une catégorie à l'autre. Par exemple, les montants des dépenses de transport sont plus élevés et plus dispersés que ceux des factures téléphoniques. Mais vérifions maintenant cette affirmation par les chiffres, grâce à une modélisation.\n",
    "\n",
    "Voici à présent le code permettant de calculer $\\eta^2$ (eta carré ou eta squared, en anglais). Je vous propose ici de faire le calcul à la main ;) :"
   ]
  },
  {
   "cell_type": "code",
   "execution_count": 49,
   "id": "d2d08c8a",
   "metadata": {
    "vscode": {
     "languageId": "r"
    }
   },
   "outputs": [
    {
     "data": {
      "text/html": [
       "0.0275228003018415"
      ],
      "text/latex": [
       "0.0275228003018415"
      ],
      "text/markdown": [
       "0.0275228003018415"
      ],
      "text/plain": [
       "[1] 0.0275228"
      ]
     },
     "metadata": {},
     "output_type": "display_data"
    }
   ],
   "source": [
    "X = \"categ\" # qualitative\n",
    "Y = \"montant\" # quantitative\n",
    "\n",
    "eta_squared = function(x,y){\n",
    "    moyenne_y = mean(y)\n",
    "    classes = c()\n",
    "    for(classe in unique(x)){\n",
    "        yi_classe = y[x==classe]\n",
    "        classes = c(classes,\n",
    "                    list(\n",
    "                        list('ni'= length(yi_classe),\n",
    "                            'moyenne_classe' = mean(yi_classe))))\n",
    "    }\n",
    "    SCT = 0\n",
    "    for(yj in y){SCT = SCT + (yj-moyenne_y)^2}\n",
    "    SCE = 0\n",
    "    for(c in classes){\n",
    "        SCE = SCE + c$ni*(c$moyenne_classe-moyenne_y)^2\n",
    "    }\n",
    "    return(SCE/SCT)\n",
    "}\n",
    "\n",
    "eta_squared(sous_echantillon[,X],sous_echantillon[,Y])"
   ]
  },
  {
   "cell_type": "markdown",
   "id": "bd37aa3d",
   "metadata": {},
   "source": [
    "On va aller plus loin en analysant la corrélation entre la variable quart_mois créée précédemment et le montant des achats. En effet, il serait intéressant de déterminer si certains jours sont plus \"propices\" à la dépense que d'autres et pourquoi pas, essayer de dégager les raisons !"
   ]
  },
  {
   "cell_type": "code",
   "execution_count": 50,
   "id": "c8551045",
   "metadata": {
    "vscode": {
     "languageId": "r"
    }
   },
   "outputs": [
    {
     "name": "stderr",
     "output_type": "stream",
     "text": [
      "Warning message:\n",
      "\"Removed 6 rows containing non-finite values (stat_boxplot).\"Warning message:\n",
      "\"Removed 6 rows containing non-finite values (stat_summary).\""
     ]
    },
    {
     "data": {
      "text/html": [
       "0.0113980380093109"
      ],
      "text/latex": [
       "0.0113980380093109"
      ],
      "text/markdown": [
       "0.0113980380093109"
      ],
      "text/plain": [
       "[1] 0.01139804"
      ]
     },
     "metadata": {},
     "output_type": "display_data"
    },
    {
     "data": {
      "image/png": "[encoded data removed]",
      "text/plain": [
       "plot without title"
      ]
     },
     "metadata": {},
     "output_type": "display_data"
    }
   ],
   "source": [
    "X = \"quart_mois\" # qualitative\n",
    "Y = \"montant\" # quantitative\n",
    "\n",
    "sous_echantillon$quart_mois = as.factor(sous_echantillon$quart_mois)\n",
    "\n",
    "ggplot(sous_echantillon, aes(x=quart_mois, y=montant)) + \n",
    "    geom_boxplot(outlier.shape = NA) + coord_flip() + \n",
    "    stat_summary(fun.y=mean, colour=\"darkred\", geom=\"point\", shape=19, size=4) +\n",
    "    scale_y_continuous(limits = c(0,140))\n",
    "\n",
    "eta_squared(sous_echantillon[,X],sous_echantillon[,Y])"
   ]
  },
  {
   "cell_type": "markdown",
   "id": "e6bcd874",
   "metadata": {},
   "source": [
    "# <a name=\"C12\"> P4C6 - Analysez deux variables qualitatives avec le Chi-2</a>\n",
    "\n",
    "Pour répondre à ces questions, vous pouvez afficher le tableau de contingence comme ceci :"
   ]
  },
  {
   "cell_type": "code",
   "execution_count": 51,
   "id": "8969846f",
   "metadata": {
    "vscode": {
     "languageId": "r"
    }
   },
   "outputs": [
    {
     "data": {
      "text/html": [
       "<table>\n",
       "<thead><tr><th></th><th scope=col>AUTRE</th><th scope=col>COTISATION BANCAIRE</th><th scope=col>COURSES</th><th scope=col>FACTURE TELEPHONE</th><th scope=col>LOYER</th><th scope=col>RESTAURANT</th><th scope=col>TRANSPORT</th><th scope=col>total</th></tr></thead>\n",
       "<tbody>\n",
       "\t<tr><th scope=row>1</th><td> 55</td><td>7  </td><td> 6 </td><td>6  </td><td>0  </td><td> 3 </td><td> 9 </td><td> 86</td></tr>\n",
       "\t<tr><th scope=row>2</th><td> 45</td><td>0  </td><td>11 </td><td>1  </td><td>6  </td><td> 7 </td><td> 6 </td><td> 76</td></tr>\n",
       "\t<tr><th scope=row>3</th><td> 60</td><td>0  </td><td> 7 </td><td>0  </td><td>0  </td><td> 4 </td><td> 4 </td><td> 75</td></tr>\n",
       "\t<tr><th scope=row>4</th><td> 52</td><td>0  </td><td>15 </td><td>0  </td><td>0  </td><td> 2 </td><td> 2 </td><td> 71</td></tr>\n",
       "\t<tr><th scope=row>total</th><td>212</td><td>7  </td><td>39 </td><td>7  </td><td>6  </td><td>16 </td><td>21 </td><td>308</td></tr>\n",
       "</tbody>\n",
       "</table>\n"
      ],
      "text/latex": [
       "\\begin{tabular}{r|llllllll}\n",
       "  & AUTRE & COTISATION BANCAIRE & COURSES & FACTURE TELEPHONE & LOYER & RESTAURANT & TRANSPORT & total\\\\\n",
       "\\hline\n",
       "\t1 &  55 & 7   &  6  & 6   & 0   &  3  &  9  &  86\\\\\n",
       "\t2 &  45 & 0   & 11  & 1   & 6   &  7  &  6  &  76\\\\\n",
       "\t3 &  60 & 0   &  7  & 0   & 0   &  4  &  4  &  75\\\\\n",
       "\t4 &  52 & 0   & 15  & 0   & 0   &  2  &  2  &  71\\\\\n",
       "\ttotal & 212 & 7   & 39  & 7   & 6   & 16  & 21  & 308\\\\\n",
       "\\end{tabular}\n"
      ],
      "text/markdown": [
       "\n",
       "| <!--/--> | AUTRE | COTISATION BANCAIRE | COURSES | FACTURE TELEPHONE | LOYER | RESTAURANT | TRANSPORT | total |\n",
       "|---|---|---|---|---|---|---|---|---|\n",
       "| 1 |  55 | 7   |  6  | 6   | 0   |  3  |  9  |  86 |\n",
       "| 2 |  45 | 0   | 11  | 1   | 6   |  7  |  6  |  76 |\n",
       "| 3 |  60 | 0   |  7  | 0   | 0   |  4  |  4  |  75 |\n",
       "| 4 |  52 | 0   | 15  | 0   | 0   |  2  |  2  |  71 |\n",
       "| total | 212 | 7   | 39  | 7   | 6   | 16  | 21  | 308 |\n",
       "\n"
      ],
      "text/plain": [
       "      AUTRE COTISATION BANCAIRE COURSES FACTURE TELEPHONE LOYER RESTAURANT\n",
       "1      55   7                    6      6                 0      3        \n",
       "2      45   0                   11      1                 6      7        \n",
       "3      60   0                    7      0                 0      4        \n",
       "4      52   0                   15      0                 0      2        \n",
       "total 212   7                   39      7                 6     16        \n",
       "      TRANSPORT total\n",
       "1      9         86  \n",
       "2      6         76  \n",
       "3      4         75  \n",
       "4      2         71  \n",
       "total 21        308  "
      ]
     },
     "metadata": {},
     "output_type": "display_data"
    }
   ],
   "source": [
    "X = \"quart_mois\"\n",
    "Y = \"categ\"\n",
    "\n",
    "c = as.data.frame.matrix(table(data[,c(X,Y)]))\n",
    "cont = c\n",
    "\n",
    "tx = rowSums(cont)\n",
    "ty = colSums(cont)\n",
    "\n",
    "cont[,\"total\"] = tx\n",
    "cont[\"total\",(1:(ncol(cont)-1))] = ty\n",
    "cont[\"total\",\"total\"] = nrow(data)\n",
    "cont"
   ]
  },
  {
   "cell_type": "markdown",
   "id": "c745fa9c",
   "metadata": {},
   "source": [
    "Voici le code affichant cette heatmap :"
   ]
  },
  {
   "cell_type": "code",
   "execution_count": 52,
   "id": "6772e27d",
   "metadata": {
    "vscode": {
     "languageId": "r"
    }
   },
   "outputs": [
    {
     "data": {
      "image/png": "[encoded data removed]",
      "text/plain": [
       "plot without title"
      ]
     },
     "metadata": {},
     "output_type": "display_data"
    }
   ],
   "source": [
    "indep = tx %*% t(ty) / nrow(data)\n",
    "\n",
    "mesure = (c-indep)^2/indep\n",
    "xi_n = sum(mesure)\n",
    "\n",
    "contributions = mesure/xi_n\n",
    "\n",
    "cont_reshaped = as.data.frame(table(data[,c(X,Y)]))\n",
    "cont_reshaped[\"contrib\"] = NA\n",
    "for(i in 1:nrow(cont_reshaped)){\n",
    "    x = cont_reshaped[i,X]\n",
    "    y = cont_reshaped[i,Y]\n",
    "    cont_reshaped[i,\"contrib\"] = contributions[x,y]\n",
    "}\n",
    "ggplot(cont_reshaped, aes_string(X,Y)) +    \n",
    "    geom_tile(aes(fill = contrib)) +\n",
    "    geom_text(aes(label=Freq), size=4) +\n",
    "    scale_fill_gradient(low = \"white\", high = \"steelblue\") +\n",
    "    coord_flip()"
   ]
  },
  {
   "cell_type": "code",
   "execution_count": null,
   "id": "1b2fdf60",
   "metadata": {
    "vscode": {
     "languageId": "r"
    }
   },
   "outputs": [],
   "source": []
  }
 ],
 "metadata": {
  "kernelspec": {
   "display_name": "R",
   "language": "R",
   "name": "ir"
  },
  "language_info": {
   "codemirror_mode": "r",
   "file_extension": ".r",
   "mimetype": "text/x-r-source",
   "name": "R",
   "pygments_lexer": "r",
   "version": "3.6.1"
  }
 },
 "nbformat": 4,
 "nbformat_minor": 5
}
