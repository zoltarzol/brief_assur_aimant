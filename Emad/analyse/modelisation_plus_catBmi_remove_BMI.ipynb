{
 "cells": [
  {
   "cell_type": "code",
   "execution_count": 48,
   "metadata": {},
   "outputs": [],
   "source": [
    "import pandas as pd\n",
    "import numpy as np\n",
    "from sklearn.compose import make_column_selector, ColumnTransformer, make_column_transformer\n",
    "# sklearn.compose: The sklearn.compose module is a submodule of the sklearn library for machine learning in Python. It provides functions for creating complex preprocessing and modeling pipelines.\n",
    "from sklearn.preprocessing import OneHotEncoder,StandardScaler,PolynomialFeatures,RobustScaler\n",
    "#sklearn.preprocessing: The sklearn.preprocessing module is a submodule of the sklearn library that provides functions for preprocessing data, such as scaling and normalizing features, imputing missing values, and encoding categorical variables.\n",
    "from sklearn.linear_model import Ridge,LinearRegression,Lasso, ElasticNet\n",
    "# sklearn.linear_model: The sklearn.linear_model module is a submodule of the sklearn library that provides functions for fitting linear models for regression and classification.\n",
    "from sklearn.pipeline import make_pipeline\n",
    "# sklearn.pipeline: The sklearn.pipeline module is a submodule of the sklearn library that provides functions for creating and working with pipelines of transformers and models.\n",
    "from sklearn.model_selection import train_test_split,GridSearchCV,learning_curve, RandomizedSearchCV, cross_val_score, KFold\n",
    "# sklearn.model_selection: The sklearn.model_selection module is a submodule of the sklearn library that provides functions for splitting data into training and test sets, evaluating models using cross-validation, and hyperparameter tuning.\n",
    "from sklearn.dummy import DummyRegressor\n",
    "# sklearn.dummy: The sklearn.dummy module is a submodule of the sklearn library that provides simple dummy models for regression and classification.\n",
    "\n",
    "from sklearn.metrics import *\n",
    "from scipy.stats import probplot\n",
    "import matplotlib.pyplot as plt\n",
    "import seaborn as sns\n",
    "import my_functions"
   ]
  },
  {
   "cell_type": "code",
   "execution_count": 49,
   "metadata": {},
   "outputs": [
    {
     "name": "stderr",
     "output_type": "stream",
     "text": [
      "/tmp/ipykernel_72918/2264219793.py:24: SettingWithCopyWarning: \n",
      "A value is trying to be set on a copy of a slice from a DataFrame\n",
      "\n",
      "See the caveats in the documentation: https://pandas.pydata.org/pandas-docs/stable/user_guide/indexing.html#returning-a-view-versus-a-copy\n",
      "  df.drop(\"bmi\", axis=1, inplace=True)\n"
     ]
    }
   ],
   "source": [
    "# chargement et affichage des données\n",
    "data = pd.read_csv('../data.csv')\n",
    "def classify_bmi(row):\n",
    "    if row[\"bmi\"] < 18.5:\n",
    "        return \"underweight\"\n",
    "    elif row[\"bmi\"] < 25:\n",
    "        return \"normal\"\n",
    "    elif row[\"bmi\"] < 30:\n",
    "        return \"overweight\"\n",
    "    elif row[\"bmi\"] < 35:\n",
    "        return \"obese\"\n",
    "    else:\n",
    "        return \"severely obese\"\n",
    "\n",
    "\n",
    "data[\"bmi_class\"] = data.apply(classify_bmi, axis=1)\n",
    "\n",
    "# Remove duplicates from the 'data' DataFrame\n",
    "df = data.drop_duplicates()\n",
    "\n",
    "\n",
    "# Drop Bmi\n",
    "\n",
    "df.drop(\"bmi\", axis=1, inplace=True)\n"
   ]
  },
  {
   "cell_type": "code",
   "execution_count": 50,
   "metadata": {},
   "outputs": [
    {
     "name": "stdout",
     "output_type": "stream",
     "text": [
      "<class 'pandas.core.frame.DataFrame'>\n",
      "Int64Index: 1337 entries, 0 to 1337\n",
      "Data columns (total 7 columns):\n",
      " #   Column     Non-Null Count  Dtype  \n",
      "---  ------     --------------  -----  \n",
      " 0   age        1337 non-null   int64  \n",
      " 1   sex        1337 non-null   object \n",
      " 2   children   1337 non-null   int64  \n",
      " 3   smoker     1337 non-null   object \n",
      " 4   region     1337 non-null   object \n",
      " 5   charges    1337 non-null   float64\n",
      " 6   bmi_class  1337 non-null   object \n",
      "dtypes: float64(1), int64(2), object(4)\n",
      "memory usage: 83.6+ KB\n"
     ]
    }
   ],
   "source": [
    "df.info()"
   ]
  },
  {
   "cell_type": "code",
   "execution_count": 51,
   "metadata": {},
   "outputs": [],
   "source": [
    "# Select the 'charges' column and store it in a separate DataFrame\n",
    "y = df[['charges']]\n",
    "# Drop the 'charges' column from the 'data' DataFrame and store the rest of the columns in a separate DataFrame\n",
    "X = df.drop(columns=['charges'])\n",
    "metrics = []\n",
    "\n",
    "def make_pipeline_to_ML(X,y):\n",
    "    X_train, X_test, y_train, y_test = train_test_split(X, y, shuffle=True, train_size=0.8, random_state=42, stratify=X[['smoker']])\n",
    "    numerical_features = make_column_selector(dtype_include=np.number)\n",
    "    categorical_features = make_column_selector(dtype_exclude= np.number)\n",
    "    numerical_pipeline = make_pipeline(StandardScaler(with_mean=False))\n",
    "    categorical_pipeline = make_pipeline(OneHotEncoder(handle_unknown='ignore'))\n",
    "    preprocessor = make_column_transformer((numerical_pipeline, numerical_features),\n",
    "                                    (categorical_pipeline, categorical_features)\n",
    "                                    )\n",
    "    return preprocessor, X_train, X_test, y_train, y_test\n",
    "\n",
    "\n"
   ]
  },
  {
   "cell_type": "code",
   "execution_count": null,
   "metadata": {},
   "outputs": [],
   "source": []
  },
  {
   "cell_type": "code",
   "execution_count": 52,
   "metadata": {},
   "outputs": [
    {
     "name": "stdout",
     "output_type": "stream",
     "text": [
      "LR with Kfold CV (Polynomial degree=1)\n",
      "==================================================\n",
      "\n",
      "[0.70321227 0.69244843 0.77207575 0.70744099 0.76533745]\n",
      "CV Accuracy: 0.728103 (+/- 0.07)\n",
      "['LR with Kfold CV (Polynomial degree=1)', 0.7714, 3682.057563208955, 5141.480378948708, 0.8166229112465837, 0.7392895272914239, '0.728103 (+/- 0.07)']\n"
     ]
    }
   ],
   "source": [
    "preprocessor, X_train, X_test, y_train, y_test = make_pipeline_to_ML(X,y)\n",
    "\n",
    "print(\"LR with Kfold CV (Polynomial degree=1)\")\n",
    "print(\"=\"*50)\n",
    "print()\n",
    "PolynomialFeatures_degree = 1\n",
    "model = make_pipeline(preprocessor, PolynomialFeatures(degree=PolynomialFeatures_degree), LinearRegression()    )\n",
    "\n",
    "\n",
    "kfold = KFold(n_splits=5, shuffle=True, random_state=42)\n",
    "scores = cross_val_score(model, X_train, y_train, cv=kfold)\n",
    "print(scores)\n",
    "print(\"CV Accuracy: %0.6f (+/- %0.2f)\" % (scores.mean(), scores.std() * 2))\n",
    "\n",
    "model.fit(X_train, y_train)\n",
    "Model_score_test = model.score(X_test, y_test)\n",
    "Model_score_training = model.score(X_train, y_train)\n",
    "\n",
    "R2, MAE, RMSE, y_pred = my_functions.get_metrics(model, y_test = y_test, X_test = X_test)\n",
    "metrics.append([\"LR with Kfold CV (Polynomial degree=1)\", R2, MAE, RMSE, Model_score_test, Model_score_training, \"%0.6f (+/- %0.2f)\" % (scores.mean(), scores.std() * 2)])\n",
    "\n",
    "print(metrics[0])\n",
    "\n",
    "#my_functions.plot_lasso_results('LR with Kfold CV (Polynomial degree=1)', model, y_train, X_train, y_pred, y_test, R2, MAE, RMSE, include_learning_curve=False)\n"
   ]
  },
  {
   "cell_type": "code",
   "execution_count": 53,
   "metadata": {},
   "outputs": [
    {
     "name": "stdout",
     "output_type": "stream",
     "text": [
      "          charges\n",
      "575   12222.89830\n",
      "932   10096.97000\n",
      "956   41999.52000\n",
      "144   20745.98910\n",
      "684    4766.02200\n",
      "...           ...\n",
      "917   35069.37452\n",
      "403   10269.46000\n",
      "899    2117.33885\n",
      "1337  29141.36030\n",
      "1235   2699.56835\n",
      "\n",
      "[268 rows x 1 columns]\n"
     ]
    }
   ],
   "source": [
    "\n",
    "print(y_test)"
   ]
  },
  {
   "cell_type": "code",
   "execution_count": null,
   "metadata": {},
   "outputs": [],
   "source": []
  },
  {
   "cell_type": "code",
   "execution_count": 54,
   "metadata": {},
   "outputs": [
    {
     "name": "stdout",
     "output_type": "stream",
     "text": [
      "LR with Kfold CV (Polynomial degree=2)\n",
      "==================================================\n",
      "\n",
      "[0.79687059 0.79212542 0.89476617 0.8368396  0.85837371]\n",
      "CV Accuracy: 0.84 (+/- 0.08)\n",
      "['LR with Kfold CV (Polynomial degree=2)', 0.8771, 2933.693871044776, 3870.1436898445386, 0.8960982439722484, 0.8513529459443046, '0.84 (+/- 0.08)']\n"
     ]
    }
   ],
   "source": [
    "preprocessor, X_train, X_test, y_train, y_test = make_pipeline_to_ML(X,y)\n",
    "\n",
    "print(\"LR with Kfold CV (Polynomial degree=2)\")\n",
    "print(\"=\"*50)\n",
    "print()\n",
    "PolynomialFeatures_degree = 2\n",
    "model = make_pipeline(preprocessor, PolynomialFeatures(degree=PolynomialFeatures_degree), LinearRegression()    )\n",
    "\n",
    "\n",
    "kfold = KFold(n_splits=5, shuffle=True, random_state=42)\n",
    "scores = cross_val_score(model, X_train, y_train, cv=kfold)\n",
    "print(scores)\n",
    "print(\"CV Accuracy: %0.2f (+/- %0.2f)\" % (scores.mean(), scores.std() * 2))\n",
    "\n",
    "model.fit(X_train, y_train)\n",
    "Model_score_test = model.score(X_test, y_test)\n",
    "Model_score_training = model.score(X_train, y_train)\n",
    "\n",
    "R2, MAE, RMSE, y_pred = my_functions.get_metrics(model, y_test = y_test, X_test = X_test)\n",
    "metrics.append([\"LR with Kfold CV (Polynomial degree=2)\", R2, MAE, RMSE, Model_score_test, Model_score_training, \"%0.2f (+/- %0.2f)\" % (scores.mean(), scores.std() * 2)])\n",
    "\n",
    "print(metrics[1])\n",
    "\n",
    "\n",
    "#my_functions.plot_lasso_results('LR with Kfold CV (Polynomial degree=2)', model, y_train, X_train, y_pred, y_test, R2, MAE, RMSE, include_learning_curve=False)"
   ]
  },
  {
   "cell_type": "code",
   "execution_count": null,
   "metadata": {},
   "outputs": [],
   "source": []
  },
  {
   "cell_type": "code",
   "execution_count": 55,
   "metadata": {},
   "outputs": [
    {
     "name": "stdout",
     "output_type": "stream",
     "text": [
      "This function returns the best hyperparameters for the given model, using GridSearchCV.\n"
     ]
    }
   ],
   "source": [
    "################################\n",
    "################################\n",
    "#\n",
    "# Get best Hypermarameters\n",
    "#\n",
    "################################\n",
    "################################\n",
    "\n",
    "\n",
    "preprocessor, X_train, X_test, y_train, y_test = make_pipeline_to_ML(X,y)\n",
    "\n",
    "my_functions.get_best_params(\n",
    "    PolynomialFeatures_degree = 1,  \n",
    "    model=Lasso(max_iter=100000, \n",
    "    tol=0.0001,\n",
    "    random_state=42, \n",
    "    selection='cyclic'),   \n",
    "    param_grid= {'lasso__alpha': np.linspace(37,41,200)}, \n",
    "    preprocessor = preprocessor, \n",
    "    X_train = X_train, \n",
    "    y_train = y_train)\n"
   ]
  },
  {
   "cell_type": "code",
   "execution_count": 56,
   "metadata": {},
   "outputs": [
    {
     "name": "stdout",
     "output_type": "stream",
     "text": [
      "LASSO with PolynomialFeatures(degree=1)\n",
      "==================================================\n",
      "\n",
      "Lasso best alpha =  39.4321608040201\n",
      "time to find best alpha : 1min 10.6s\n",
      "[0.70660291 0.69252029 0.77249258 0.70644752 0.76305296]\n",
      "CV Accuracy: 0.73 (+/- 0.07)\n",
      "Lasso Score with PolynomialFeatures(degree=1) : 0.8183362143567563\n",
      "['LR with Kfold CV (Polynomial degree=2)', 0.8771, 2933.693871044776, 3870.1436898445386, 0.8960982439722484, 0.8513529459443046, '0.84 (+/- 0.08)']\n"
     ]
    }
   ],
   "source": [
    "preprocessor, X_train, X_test, y_train, y_test = make_pipeline_to_ML(X,y)\n",
    "\n",
    "\n",
    "print(\"LASSO with PolynomialFeatures(degree=1)\")\n",
    "print(\"=\"*50)\n",
    "print()\n",
    "#model = make_pipeline(preprocessor, PolynomialFeatures(degree=1), Lasso(max_iter=100000, tol=0.0001,random_state=42, selection='cyclic'))\n",
    "#param_grid = {'lasso__alpha': np.linspace(0.01,100,1000)}\n",
    "#grid_search = GridSearchCV(model, param_grid, cv=5)\n",
    "#grid_search.fit(X_train, y_train)\n",
    "#best_params = grid_search.best_params_\n",
    "#print(best_params)\n",
    "#model = grid_search.best_estimator_\n",
    "\n",
    "\n",
    "print('Lasso best alpha =  39.4321608040201')\n",
    "print(\"time to find best alpha : 1min 10.6s\")\n",
    "#best={'lasso__alpha': 75.6781081081081}\n",
    "Best_alpha = 39.4321608040201\n",
    "model_parameters = Lasso(alpha=Best_alpha, max_iter=100000,random_state=42)\n",
    "PolynomialFeatures_degree = 1\n",
    "\n",
    "Lasso_model_PolynomialFeatures_1 = make_pipeline(preprocessor, PolynomialFeatures(degree=PolynomialFeatures_degree), model_parameters)\n",
    "\n",
    "kfold = KFold(n_splits=5, shuffle=True, random_state=42)\n",
    "scores = cross_val_score(Lasso_model_PolynomialFeatures_1, X_train, y_train, cv=kfold)\n",
    "print(scores)\n",
    "print(\"CV Accuracy: %0.2f (+/- %0.2f)\" % (scores.mean(), scores.std() * 2))\n",
    "\n",
    "Lasso_model_PolynomialFeatures_1.fit(X_train, y_train)\n",
    "\n",
    "Model_score_test = Lasso_model_PolynomialFeatures_1.score(X_test, y_test)\n",
    "Model_score_training = Lasso_model_PolynomialFeatures_1.score(X_train, y_train)\n",
    "print(f\"Lasso Score with PolynomialFeatures(degree=1) : {Model_score_test}\")\n",
    "\n",
    "\n",
    "R2, MAE, RMSE, y_pred = my_functions.get_metrics(Lasso_model_PolynomialFeatures_1, y_test = y_test, X_test = X_test)\n",
    "\n",
    "metrics.append([\"LASSO (Polynomial degree=1)\", R2, MAE, RMSE, Model_score_test, Model_score_training ,\"%0.2f (+/- %0.2f)\" % (scores.mean(), scores.std() * 2), f\"Best_alpha : {round(Best_alpha,3)}\"])\n",
    "\n",
    "print(metrics[1])\n",
    "\n",
    "#my_functions.plot_lasso_results('LASSO (Polynomial degree=1)', Lasso_model_PolynomialFeatures_1, y_train, X_train, y_pred, y_test, R2, MAE, RMSE, include_learning_curve=False)"
   ]
  },
  {
   "cell_type": "code",
   "execution_count": 57,
   "metadata": {},
   "outputs": [
    {
     "data": {
      "text/html": [
       "<div>\n",
       "<style scoped>\n",
       "    .dataframe tbody tr th:only-of-type {\n",
       "        vertical-align: middle;\n",
       "    }\n",
       "\n",
       "    .dataframe tbody tr th {\n",
       "        vertical-align: top;\n",
       "    }\n",
       "\n",
       "    .dataframe thead th {\n",
       "        text-align: right;\n",
       "    }\n",
       "</style>\n",
       "<table border=\"1\" class=\"dataframe\">\n",
       "  <thead>\n",
       "    <tr style=\"text-align: right;\">\n",
       "      <th></th>\n",
       "      <th>R2</th>\n",
       "      <th>MAE</th>\n",
       "      <th>RMSE</th>\n",
       "      <th>Score (test)</th>\n",
       "      <th>Score (trainging)</th>\n",
       "      <th>CV Accuracy</th>\n",
       "      <th>HyperParamter</th>\n",
       "    </tr>\n",
       "    <tr>\n",
       "      <th>Model</th>\n",
       "      <th></th>\n",
       "      <th></th>\n",
       "      <th></th>\n",
       "      <th></th>\n",
       "      <th></th>\n",
       "      <th></th>\n",
       "      <th></th>\n",
       "    </tr>\n",
       "  </thead>\n",
       "  <tbody>\n",
       "    <tr>\n",
       "      <th>LR with Kfold CV (Polynomial degree=2)</th>\n",
       "      <td>0.8771</td>\n",
       "      <td>2933.693871</td>\n",
       "      <td>3870.143690</td>\n",
       "      <td>0.896098</td>\n",
       "      <td>0.851353</td>\n",
       "      <td>0.84 (+/- 0.08)</td>\n",
       "      <td>None</td>\n",
       "    </tr>\n",
       "    <tr>\n",
       "      <th>LASSO (Polynomial degree=1)</th>\n",
       "      <td>0.7695</td>\n",
       "      <td>3621.834571</td>\n",
       "      <td>5117.405434</td>\n",
       "      <td>0.818336</td>\n",
       "      <td>0.739337</td>\n",
       "      <td>0.73 (+/- 0.07)</td>\n",
       "      <td>Best_alpha : 39.432</td>\n",
       "    </tr>\n",
       "    <tr>\n",
       "      <th>LR with Kfold CV (Polynomial degree=1)</th>\n",
       "      <td>0.7714</td>\n",
       "      <td>3682.057563</td>\n",
       "      <td>5141.480379</td>\n",
       "      <td>0.816623</td>\n",
       "      <td>0.739290</td>\n",
       "      <td>0.728103 (+/- 0.07)</td>\n",
       "      <td>None</td>\n",
       "    </tr>\n",
       "  </tbody>\n",
       "</table>\n",
       "</div>"
      ],
      "text/plain": [
       "                                            R2          MAE         RMSE  \\\n",
       "Model                                                                      \n",
       "LR with Kfold CV (Polynomial degree=2)  0.8771  2933.693871  3870.143690   \n",
       "LASSO (Polynomial degree=1)             0.7695  3621.834571  5117.405434   \n",
       "LR with Kfold CV (Polynomial degree=1)  0.7714  3682.057563  5141.480379   \n",
       "\n",
       "                                        Score (test)  Score (trainging)  \\\n",
       "Model                                                                     \n",
       "LR with Kfold CV (Polynomial degree=2)      0.896098           0.851353   \n",
       "LASSO (Polynomial degree=1)                 0.818336           0.739337   \n",
       "LR with Kfold CV (Polynomial degree=1)      0.816623           0.739290   \n",
       "\n",
       "                                                CV Accuracy  \\\n",
       "Model                                                         \n",
       "LR with Kfold CV (Polynomial degree=2)      0.84 (+/- 0.08)   \n",
       "LASSO (Polynomial degree=1)                 0.73 (+/- 0.07)   \n",
       "LR with Kfold CV (Polynomial degree=1)  0.728103 (+/- 0.07)   \n",
       "\n",
       "                                              HyperParamter  \n",
       "Model                                                        \n",
       "LR with Kfold CV (Polynomial degree=2)                 None  \n",
       "LASSO (Polynomial degree=1)             Best_alpha : 39.432  \n",
       "LR with Kfold CV (Polynomial degree=1)                 None  "
      ]
     },
     "execution_count": 57,
     "metadata": {},
     "output_type": "execute_result"
    }
   ],
   "source": [
    "df_result = pd.DataFrame(metrics , columns=['Model' , 'R2' , 'MAE' , 'RMSE', 'Score (test)', 'Score (trainging)' , \"CV Accuracy\", 'HyperParamter']).sort_values(['MAE' , 'RMSE'] , ignore_index=True).set_index('Model')\n",
    "#df_result = pd.DataFrame(metrics , columns=['Model' , 'R2' , 'MAE' , 'RMSE', 'Score (test)', 'Score (trainging)' , \"CV Accuracy\"]).sort_values(['MAE' , 'RMSE'] , ignore_index=True).set_index('Model')\n",
    "df_result"
   ]
  },
  {
   "cell_type": "code",
   "execution_count": 58,
   "metadata": {},
   "outputs": [
    {
     "data": {
      "image/png": "[encoded data removed]",
      "text/plain": [
       "<Figure size 720x432 with 1 Axes>"
      ]
     },
     "metadata": {
      "needs_background": "light"
     },
     "output_type": "display_data"
    }
   ],
   "source": [
    "\n",
    "def get_index_to_remove_by_Cooks_Distance(X_train, y_train, preprocessor):\n",
    "    X_test_pipe = preprocessor.transform(X_train)\n",
    "\n",
    "\n",
    "    # Get the names of the columns added by the OneHotEncoder\n",
    "    new_columns = preprocessor.get_feature_names_out()\n",
    "    new_columns = [w.replace('pipeline-1__', '') for w in new_columns]\n",
    "    new_columns = [w.replace('pipeline-2__', '') for w in new_columns]\n",
    "\n",
    "\n",
    "    newdf = pd.DataFrame(X_test_pipe)\n",
    "\n",
    "    newdf.columns = new_columns\n",
    "\n",
    "\n",
    "\n",
    "    import statsmodels.api as sm\n",
    "\n",
    "\n",
    "    X = sm.add_constant(newdf)\n",
    "    X = X.set_index(y_train.index)\n",
    "    estimation = sm.OLS(y_train, X_test_pipe).fit()\n",
    "    #estimation.summary()\n",
    "    influence = estimation.get_influence().cooks_distance[0]\n",
    "\n",
    "    X['dcooks'] = influence\n",
    "    n = X.shape[0]\n",
    "    p = X.shape[1]\n",
    "    seuil_dcook = 4/(n-p)\n",
    "\n",
    "    index_to_be_removed = X[X['dcooks']>seuil_dcook].index\n",
    "\n",
    "    plt.figure(figsize=(10,6))\n",
    "    plt.bar(X.index, X['dcooks'])\n",
    "    plt.xticks(np.arange(0, len(X), step=5))\n",
    "    plt.xlabel('Observation')\n",
    "    plt.ylabel('Cooks Distance')\n",
    "    plt.plot([0, len(X)], [seuil_dcook, seuil_dcook], color='r')\n",
    "    plt.show()\n",
    "    \n",
    "    return index_to_be_removed\n",
    "\n",
    "index_to_be_removed = get_index_to_remove_by_Cooks_Distance(X_train=X_train, y_train=y_train, preprocessor=preprocessor)\n",
    "X_train = X_train.drop(index=index_to_be_removed.values)\n",
    "y_train = y_train.drop(index=index_to_be_removed.values)\n",
    "\n"
   ]
  },
  {
   "cell_type": "code",
   "execution_count": 59,
   "metadata": {},
   "outputs": [
    {
     "name": "stdout",
     "output_type": "stream",
     "text": [
      "[0.82536293 0.83271761 0.79203106 0.84093225 0.80445239]\n",
      "CV Accuracy: 0.819099 (+/- 0.04)\n"
     ]
    }
   ],
   "source": [
    "PolynomialFeatures_degree = 1\n",
    "model = make_pipeline(preprocessor, PolynomialFeatures(degree=PolynomialFeatures_degree), LinearRegression()    )\n",
    "\n",
    "\n",
    "kfold = KFold(n_splits=5, shuffle=True, random_state=42)\n",
    "scores = cross_val_score(model, X_train, y_train, cv=kfold)\n",
    "print(scores)\n",
    "print(\"CV Accuracy: %0.6f (+/- %0.2f)\" % (scores.mean(), scores.std() * 2))\n",
    "\n"
   ]
  },
  {
   "cell_type": "code",
   "execution_count": 60,
   "metadata": {},
   "outputs": [
    {
     "data": {
      "text/plain": [
       "0.7281"
      ]
     },
     "execution_count": 60,
     "metadata": {},
     "output_type": "execute_result"
    }
   ],
   "source": [
    "0.72810"
   ]
  },
  {
   "cell_type": "code",
   "execution_count": 63,
   "metadata": {},
   "outputs": [
    {
     "name": "stdout",
     "output_type": "stream",
     "text": [
      "0.8144473182208555\n",
      "0.8242734569648739\n"
     ]
    }
   ],
   "source": [
    "model.fit(X_train, y_train)\n",
    "print(model.score(X_test, y_test))\n",
    "print(model.score(X_train, y_train))"
   ]
  },
  {
   "cell_type": "code",
   "execution_count": null,
   "metadata": {},
   "outputs": [
    {
     "data": {
      "text/html": [
       "<div>\n",
       "<style scoped>\n",
       "    .dataframe tbody tr th:only-of-type {\n",
       "        vertical-align: middle;\n",
       "    }\n",
       "\n",
       "    .dataframe tbody tr th {\n",
       "        vertical-align: top;\n",
       "    }\n",
       "\n",
       "    .dataframe thead th {\n",
       "        text-align: right;\n",
       "    }\n",
       "</style>\n",
       "<table border=\"1\" class=\"dataframe\">\n",
       "  <thead>\n",
       "    <tr style=\"text-align: right;\">\n",
       "      <th></th>\n",
       "      <th>charges</th>\n",
       "    </tr>\n",
       "  </thead>\n",
       "  <tbody>\n",
       "    <tr>\n",
       "      <th>575</th>\n",
       "      <td>12222.89830</td>\n",
       "    </tr>\n",
       "    <tr>\n",
       "      <th>932</th>\n",
       "      <td>10096.97000</td>\n",
       "    </tr>\n",
       "    <tr>\n",
       "      <th>956</th>\n",
       "      <td>41999.52000</td>\n",
       "    </tr>\n",
       "    <tr>\n",
       "      <th>144</th>\n",
       "      <td>20745.98910</td>\n",
       "    </tr>\n",
       "    <tr>\n",
       "      <th>684</th>\n",
       "      <td>4766.02200</td>\n",
       "    </tr>\n",
       "    <tr>\n",
       "      <th>...</th>\n",
       "      <td>...</td>\n",
       "    </tr>\n",
       "    <tr>\n",
       "      <th>917</th>\n",
       "      <td>35069.37452</td>\n",
       "    </tr>\n",
       "    <tr>\n",
       "      <th>403</th>\n",
       "      <td>10269.46000</td>\n",
       "    </tr>\n",
       "    <tr>\n",
       "      <th>899</th>\n",
       "      <td>2117.33885</td>\n",
       "    </tr>\n",
       "    <tr>\n",
       "      <th>1337</th>\n",
       "      <td>29141.36030</td>\n",
       "    </tr>\n",
       "    <tr>\n",
       "      <th>1235</th>\n",
       "      <td>2699.56835</td>\n",
       "    </tr>\n",
       "  </tbody>\n",
       "</table>\n",
       "<p>268 rows × 1 columns</p>\n",
       "</div>"
      ],
      "text/plain": [
       "          charges\n",
       "575   12222.89830\n",
       "932   10096.97000\n",
       "956   41999.52000\n",
       "144   20745.98910\n",
       "684    4766.02200\n",
       "...           ...\n",
       "917   35069.37452\n",
       "403   10269.46000\n",
       "899    2117.33885\n",
       "1337  29141.36030\n",
       "1235   2699.56835\n",
       "\n",
       "[268 rows x 1 columns]"
      ]
     },
     "execution_count": 43,
     "metadata": {},
     "output_type": "execute_result"
    }
   ],
   "source": [
    "y_test"
   ]
  },
  {
   "cell_type": "code",
   "execution_count": null,
   "metadata": {},
   "outputs": [],
   "source": []
  }
 ],
 "metadata": {
  "kernelspec": {
   "display_name": "Python 3",
   "language": "python",
   "name": "python3"
  },
  "language_info": {
   "codemirror_mode": {
    "name": "ipython",
    "version": 3
   },
   "file_extension": ".py",
   "mimetype": "text/x-python",
   "name": "python",
   "nbconvert_exporter": "python",
   "pygments_lexer": "ipython3",
   "version": "3.10.6"
  },
  "orig_nbformat": 4,
  "vscode": {
   "interpreter": {
    "hash": "916dbcbb3f70747c44a77c7bcd40155683ae19c65e1c03b4aa3499c5328201f1"
   }
  }
 },
 "nbformat": 4,
 "nbformat_minor": 2
}
