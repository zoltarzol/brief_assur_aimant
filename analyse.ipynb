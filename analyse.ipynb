{
 "cells": [
  {
   "cell_type": "code",
   "execution_count": 1,
   "metadata": {},
   "outputs": [],
   "source": [
    "# Libraries import\n",
    "import pandas as pd, numpy as np, missingno as mno"
   ]
  },
  {
   "cell_type": "code",
   "execution_count": 6,
   "metadata": {},
   "outputs": [],
   "source": [
    "# Read the dataset\n",
    "df = pd.read_csv('dataset_brief_assur_aimant.csv')"
   ]
  },
  {
   "cell_type": "code",
   "execution_count": 9,
   "metadata": {},
   "outputs": [
    {
     "name": "stdout",
     "output_type": "stream",
     "text": [
      "age         False\n",
      "sex         False\n",
      "bmi         False\n",
      "children    False\n",
      "smoker      False\n",
      "region      False\n",
      "charges     False\n",
      "dtype: bool\n"
     ]
    }
   ],
   "source": [
    "# Check for missing values\n",
    "missing = df.isnull().any()\n",
    "print(missing)"
   ]
  },
  {
   "cell_type": "code",
   "execution_count": 10,
   "metadata": {},
   "outputs": [
    {
     "name": "stdout",
     "output_type": "stream",
     "text": [
      "     age   sex    bmi  children smoker     region    charges\n",
      "195   19  male  30.59         0     no  northwest  1639.5631\n",
      "581   19  male  30.59         0     no  northwest  1639.5631\n"
     ]
    }
   ],
   "source": [
    "# Check for duplicates\n",
    "duplicates = df[df.duplicated(keep=False)]\n",
    "print(duplicates)"
   ]
  },
  {
   "cell_type": "code",
   "execution_count": 11,
   "metadata": {},
   "outputs": [
    {
     "name": "stdout",
     "output_type": "stream",
     "text": [
      "Column bmi has outliers\n",
      "Outlier values are:\n",
      "      age     sex    bmi  children smoker     region      charges\n",
      "116    58    male  49.06         0     no  southeast  11381.32540\n",
      "286    46  female  48.07         2     no  northeast   9432.92530\n",
      "401    47    male  47.52         1     no  southeast   8083.91980\n",
      "543    54  female  47.41         0    yes  southeast  63770.42801\n",
      "847    23    male  50.38         1     no  southeast   2438.05520\n",
      "860    37  female  47.60         2    yes  southwest  46113.51100\n",
      "1047   22    male  52.58         1    yes  southeast  44501.39820\n",
      "1088   52    male  47.74         1     no  southeast   9748.91060\n",
      "1317   18    male  53.13         0     no  southeast   1163.46270\n",
      "Column charges has outliers\n",
      "Outlier values are:\n",
      "      age     sex     bmi  children smoker     region      charges\n",
      "14     27    male  42.130         0    yes  southeast  39611.75770\n",
      "19     30    male  35.300         0    yes  southwest  36837.46700\n",
      "23     34  female  31.920         1    yes  northeast  37701.87680\n",
      "29     31    male  36.300         2    yes  southwest  38711.00000\n",
      "30     22    male  35.600         0    yes  southwest  35585.57600\n",
      "...   ...     ...     ...       ...    ...        ...          ...\n",
      "1300   45    male  30.360         0    yes  southeast  62592.87309\n",
      "1301   62    male  30.875         3    yes  northwest  46718.16325\n",
      "1303   43    male  27.800         0    yes  southwest  37829.72420\n",
      "1313   19  female  34.700         2    yes  southwest  36397.57600\n",
      "1323   42  female  40.370         2    yes  southeast  43896.37630\n",
      "\n",
      "[139 rows x 7 columns]\n"
     ]
    }
   ],
   "source": [
    "#calculate descriptive statistics for the dataset\n",
    "descriptive_stats = df.describe()\n",
    "\n",
    "#check for outliers in the numerical variables\n",
    "for col in df.select_dtypes(include=['int64','float64']).columns:\n",
    "    q1 = descriptive_stats.loc['25%', col]\n",
    "    q3 = descriptive_stats.loc['75%', col]\n",
    "    iqr = q3-q1\n",
    "    lower_bound = q1-1.5*iqr\n",
    "    upper_bound = q3+1.5*iqr\n",
    "    outlier_values = df[(df[col] < lower_bound) | (df[col] > upper_bound)].index\n",
    "    \n",
    "    if len(outlier_values) > 0:\n",
    "        print(\"Column \"+col+\" has outliers\")\n",
    "        print(\"Outlier values are:\")\n",
    "        print(df.iloc[outlier_values])"
   ]
  }
 ],
 "metadata": {
  "kernelspec": {
   "display_name": "ds",
   "language": "python",
   "name": "python3"
  },
  "language_info": {
   "codemirror_mode": {
    "name": "ipython",
    "version": 3
   },
   "file_extension": ".py",
   "mimetype": "text/x-python",
   "name": "python",
   "nbconvert_exporter": "python",
   "pygments_lexer": "ipython3",
   "version": "3.10.8"
  },
  "orig_nbformat": 4,
  "vscode": {
   "interpreter": {
    "hash": "a5d3b7aa8eea26c809b37ced79911a6309134a44bd006483ea9858b6cea24951"
   }
  }
 },
 "nbformat": 4,
 "nbformat_minor": 2
}
