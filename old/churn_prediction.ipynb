{
 "cells": [
  {
   "cell_type": "markdown",
   "metadata": {},
   "source": [
    "# imports"
   ]
  },
  {
   "cell_type": "code",
   "execution_count": 91,
   "metadata": {},
   "outputs": [],
   "source": [
    "import pandas\n",
    "from pylab import *\n",
    "\n",
    "from sklearn.model_selection import train_test_split\n",
    "\n",
    "from sklearn.ensemble import AdaBoostClassifier, RandomForestClassifier\n",
    "from sklearn.tree import DecisionTreeClassifier\n",
    "from sklearn.linear_model import LogisticRegression\n",
    "\n",
    "from sklearn.metrics import accuracy_score, precision_score, recall_score, f1_score, confusion_matrix"
   ]
  },
  {
   "cell_type": "markdown",
   "metadata": {},
   "source": [
    "# data acquisition"
   ]
  },
  {
   "cell_type": "code",
   "execution_count": 2,
   "metadata": {},
   "outputs": [],
   "source": [
    "data_path = \"customer_churn.csv\""
   ]
  },
  {
   "cell_type": "code",
   "execution_count": 12,
   "metadata": {},
   "outputs": [
    {
     "data": {
      "text/html": [
       "<div>\n",
       "<style scoped>\n",
       "    .dataframe tbody tr th:only-of-type {\n",
       "        vertical-align: middle;\n",
       "    }\n",
       "\n",
       "    .dataframe tbody tr th {\n",
       "        vertical-align: top;\n",
       "    }\n",
       "\n",
       "    .dataframe thead th {\n",
       "        text-align: right;\n",
       "    }\n",
       "</style>\n",
       "<table border=\"1\" class=\"dataframe\">\n",
       "  <thead>\n",
       "    <tr style=\"text-align: right;\">\n",
       "      <th></th>\n",
       "      <th>index</th>\n",
       "      <th>state</th>\n",
       "      <th>account_length</th>\n",
       "      <th>area_code</th>\n",
       "      <th>international_plan</th>\n",
       "      <th>voice_mail_plan</th>\n",
       "      <th>number_vmail_messages</th>\n",
       "      <th>total_day_minutes</th>\n",
       "      <th>total_day_calls</th>\n",
       "      <th>total_day_charge</th>\n",
       "      <th>...</th>\n",
       "      <th>total_eve_calls</th>\n",
       "      <th>total_eve_charge</th>\n",
       "      <th>total_night_minutes</th>\n",
       "      <th>total_night_calls</th>\n",
       "      <th>total_night_charge</th>\n",
       "      <th>total_intl_minutes</th>\n",
       "      <th>total_intl_calls</th>\n",
       "      <th>total_intl_charge</th>\n",
       "      <th>number_customer_service_calls</th>\n",
       "      <th>churn</th>\n",
       "    </tr>\n",
       "  </thead>\n",
       "  <tbody>\n",
       "    <tr>\n",
       "      <th>0</th>\n",
       "      <td>2834</td>\n",
       "      <td>WV</td>\n",
       "      <td>139</td>\n",
       "      <td>area_code_415</td>\n",
       "      <td>no</td>\n",
       "      <td>no</td>\n",
       "      <td>0</td>\n",
       "      <td>271.6</td>\n",
       "      <td>130</td>\n",
       "      <td>46.17</td>\n",
       "      <td>...</td>\n",
       "      <td>131</td>\n",
       "      <td>13.26</td>\n",
       "      <td>136.3</td>\n",
       "      <td>108</td>\n",
       "      <td>6.13</td>\n",
       "      <td>11.6</td>\n",
       "      <td>9</td>\n",
       "      <td>3.13</td>\n",
       "      <td>2</td>\n",
       "      <td>no</td>\n",
       "    </tr>\n",
       "    <tr>\n",
       "      <th>1</th>\n",
       "      <td>2091</td>\n",
       "      <td>NC</td>\n",
       "      <td>106</td>\n",
       "      <td>area_code_415</td>\n",
       "      <td>no</td>\n",
       "      <td>yes</td>\n",
       "      <td>37</td>\n",
       "      <td>223.5</td>\n",
       "      <td>104</td>\n",
       "      <td>38.00</td>\n",
       "      <td>...</td>\n",
       "      <td>99</td>\n",
       "      <td>19.98</td>\n",
       "      <td>140.1</td>\n",
       "      <td>90</td>\n",
       "      <td>6.30</td>\n",
       "      <td>10.6</td>\n",
       "      <td>5</td>\n",
       "      <td>2.86</td>\n",
       "      <td>2</td>\n",
       "      <td>no</td>\n",
       "    </tr>\n",
       "    <tr>\n",
       "      <th>2</th>\n",
       "      <td>1235</td>\n",
       "      <td>IA</td>\n",
       "      <td>86</td>\n",
       "      <td>area_code_408</td>\n",
       "      <td>no</td>\n",
       "      <td>no</td>\n",
       "      <td>0</td>\n",
       "      <td>126.3</td>\n",
       "      <td>115</td>\n",
       "      <td>21.47</td>\n",
       "      <td>...</td>\n",
       "      <td>112</td>\n",
       "      <td>14.35</td>\n",
       "      <td>154.6</td>\n",
       "      <td>95</td>\n",
       "      <td>6.96</td>\n",
       "      <td>9.8</td>\n",
       "      <td>7</td>\n",
       "      <td>2.65</td>\n",
       "      <td>2</td>\n",
       "      <td>no</td>\n",
       "    </tr>\n",
       "    <tr>\n",
       "      <th>3</th>\n",
       "      <td>1825</td>\n",
       "      <td>KS</td>\n",
       "      <td>138</td>\n",
       "      <td>area_code_510</td>\n",
       "      <td>no</td>\n",
       "      <td>yes</td>\n",
       "      <td>26</td>\n",
       "      <td>183.9</td>\n",
       "      <td>83</td>\n",
       "      <td>31.26</td>\n",
       "      <td>...</td>\n",
       "      <td>93</td>\n",
       "      <td>20.46</td>\n",
       "      <td>185.7</td>\n",
       "      <td>125</td>\n",
       "      <td>8.36</td>\n",
       "      <td>15.0</td>\n",
       "      <td>3</td>\n",
       "      <td>4.05</td>\n",
       "      <td>1</td>\n",
       "      <td>no</td>\n",
       "    </tr>\n",
       "    <tr>\n",
       "      <th>4</th>\n",
       "      <td>3046</td>\n",
       "      <td>MN</td>\n",
       "      <td>57</td>\n",
       "      <td>area_code_415</td>\n",
       "      <td>no</td>\n",
       "      <td>no</td>\n",
       "      <td>0</td>\n",
       "      <td>272.7</td>\n",
       "      <td>74</td>\n",
       "      <td>46.36</td>\n",
       "      <td>...</td>\n",
       "      <td>85</td>\n",
       "      <td>19.12</td>\n",
       "      <td>178.2</td>\n",
       "      <td>104</td>\n",
       "      <td>8.02</td>\n",
       "      <td>10.5</td>\n",
       "      <td>3</td>\n",
       "      <td>2.84</td>\n",
       "      <td>2</td>\n",
       "      <td>yes</td>\n",
       "    </tr>\n",
       "  </tbody>\n",
       "</table>\n",
       "<p>5 rows × 21 columns</p>\n",
       "</div>"
      ],
      "text/plain": [
       "   index state  account_length      area_code international_plan  \\\n",
       "0   2834    WV             139  area_code_415                 no   \n",
       "1   2091    NC             106  area_code_415                 no   \n",
       "2   1235    IA              86  area_code_408                 no   \n",
       "3   1825    KS             138  area_code_510                 no   \n",
       "4   3046    MN              57  area_code_415                 no   \n",
       "\n",
       "  voice_mail_plan  number_vmail_messages  total_day_minutes  total_day_calls  \\\n",
       "0              no                      0              271.6              130   \n",
       "1             yes                     37              223.5              104   \n",
       "2              no                      0              126.3              115   \n",
       "3             yes                     26              183.9               83   \n",
       "4              no                      0              272.7               74   \n",
       "\n",
       "   total_day_charge  ...    total_eve_calls  total_eve_charge  \\\n",
       "0             46.17  ...                131             13.26   \n",
       "1             38.00  ...                 99             19.98   \n",
       "2             21.47  ...                112             14.35   \n",
       "3             31.26  ...                 93             20.46   \n",
       "4             46.36  ...                 85             19.12   \n",
       "\n",
       "   total_night_minutes  total_night_calls  total_night_charge  \\\n",
       "0                136.3                108                6.13   \n",
       "1                140.1                 90                6.30   \n",
       "2                154.6                 95                6.96   \n",
       "3                185.7                125                8.36   \n",
       "4                178.2                104                8.02   \n",
       "\n",
       "   total_intl_minutes  total_intl_calls  total_intl_charge  \\\n",
       "0                11.6                 9               3.13   \n",
       "1                10.6                 5               2.86   \n",
       "2                 9.8                 7               2.65   \n",
       "3                15.0                 3               4.05   \n",
       "4                10.5                 3               2.84   \n",
       "\n",
       "   number_customer_service_calls  churn  \n",
       "0                              2     no  \n",
       "1                              2     no  \n",
       "2                              2     no  \n",
       "3                              1     no  \n",
       "4                              2    yes  \n",
       "\n",
       "[5 rows x 21 columns]"
      ]
     },
     "execution_count": 12,
     "metadata": {},
     "output_type": "execute_result"
    }
   ],
   "source": [
    "df = pandas.read_csv(data_path, index_col=0)\n",
    "# vérifier s'il y a des valeurs nulles\n",
    "df = df.sample(frac=1) # mélanger les lignes aléatoirement\n",
    "df = df.reset_index() # redéfinir l'index des lignes pour qu'il soit séquentiel \n",
    "df.head()"
   ]
  },
  {
   "cell_type": "markdown",
   "metadata": {},
   "source": [
    "# data cleaning"
   ]
  },
  {
   "cell_type": "code",
   "execution_count": 4,
   "metadata": {},
   "outputs": [],
   "source": [
    "# traiter les colonnes contenant des valeurs catégorielles\n",
    "X_str = df.select_dtypes(include=object)\n",
    "X_str = X_str.drop([\"churn\"], axis='columns')\n",
    "X_str = pandas.get_dummies(X_str, drop_first=True)\n"
   ]
  },
  {
   "cell_type": "code",
   "execution_count": 5,
   "metadata": {},
   "outputs": [],
   "source": [
    "# traiter les colonnes contenant des valeurs numérique\n",
    "\n",
    "X_nonstr = df.select_dtypes(exclude=object)\n",
    "X_nonstr = X_nonstr.drop([\"index\"], axis='columns')"
   ]
  },
  {
   "cell_type": "code",
   "execution_count": 6,
   "metadata": {},
   "outputs": [],
   "source": [
    "X = pandas.merge(X_str, X_nonstr, left_index=True, right_index=True)"
   ]
  },
  {
   "cell_type": "code",
   "execution_count": 7,
   "metadata": {},
   "outputs": [],
   "source": [
    "y = df[\"churn\"]"
   ]
  },
  {
   "cell_type": "code",
   "execution_count": null,
   "metadata": {},
   "outputs": [],
   "source": []
  },
  {
   "cell_type": "code",
   "execution_count": 44,
   "metadata": {},
   "outputs": [
    {
     "name": "stdout",
     "output_type": "stream",
     "text": [
      "no     85.508551\n",
      "yes    14.491449\n",
      "Name: churn, dtype: float64\n",
      "no     85.52138\n",
      "yes    14.47862\n",
      "Name: churn, dtype: float64\n",
      "no     85.457271\n",
      "yes    14.542729\n",
      "Name: churn, dtype: float64\n"
     ]
    }
   ],
   "source": [
    "X_train, X_test, y_train, y_test = train_test_split(X, y, test_size=0.20, stratify=y)\n",
    "print(y.value_counts(normalize=True)*100)\n",
    "print(y_train.value_counts(normalize=True)*100)\n",
    "print(y_test.value_counts(normalize=True)*100)"
   ]
  },
  {
   "cell_type": "code",
   "execution_count": null,
   "metadata": {},
   "outputs": [],
   "source": []
  },
  {
   "cell_type": "code",
   "execution_count": 36,
   "metadata": {},
   "outputs": [],
   "source": [
    "\"\"\" pour faire le split equilibré manuellement \n",
    "yes_mask = y == \"yes\"\n",
    "no_mask = yes_mask.apply(lambda x : not x)\n",
    "y_yes = y[yes_mask]\n",
    "y_no = y[no_mask] \n",
    "X_yes = X[yes_mask]\n",
    "X_no = X[no_mask] \n",
    "X_yes = X_yes.sample(frac=1)\n",
    "shuffle_index = X_yes.index\n",
    "y_yes = y_yes[shuffle_index]\n",
    "\"\"\""
   ]
  },
  {
   "cell_type": "code",
   "execution_count": 67,
   "metadata": {},
   "outputs": [],
   "source": [
    "\"\"\" pour élimininer une des deux colonnes qui sont corrélées \n",
    "RF = RandomForestClassifier()\n",
    "X_train_tmp = X_train.drop([\"total_day_charge\"], axis=1)\n",
    "RF.fit(X_train_tmp, y_train)\n",
    "\n",
    "feat_importance = pandas.DataFrame([(X_train_tmp.columns[i], RF.feature_importances_[i]*100) for i in range(len(RF.feature_importances_))],\n",
    "                 columns=[\"feature_name\", \"feature_importance\"])\n",
    "                 \n",
    "tmp = X_test[\"total_day_charge\"] / X_test[\"total_day_minutes\"]\n",
    "\n",
    "\"\"\""
   ]
  },
  {
   "cell_type": "code",
   "execution_count": 68,
   "metadata": {},
   "outputs": [
    {
     "data": {
      "text/html": [
       "<div>\n",
       "<style scoped>\n",
       "    .dataframe tbody tr th:only-of-type {\n",
       "        vertical-align: middle;\n",
       "    }\n",
       "\n",
       "    .dataframe tbody tr th {\n",
       "        vertical-align: top;\n",
       "    }\n",
       "\n",
       "    .dataframe thead th {\n",
       "        text-align: right;\n",
       "    }\n",
       "</style>\n",
       "<table border=\"1\" class=\"dataframe\">\n",
       "  <thead>\n",
       "    <tr style=\"text-align: right;\">\n",
       "      <th></th>\n",
       "      <th>feature_name</th>\n",
       "      <th>feature_importance</th>\n",
       "    </tr>\n",
       "  </thead>\n",
       "  <tbody>\n",
       "    <tr>\n",
       "      <th>57</th>\n",
       "      <td>total_day_minutes</td>\n",
       "      <td>21.900297</td>\n",
       "    </tr>\n",
       "    <tr>\n",
       "      <th>68</th>\n",
       "      <td>number_customer_service_calls</td>\n",
       "      <td>10.591713</td>\n",
       "    </tr>\n",
       "    <tr>\n",
       "      <th>61</th>\n",
       "      <td>total_eve_charge</td>\n",
       "      <td>5.899154</td>\n",
       "    </tr>\n",
       "    <tr>\n",
       "      <th>52</th>\n",
       "      <td>international_plan_yes</td>\n",
       "      <td>5.565566</td>\n",
       "    </tr>\n",
       "    <tr>\n",
       "      <th>59</th>\n",
       "      <td>total_eve_minutes</td>\n",
       "      <td>5.133317</td>\n",
       "    </tr>\n",
       "  </tbody>\n",
       "</table>\n",
       "</div>"
      ],
      "text/plain": [
       "                     feature_name  feature_importance\n",
       "57              total_day_minutes           21.900297\n",
       "68  number_customer_service_calls           10.591713\n",
       "61               total_eve_charge            5.899154\n",
       "52         international_plan_yes            5.565566\n",
       "59              total_eve_minutes            5.133317"
      ]
     },
     "execution_count": 68,
     "metadata": {},
     "output_type": "execute_result"
    }
   ],
   "source": []
  },
  {
   "cell_type": "code",
   "execution_count": 69,
   "metadata": {},
   "outputs": [],
   "source": []
  },
  {
   "cell_type": "code",
   "execution_count": 106,
   "metadata": {},
   "outputs": [
    {
     "name": "stdout",
     "output_type": "stream",
     "text": [
      "accuracy :  0.9010494752623688\n",
      "precision :  0.8297872340425532\n",
      "recall :  0.4020618556701031\n",
      "f1_score :  0.5416666666666666\n"
     ]
    }
   ],
   "source": [
    "RF = RandomForestClassifier(max_depth=1000)\n",
    "RF.fit(X_train, y_train)\n",
    "y_pred = RF.predict(X_test)\n",
    "print(\"accuracy : \", accuracy_score(y_test, y_pred))\n",
    "print(\"precision : \", precision_score(y_test, y_pred, pos_label=\"yes\"))\n",
    "print(\"recall : \", recall_score(y_test, y_pred, pos_label=\"yes\"))\n",
    "print(\"f1_score : \", f1_score(y_test, y_pred, pos_label=\"yes\"))      "
   ]
  },
  {
   "cell_type": "code",
   "execution_count": 102,
   "metadata": {},
   "outputs": [
    {
     "data": {
      "text/html": [
       "<div>\n",
       "<style scoped>\n",
       "    .dataframe tbody tr th:only-of-type {\n",
       "        vertical-align: middle;\n",
       "    }\n",
       "\n",
       "    .dataframe tbody tr th {\n",
       "        vertical-align: top;\n",
       "    }\n",
       "\n",
       "    .dataframe thead th {\n",
       "        text-align: right;\n",
       "    }\n",
       "</style>\n",
       "<table border=\"1\" class=\"dataframe\">\n",
       "  <thead>\n",
       "    <tr style=\"text-align: right;\">\n",
       "      <th></th>\n",
       "      <th>feature_name</th>\n",
       "      <th>feature_importance</th>\n",
       "    </tr>\n",
       "  </thead>\n",
       "  <tbody>\n",
       "    <tr>\n",
       "      <th>59</th>\n",
       "      <td>total_day_charge</td>\n",
       "      <td>13.693609</td>\n",
       "    </tr>\n",
       "    <tr>\n",
       "      <th>57</th>\n",
       "      <td>total_day_minutes</td>\n",
       "      <td>11.674593</td>\n",
       "    </tr>\n",
       "    <tr>\n",
       "      <th>69</th>\n",
       "      <td>number_customer_service_calls</td>\n",
       "      <td>10.409721</td>\n",
       "    </tr>\n",
       "    <tr>\n",
       "      <th>60</th>\n",
       "      <td>total_eve_minutes</td>\n",
       "      <td>6.806779</td>\n",
       "    </tr>\n",
       "    <tr>\n",
       "      <th>52</th>\n",
       "      <td>international_plan_yes</td>\n",
       "      <td>5.690680</td>\n",
       "    </tr>\n",
       "  </tbody>\n",
       "</table>\n",
       "</div>"
      ],
      "text/plain": [
       "                     feature_name  feature_importance\n",
       "59               total_day_charge           13.693609\n",
       "57              total_day_minutes           11.674593\n",
       "69  number_customer_service_calls           10.409721\n",
       "60              total_eve_minutes            6.806779\n",
       "52         international_plan_yes            5.690680"
      ]
     },
     "execution_count": 102,
     "metadata": {},
     "output_type": "execute_result"
    }
   ],
   "source": [
    "feat_importance = pandas.DataFrame([(X_train.columns[i], RF.feature_importances_[i]*100) for i in range(len(RF.feature_importances_))],\n",
    "                 columns=[\"feature_name\", \"feature_importance\"])\n",
    "feat_importance.sort_values(by=\"feature_importance\", ascending=False).head()\n"
   ]
  },
  {
   "cell_type": "code",
   "execution_count": 103,
   "metadata": {},
   "outputs": [],
   "source": []
  },
  {
   "cell_type": "code",
   "execution_count": 104,
   "metadata": {},
   "outputs": [
    {
     "name": "stdout",
     "output_type": "stream",
     "text": [
      "accuracy :  0.9085457271364318\n",
      "precision :  0.86\n",
      "recall :  0.44329896907216493\n",
      "f1_score :  0.5850340136054422\n"
     ]
    }
   ],
   "source": []
  },
  {
   "cell_type": "code",
   "execution_count": 120,
   "metadata": {},
   "outputs": [],
   "source": [
    "def test_model(model_type, X_train, y_train, X_test, y_test, **kwargs):\n",
    "    model = model_type(**kwargs)\n",
    "    model.fit(X_train, y_train)\n",
    "    y_pred = model.predict(X_test)\n",
    "    return {\"accuracy\" : accuracy_score(y_test, y_pred),\n",
    "            \"precision\" : precision_score(y_test, y_pred, pos_label=\"yes\"),\n",
    "            \"recall\" : recall_score(y_test, y_pred, pos_label=\"yes\"),\n",
    "            \"f1_score\" : f1_score(y_test, y_pred, pos_label=\"yes\")}    "
   ]
  },
  {
   "cell_type": "code",
   "execution_count": 132,
   "metadata": {},
   "outputs": [],
   "source": [
    "res = {}\n",
    "model_types = [RandomForestClassifier, DecisionTreeClassifier, \n",
    "               LogisticRegression, AdaBoostClassifier]\n",
    "for model_type in model_types:\n",
    "    res[model_type.__name__] = test_model(model_type, X_train, y_train, X_test, y_test)\n"
   ]
  },
  {
   "cell_type": "code",
   "execution_count": 167,
   "metadata": {},
   "outputs": [
    {
     "data": {
      "image/png": "[encoded data removed]",
      "text/plain": [
       "<matplotlib.figure.Figure at 0x1a22625978>"
      ]
     },
     "metadata": {},
     "output_type": "display_data"
    }
   ],
   "source": [
    "df_res = pandas.DataFrame(res)\n",
    "df_res.plot(kind = \"bar\")\n",
    "grid(which=\"both\")\n",
    "savefig(\"results/res.png\")\n",
    "df_res.to_excel(\"results/res.xlsx\")"
   ]
  },
  {
   "cell_type": "code",
   "execution_count": 125,
   "metadata": {},
   "outputs": [
    {
     "data": {
      "text/plain": [
       "{'accuracy': 0.8680659670164917,\n",
       " 'f1_score': 0.3333333333333333,\n",
       " 'precision': 0.6285714285714286,\n",
       " 'recall': 0.2268041237113402}"
      ]
     },
     "execution_count": 125,
     "metadata": {},
     "output_type": "execute_result"
    }
   ],
   "source": [
    "res = test_model(LogisticRegression, X_train, y_train, X_test, y_test)\n",
    "res"
   ]
  },
  {
   "cell_type": "code",
   "execution_count": 127,
   "metadata": {},
   "outputs": [
    {
     "data": {
      "text/plain": [
       "{'accuracy': 0.881559220389805,\n",
       " 'f1_score': 0.47682119205298024,\n",
       " 'precision': 0.6666666666666666,\n",
       " 'recall': 0.3711340206185567}"
      ]
     },
     "execution_count": 127,
     "metadata": {},
     "output_type": "execute_result"
    }
   ],
   "source": [
    "res = test_model(AdaBoostClassifier, X_train, y_train, X_test, y_test)\n",
    "res"
   ]
  },
  {
   "cell_type": "code",
   "execution_count": 152,
   "metadata": {},
   "outputs": [],
   "source": []
  },
  {
   "cell_type": "code",
   "execution_count": 156,
   "metadata": {},
   "outputs": [],
   "source": [
    "def fun(L=None):\n",
    "    if L is None: \n",
    "        L={\"a\": 10}\n",
    "    L[\"a\"]*= 10\n",
    "    print(L)"
   ]
  },
  {
   "cell_type": "code",
   "execution_count": 165,
   "metadata": {},
   "outputs": [],
   "source": [
    "savefig"
   ]
  },
  {
   "cell_type": "code",
   "execution_count": null,
   "metadata": {},
   "outputs": [],
   "source": []
  },
  {
   "cell_type": "code",
   "execution_count": null,
   "metadata": {},
   "outputs": [],
   "source": []
  }
 ],
 "metadata": {
  "kernelspec": {
   "display_name": "ds",
   "language": "python",
   "name": "python3"
  },
  "language_info": {
   "codemirror_mode": {
    "name": "ipython",
    "version": 3
   },
   "file_extension": ".py",
   "mimetype": "text/x-python",
   "name": "python",
   "nbconvert_exporter": "python",
   "pygments_lexer": "ipython3",
   "version": "3.10.8 (main, Nov  4 2022, 13:48:29) [GCC 11.2.0]"
  },
  "vscode": {
   "interpreter": {
    "hash": "a5d3b7aa8eea26c809b37ced79911a6309134a44bd006483ea9858b6cea24951"
   }
  }
 },
 "nbformat": 4,
 "nbformat_minor": 2
}
