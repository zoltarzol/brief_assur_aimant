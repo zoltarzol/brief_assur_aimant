{
 "cells": [
  {
   "cell_type": "markdown",
   "metadata": {},
   "source": [
    "Rappel Python \n",
    "Exercices "
   ]
  },
  {
   "cell_type": "markdown",
   "metadata": {},
   "source": [
    "Des exercices\n",
    "\n",
    "Répondez aux questions suivantes : "
   ]
  },
  {
   "cell_type": "markdown",
   "metadata": {},
   "source": [
    "Qu'est-ce que 7 à la puissance de 4?"
   ]
  },
  {
   "cell_type": "code",
   "execution_count": 1,
   "metadata": {},
   "outputs": [
    {
     "data": {
      "text/plain": [
       "2401"
      ]
     },
     "execution_count": 1,
     "metadata": {},
     "output_type": "execute_result"
    }
   ],
   "source": [
    "7**4"
   ]
  },
  {
   "cell_type": "markdown",
   "metadata": {},
   "source": [
    "Splittez cette chaine de caractère : s = \"Hi there Sam!\""
   ]
  },
  {
   "cell_type": "code",
   "execution_count": 3,
   "metadata": {},
   "outputs": [
    {
     "data": {
      "text/plain": [
       "['Hi', 'there', 'Sam!']"
      ]
     },
     "execution_count": 3,
     "metadata": {},
     "output_type": "execute_result"
    }
   ],
   "source": [
    "s = \"Hi there Sam!\"\n",
    "s.split()"
   ]
  },
  {
   "cell_type": "markdown",
   "metadata": {},
   "source": [
    "Affichez ce message : The diameter of Earth, is 12742 km\n",
    "\n",
    "Sachant que : planet = Earth, diamètre = 12742  // Utilisez :  .format()"
   ]
  },
  {
   "cell_type": "code",
   "execution_count": 16,
   "metadata": {},
   "outputs": [],
   "source": [
    "planet = \"Earth\"\n",
    "diametre = 12742"
   ]
  },
  {
   "cell_type": "code",
   "execution_count": 17,
   "metadata": {},
   "outputs": [
    {
     "name": "stdout",
     "output_type": "stream",
     "text": [
      "The diameter of Earth, is 12742 km\n"
     ]
    }
   ],
   "source": [
    "print(\"The diameter of {}, is {} km\".format(planet, diametre))"
   ]
  },
  {
   "cell_type": "markdown",
   "metadata": {},
   "source": [
    "Indexes : trouver hello dans : \n",
    "\n",
    "lst = [1,2,[3,4], [5,[100,200,['hello']], 23,11],1,7] "
   ]
  },
  {
   "cell_type": "code",
   "execution_count": 18,
   "metadata": {},
   "outputs": [],
   "source": [
    "lst = [1,2,[3,4], [5,[100,200,['hello']], 23,11],1,7]"
   ]
  },
  {
   "cell_type": "code",
   "execution_count": 24,
   "metadata": {},
   "outputs": [
    {
     "data": {
      "text/plain": [
       "'hello'"
      ]
     },
     "execution_count": 24,
     "metadata": {},
     "output_type": "execute_result"
    }
   ],
   "source": [
    "lst[3][1][2][0]"
   ]
  },
  {
   "cell_type": "markdown",
   "metadata": {},
   "source": [
    "Dic : trouver hello dans : d = {'k1' : [1,2,3,{'tricky':['oh', 'man','inception', {'target': [1,2,3,'hello']}]}]}"
   ]
  },
  {
   "cell_type": "code",
   "execution_count": 27,
   "metadata": {},
   "outputs": [],
   "source": [
    "d = {'k1' : [1,2,3,{'tricky':['oh', 'man','inception', {'target': [1,2,3,'hello']}]}]}"
   ]
  },
  {
   "cell_type": "code",
   "execution_count": 39,
   "metadata": {},
   "outputs": [
    {
     "data": {
      "text/plain": [
       "'hello'"
      ]
     },
     "execution_count": 39,
     "metadata": {},
     "output_type": "execute_result"
    }
   ],
   "source": [
    "d['k1'][3]['tricky'][3]['target'][3]"
   ]
  },
  {
   "cell_type": "markdown",
   "metadata": {},
   "source": [
    "Quelle est la différence entre Tuple et liste ?"
   ]
  },
  {
   "cell_type": "markdown",
   "metadata": {},
   "source": [
    "Créez une fonction qui grab l'email du web site domaine du string : \n",
    "\n",
    "Exemple : user@domain.com = domain.com"
   ]
  },
  {
   "cell_type": "code",
   "execution_count": 42,
   "metadata": {},
   "outputs": [],
   "source": [
    "def getDomain(email):\n",
    "    return email.split('@')[1]"
   ]
  },
  {
   "cell_type": "code",
   "execution_count": 43,
   "metadata": {},
   "outputs": [
    {
     "data": {
      "text/plain": [
       "'domain.com'"
      ]
     },
     "execution_count": 43,
     "metadata": {},
     "output_type": "execute_result"
    }
   ],
   "source": [
    "getDomain('user@domain.com')"
   ]
  },
  {
   "cell_type": "markdown",
   "metadata": {},
   "source": []
  },
  {
   "cell_type": "markdown",
   "metadata": {},
   "source": [
    "\n",
    "Créez une fonction qui détecte si le mot dog est présent (que dans les minuscules)\n"
   ]
  },
  {
   "cell_type": "code",
   "execution_count": 68,
   "metadata": {},
   "outputs": [],
   "source": [
    "def isDogHere(string):\n",
    "    return string.find('dog')!=-1"
   ]
  },
  {
   "cell_type": "code",
   "execution_count": 71,
   "metadata": {},
   "outputs": [
    {
     "data": {
      "text/plain": [
       "True"
      ]
     },
     "execution_count": 71,
     "metadata": {},
     "output_type": "execute_result"
    }
   ],
   "source": [
    "isDogHere('mon dog est magnifique')"
   ]
  },
  {
   "cell_type": "markdown",
   "metadata": {},
   "source": [
    "Créez une fonction qui compte le nombre d'occurrence du mot 'dog'"
   ]
  },
  {
   "cell_type": "code",
   "execution_count": 66,
   "metadata": {},
   "outputs": [],
   "source": [
    "def howManyDogs(string):\n",
    "    return string.count('dog')"
   ]
  },
  {
   "cell_type": "code",
   "execution_count": 67,
   "metadata": {},
   "outputs": [
    {
     "data": {
      "text/plain": [
       "2"
      ]
     },
     "execution_count": 67,
     "metadata": {},
     "output_type": "execute_result"
    }
   ],
   "source": [
    "howManyDogs('This dog runs faster than the other dog dude!')"
   ]
  },
  {
   "cell_type": "markdown",
   "metadata": {},
   "source": [
    "Final : \n",
    "Écrivez une fonction qui retourne 3 sanctions au dépit de la vitesse de la conduite : \n",
    "1. No Ticket : <60 / Small ticket 61<>80 / Big Ticket : > 81 \n",
    "2. Si c'est son anniversaire : remise de 5"
   ]
  },
  {
   "cell_type": "code",
   "execution_count": 60,
   "metadata": {},
   "outputs": [],
   "source": [
    "def caught_speeding(vitesse,anniv):\n",
    "    if vitesse<60:\n",
    "        return \"No ticket\"\n",
    "    elif vitesse>81:\n",
    "        if anniv:\n",
    "            return \"Big ticket avec remise\"\n",
    "        else:\n",
    "            return \"Big ticket\"\n",
    "    else:\n",
    "        if anniv:\n",
    "            return \"Small ticket avec remise\"\n",
    "        else:\n",
    "            return \"Small ticket\""
   ]
  },
  {
   "cell_type": "code",
   "execution_count": 63,
   "metadata": {},
   "outputs": [
    {
     "data": {
      "text/plain": [
       "'Big ticket avec remise'"
      ]
     },
     "execution_count": 63,
     "metadata": {},
     "output_type": "execute_result"
    }
   ],
   "source": [
    "caught_speeding(82,True)"
   ]
  },
  {
   "cell_type": "code",
   "execution_count": 62,
   "metadata": {},
   "outputs": [
    {
     "data": {
      "text/plain": [
       "'Small ticket'"
      ]
     },
     "execution_count": 62,
     "metadata": {},
     "output_type": "execute_result"
    }
   ],
   "source": [
    "caught_speeding(81,False)"
   ]
  },
  {
   "cell_type": "markdown",
   "metadata": {},
   "source": [
    "# Exercice 2"
   ]
  },
  {
   "cell_type": "code",
   "execution_count": null,
   "metadata": {},
   "outputs": [],
   "source": [
    "le = LabelEncoder()\n",
    "print(df_l['state'].value_counts())\n",
    "le.fit(df_l['state'])\n",
    "print(le.classes_)\n",
    "le.transform(df_l['state'])"
   ]
  },
  {
   "cell_type": "code",
   "execution_count": 1479,
   "metadata": {},
   "outputs": [],
   "source": [
    "import pandas as pd\n",
    "import numpy as np\n",
    "import matplotlib\n",
    "\n",
    "from sklearn.metrics import f1_score, accuracy_score, precision_score, recall_score, confusion_matrix\n",
    "from sklearn.linear_model import LogisticRegression\n",
    "from sklearn.tree import DecisionTreeClassifier\n",
    "from sklearn.ensemble import RandomForestClassifier\n",
    "from sklearn.ensemble import AdaBoostClassifier\n",
    "from sklearn.preprocessing import LabelEncoder\n",
    "from sklearn.neural_network import MLPClassifier\n",
    "from sklearn.svm import SVC\n",
    "from sklearn.feature_selection import SelectKBest, chi2"
   ]
  },
  {
   "cell_type": "code",
   "execution_count": 1523,
   "metadata": {
    "scrolled": true
   },
   "outputs": [
    {
     "name": "stdout",
     "output_type": "stream",
     "text": [
      "accuracy :  0.9547226386806595\n",
      "precision :  0.9376768463141014\n",
      "recall :  0.7381443298969073\n",
      "f1_score :  0.8253628949775393\n"
     ]
    }
   ],
   "source": [
    "acc,prec,rec,f1 = [0,0,0,0]\n",
    "loops=10\n",
    "\n",
    "for _ in range(loops):\n",
    "    original_dataset = pd.read_csv('customer_churn.csv',index_col=0)\n",
    "\n",
    "    original_dataset = pd.concat([original_dataset,\n",
    "                                    pd.get_dummies(original_dataset['international_plan'],\n",
    "                                                   prefix='international_plan',\n",
    "                                                   drop_first=True)],axis=1)\n",
    "    original_dataset = pd.concat([original_dataset,\n",
    "                                    pd.get_dummies(original_dataset['voice_mail_plan'],\n",
    "                                                   prefix='voice_mail_plan',\n",
    "                                                   drop_first=True)],axis=1)\n",
    "    original_dataset = pd.concat([original_dataset,\n",
    "                                    pd.get_dummies(original_dataset['area_code'],\n",
    "                                                   prefix='area_code',\n",
    "                                                   drop_first=True)],axis=1)\n",
    "\n",
    "    original_dataset_churn_yes = original_dataset.loc[original_dataset['churn'] == 'yes']\n",
    "    original_dataset_churn_no = original_dataset.loc[original_dataset['churn'] == 'no']\n",
    "    randomized_dataset_churn_yes = original_dataset_churn_yes.sample(frac=1)\n",
    "    randomized_dataset_churn_no = original_dataset_churn_no.sample(frac=1)\n",
    "\n",
    "    training_percentage = 80\n",
    "\n",
    "    randomized_dataset_churn_yes_length = len(randomized_dataset_churn_yes.index)\n",
    "    randomized_dataset_churn_no_length = len(randomized_dataset_churn_no.index)\n",
    "\n",
    "    training_dataset_churn_yes_length = randomized_dataset_churn_yes_length*training_percentage//100\n",
    "    training_dataset_churn_no_length = randomized_dataset_churn_no_length*training_percentage//100\n",
    "\n",
    "    training_dataset = pd.concat([randomized_dataset_churn_yes.iloc[0:training_dataset_churn_yes_length],\n",
    "                                 randomized_dataset_churn_no.iloc[0:training_dataset_churn_no_length]])\n",
    "\n",
    "    test_dataset = pd.concat([randomized_dataset_churn_yes.iloc[training_dataset_churn_yes_length:],\n",
    "                                 randomized_dataset_churn_no.iloc[training_dataset_churn_no_length:]])\n",
    "\n",
    "    X_train = training_dataset.drop(['state',\n",
    "                                     'area_code',\n",
    "                                     'international_plan',\n",
    "                                     'voice_mail_plan',\n",
    "                                     'number_vmail_messages',\n",
    "                                     'account_length',\n",
    "                                     'churn'],axis=1)\n",
    "    y_train = training_dataset['churn']\n",
    "\n",
    "    X_test = test_dataset.drop(['state',\n",
    "                                'area_code',\n",
    "                                'international_plan',\n",
    "                                'voice_mail_plan',\n",
    "                                'number_vmail_messages',\n",
    "                                'account_length',\n",
    "                                'churn'],axis=1)\n",
    "    y_test = test_dataset['churn']\n",
    "\n",
    "    RFC = RandomForestClassifier(random_state=0, n_estimators=150)\n",
    "    RFC.fit(X_train, y_train)\n",
    "    y_pred=RFC.predict(X_test)\n",
    "    y_true=np.array(list(y_test))\n",
    "    acc += accuracy_score(y_test, y_pred)\n",
    "    prec += precision_score(y_true, y_pred, pos_label='yes')\n",
    "    rec += recall_score(y_true, y_pred, pos_label='yes')\n",
    "    f1 += f1_score(y_true, y_pred, pos_label='yes')\n",
    "\n",
    "acc_res,prec_res,rec_res,f1_res = [acc/loops,prec/loops,rec/loops,f1/loops]\n",
    "\n",
    "print(\"accuracy : \", acc_res)\n",
    "print(\"precision : \", prec_res)\n",
    "print(\"recall : \", rec_res)\n",
    "print(\"f1_score : \", f1_res)"
   ]
  },
  {
   "cell_type": "code",
   "execution_count": 1429,
   "metadata": {},
   "outputs": [
    {
     "name": "stdout",
     "output_type": "stream",
     "text": [
      "no     85.52138\n",
      "yes    14.47862\n",
      "Name: churn, dtype: float64\n",
      "no     85.457271\n",
      "yes    14.542729\n",
      "Name: churn, dtype: float64\n"
     ]
    }
   ],
   "source": [
    "print(y_train.value_counts(normalize=True)*100)\n",
    "print(y_test.value_counts(normalize=True)*100)"
   ]
  },
  {
   "cell_type": "code",
   "execution_count": 1399,
   "metadata": {
    "scrolled": false
   },
   "outputs": [
    {
     "data": {
      "image/png": "[encoded data removed]",
      "text/plain": [
       "<Figure size 432x288 with 1 Axes>"
      ]
     },
     "metadata": {
      "needs_background": "light"
     },
     "output_type": "display_data"
    }
   ],
   "source": [
    "from pylab import *\n",
    "hist(y_pred)"
   ]
  },
  {
   "cell_type": "code",
   "execution_count": 1524,
   "metadata": {},
   "outputs": [
    {
     "data": {
      "text/html": [
       "<div>\n",
       "<style scoped>\n",
       "    .dataframe tbody tr th:only-of-type {\n",
       "        vertical-align: middle;\n",
       "    }\n",
       "\n",
       "    .dataframe tbody tr th {\n",
       "        vertical-align: top;\n",
       "    }\n",
       "\n",
       "    .dataframe thead th {\n",
       "        text-align: right;\n",
       "    }\n",
       "</style>\n",
       "<table border=\"1\" class=\"dataframe\">\n",
       "  <thead>\n",
       "    <tr style=\"text-align: right;\">\n",
       "      <th></th>\n",
       "      <th>col_name</th>\n",
       "      <th>importance</th>\n",
       "    </tr>\n",
       "  </thead>\n",
       "  <tbody>\n",
       "    <tr>\n",
       "      <td>0</td>\n",
       "      <td>total_day_minutes</td>\n",
       "      <td>13.971518</td>\n",
       "    </tr>\n",
       "    <tr>\n",
       "      <td>2</td>\n",
       "      <td>total_day_charge</td>\n",
       "      <td>13.544402</td>\n",
       "    </tr>\n",
       "    <tr>\n",
       "      <td>12</td>\n",
       "      <td>number_customer_service_calls</td>\n",
       "      <td>12.311349</td>\n",
       "    </tr>\n",
       "    <tr>\n",
       "      <td>13</td>\n",
       "      <td>international_plan_yes</td>\n",
       "      <td>8.922616</td>\n",
       "    </tr>\n",
       "    <tr>\n",
       "      <td>5</td>\n",
       "      <td>total_eve_charge</td>\n",
       "      <td>6.818523</td>\n",
       "    </tr>\n",
       "    <tr>\n",
       "      <td>3</td>\n",
       "      <td>total_eve_minutes</td>\n",
       "      <td>6.765505</td>\n",
       "    </tr>\n",
       "    <tr>\n",
       "      <td>10</td>\n",
       "      <td>total_intl_calls</td>\n",
       "      <td>5.895616</td>\n",
       "    </tr>\n",
       "    <tr>\n",
       "      <td>11</td>\n",
       "      <td>total_intl_charge</td>\n",
       "      <td>4.454244</td>\n",
       "    </tr>\n",
       "    <tr>\n",
       "      <td>6</td>\n",
       "      <td>total_night_minutes</td>\n",
       "      <td>4.339952</td>\n",
       "    </tr>\n",
       "    <tr>\n",
       "      <td>9</td>\n",
       "      <td>total_intl_minutes</td>\n",
       "      <td>4.239941</td>\n",
       "    </tr>\n",
       "  </tbody>\n",
       "</table>\n",
       "</div>"
      ],
      "text/plain": [
       "                         col_name  importance\n",
       "0               total_day_minutes   13.971518\n",
       "2                total_day_charge   13.544402\n",
       "12  number_customer_service_calls   12.311349\n",
       "13         international_plan_yes    8.922616\n",
       "5                total_eve_charge    6.818523\n",
       "3               total_eve_minutes    6.765505\n",
       "10               total_intl_calls    5.895616\n",
       "11              total_intl_charge    4.454244\n",
       "6             total_night_minutes    4.339952\n",
       "9              total_intl_minutes    4.239941"
      ]
     },
     "execution_count": 1524,
     "metadata": {},
     "output_type": "execute_result"
    }
   ],
   "source": [
    "param_imp = pd.DataFrame([(X_test.columns[i], RFC.feature_importances_[i]*100) for i in range(len(RFC.feature_importances_))],columns=['col_name','importance'])\n",
    "param_imp.sort_values(by='importance',ascending=False).head(10)"
   ]
  },
  {
   "cell_type": "code",
   "execution_count": 1353,
   "metadata": {
    "scrolled": true
   },
   "outputs": [
    {
     "data": {
      "text/plain": [
       "['account_length',\n",
       " 'total_day_calls',\n",
       " 'total_eve_calls',\n",
       " 'total_night_minutes',\n",
       " 'voice_mail_plan_yes']"
      ]
     },
     "execution_count": 1353,
     "metadata": {},
     "output_type": "execute_result"
    }
   ],
   "source": [
    "params = list(param_imp[param_imp['importance']<0.038]['col_name'])\n",
    "params"
   ]
  },
  {
   "cell_type": "code",
   "execution_count": 1515,
   "metadata": {},
   "outputs": [
    {
     "data": {
      "text/html": [
       "<div>\n",
       "<style scoped>\n",
       "    .dataframe tbody tr th:only-of-type {\n",
       "        vertical-align: middle;\n",
       "    }\n",
       "\n",
       "    .dataframe tbody tr th {\n",
       "        vertical-align: top;\n",
       "    }\n",
       "\n",
       "    .dataframe thead th {\n",
       "        text-align: right;\n",
       "    }\n",
       "</style>\n",
       "<table border=\"1\" class=\"dataframe\">\n",
       "  <thead>\n",
       "    <tr style=\"text-align: right;\">\n",
       "      <th></th>\n",
       "      <th>total_day_minutes</th>\n",
       "      <th>total_day_calls</th>\n",
       "      <th>total_day_charge</th>\n",
       "      <th>total_eve_minutes</th>\n",
       "      <th>total_eve_calls</th>\n",
       "      <th>total_eve_charge</th>\n",
       "      <th>total_night_minutes</th>\n",
       "      <th>total_night_calls</th>\n",
       "      <th>total_night_charge</th>\n",
       "      <th>total_intl_minutes</th>\n",
       "      <th>total_intl_calls</th>\n",
       "      <th>total_intl_charge</th>\n",
       "      <th>number_customer_service_calls</th>\n",
       "      <th>international_plan_yes</th>\n",
       "      <th>voice_mail_plan_yes</th>\n",
       "      <th>area_code_area_code_415</th>\n",
       "      <th>area_code_area_code_510</th>\n",
       "    </tr>\n",
       "  </thead>\n",
       "  <tbody>\n",
       "    <tr>\n",
       "      <td>373</td>\n",
       "      <td>218.0</td>\n",
       "      <td>57</td>\n",
       "      <td>37.06</td>\n",
       "      <td>114.4</td>\n",
       "      <td>88</td>\n",
       "      <td>9.72</td>\n",
       "      <td>269.2</td>\n",
       "      <td>95</td>\n",
       "      <td>12.11</td>\n",
       "      <td>12.4</td>\n",
       "      <td>1</td>\n",
       "      <td>3.35</td>\n",
       "      <td>0</td>\n",
       "      <td>1</td>\n",
       "      <td>0</td>\n",
       "      <td>1</td>\n",
       "      <td>0</td>\n",
       "    </tr>\n",
       "    <tr>\n",
       "      <td>99</td>\n",
       "      <td>212.1</td>\n",
       "      <td>131</td>\n",
       "      <td>36.06</td>\n",
       "      <td>209.4</td>\n",
       "      <td>104</td>\n",
       "      <td>17.80</td>\n",
       "      <td>167.2</td>\n",
       "      <td>96</td>\n",
       "      <td>7.52</td>\n",
       "      <td>5.3</td>\n",
       "      <td>5</td>\n",
       "      <td>1.43</td>\n",
       "      <td>1</td>\n",
       "      <td>0</td>\n",
       "      <td>0</td>\n",
       "      <td>0</td>\n",
       "      <td>0</td>\n",
       "    </tr>\n",
       "    <tr>\n",
       "      <td>934</td>\n",
       "      <td>125.8</td>\n",
       "      <td>103</td>\n",
       "      <td>21.39</td>\n",
       "      <td>207.7</td>\n",
       "      <td>96</td>\n",
       "      <td>17.65</td>\n",
       "      <td>207.4</td>\n",
       "      <td>143</td>\n",
       "      <td>9.33</td>\n",
       "      <td>14.1</td>\n",
       "      <td>4</td>\n",
       "      <td>3.81</td>\n",
       "      <td>1</td>\n",
       "      <td>1</td>\n",
       "      <td>0</td>\n",
       "      <td>0</td>\n",
       "      <td>1</td>\n",
       "    </tr>\n",
       "    <tr>\n",
       "      <td>3192</td>\n",
       "      <td>240.0</td>\n",
       "      <td>83</td>\n",
       "      <td>40.80</td>\n",
       "      <td>134.1</td>\n",
       "      <td>106</td>\n",
       "      <td>11.40</td>\n",
       "      <td>189.1</td>\n",
       "      <td>84</td>\n",
       "      <td>8.51</td>\n",
       "      <td>9.3</td>\n",
       "      <td>2</td>\n",
       "      <td>2.51</td>\n",
       "      <td>0</td>\n",
       "      <td>0</td>\n",
       "      <td>0</td>\n",
       "      <td>1</td>\n",
       "      <td>0</td>\n",
       "    </tr>\n",
       "    <tr>\n",
       "      <td>816</td>\n",
       "      <td>314.6</td>\n",
       "      <td>102</td>\n",
       "      <td>53.48</td>\n",
       "      <td>169.8</td>\n",
       "      <td>86</td>\n",
       "      <td>14.43</td>\n",
       "      <td>285.1</td>\n",
       "      <td>100</td>\n",
       "      <td>12.83</td>\n",
       "      <td>5.7</td>\n",
       "      <td>3</td>\n",
       "      <td>1.54</td>\n",
       "      <td>2</td>\n",
       "      <td>0</td>\n",
       "      <td>0</td>\n",
       "      <td>1</td>\n",
       "      <td>0</td>\n",
       "    </tr>\n",
       "    <tr>\n",
       "      <td>...</td>\n",
       "      <td>...</td>\n",
       "      <td>...</td>\n",
       "      <td>...</td>\n",
       "      <td>...</td>\n",
       "      <td>...</td>\n",
       "      <td>...</td>\n",
       "      <td>...</td>\n",
       "      <td>...</td>\n",
       "      <td>...</td>\n",
       "      <td>...</td>\n",
       "      <td>...</td>\n",
       "      <td>...</td>\n",
       "      <td>...</td>\n",
       "      <td>...</td>\n",
       "      <td>...</td>\n",
       "      <td>...</td>\n",
       "      <td>...</td>\n",
       "    </tr>\n",
       "    <tr>\n",
       "      <td>2640</td>\n",
       "      <td>184.2</td>\n",
       "      <td>111</td>\n",
       "      <td>31.31</td>\n",
       "      <td>312.6</td>\n",
       "      <td>89</td>\n",
       "      <td>26.57</td>\n",
       "      <td>264.0</td>\n",
       "      <td>55</td>\n",
       "      <td>11.88</td>\n",
       "      <td>12.2</td>\n",
       "      <td>4</td>\n",
       "      <td>3.29</td>\n",
       "      <td>1</td>\n",
       "      <td>0</td>\n",
       "      <td>1</td>\n",
       "      <td>1</td>\n",
       "      <td>0</td>\n",
       "    </tr>\n",
       "    <tr>\n",
       "      <td>1973</td>\n",
       "      <td>150.3</td>\n",
       "      <td>101</td>\n",
       "      <td>25.55</td>\n",
       "      <td>255.9</td>\n",
       "      <td>112</td>\n",
       "      <td>21.75</td>\n",
       "      <td>136.7</td>\n",
       "      <td>62</td>\n",
       "      <td>6.15</td>\n",
       "      <td>12.5</td>\n",
       "      <td>4</td>\n",
       "      <td>3.38</td>\n",
       "      <td>2</td>\n",
       "      <td>0</td>\n",
       "      <td>0</td>\n",
       "      <td>1</td>\n",
       "      <td>0</td>\n",
       "    </tr>\n",
       "    <tr>\n",
       "      <td>108</td>\n",
       "      <td>117.9</td>\n",
       "      <td>131</td>\n",
       "      <td>20.04</td>\n",
       "      <td>164.5</td>\n",
       "      <td>115</td>\n",
       "      <td>13.98</td>\n",
       "      <td>217.0</td>\n",
       "      <td>86</td>\n",
       "      <td>9.76</td>\n",
       "      <td>9.8</td>\n",
       "      <td>3</td>\n",
       "      <td>2.65</td>\n",
       "      <td>1</td>\n",
       "      <td>0</td>\n",
       "      <td>1</td>\n",
       "      <td>0</td>\n",
       "      <td>1</td>\n",
       "    </tr>\n",
       "    <tr>\n",
       "      <td>739</td>\n",
       "      <td>159.5</td>\n",
       "      <td>123</td>\n",
       "      <td>27.12</td>\n",
       "      <td>240.8</td>\n",
       "      <td>93</td>\n",
       "      <td>20.47</td>\n",
       "      <td>210.3</td>\n",
       "      <td>76</td>\n",
       "      <td>9.46</td>\n",
       "      <td>11.4</td>\n",
       "      <td>3</td>\n",
       "      <td>3.08</td>\n",
       "      <td>1</td>\n",
       "      <td>0</td>\n",
       "      <td>0</td>\n",
       "      <td>0</td>\n",
       "      <td>1</td>\n",
       "    </tr>\n",
       "    <tr>\n",
       "      <td>1291</td>\n",
       "      <td>249.4</td>\n",
       "      <td>118</td>\n",
       "      <td>42.40</td>\n",
       "      <td>211.5</td>\n",
       "      <td>95</td>\n",
       "      <td>17.98</td>\n",
       "      <td>169.0</td>\n",
       "      <td>116</td>\n",
       "      <td>7.61</td>\n",
       "      <td>9.1</td>\n",
       "      <td>3</td>\n",
       "      <td>2.46</td>\n",
       "      <td>0</td>\n",
       "      <td>0</td>\n",
       "      <td>0</td>\n",
       "      <td>0</td>\n",
       "      <td>0</td>\n",
       "    </tr>\n",
       "  </tbody>\n",
       "</table>\n",
       "<p>2666 rows × 17 columns</p>\n",
       "</div>"
      ],
      "text/plain": [
       "      total_day_minutes  total_day_calls  total_day_charge  total_eve_minutes  \\\n",
       "373               218.0               57             37.06              114.4   \n",
       "99                212.1              131             36.06              209.4   \n",
       "934               125.8              103             21.39              207.7   \n",
       "3192              240.0               83             40.80              134.1   \n",
       "816               314.6              102             53.48              169.8   \n",
       "...                 ...              ...               ...                ...   \n",
       "2640              184.2              111             31.31              312.6   \n",
       "1973              150.3              101             25.55              255.9   \n",
       "108               117.9              131             20.04              164.5   \n",
       "739               159.5              123             27.12              240.8   \n",
       "1291              249.4              118             42.40              211.5   \n",
       "\n",
       "      total_eve_calls  total_eve_charge  total_night_minutes  \\\n",
       "373                88              9.72                269.2   \n",
       "99                104             17.80                167.2   \n",
       "934                96             17.65                207.4   \n",
       "3192              106             11.40                189.1   \n",
       "816                86             14.43                285.1   \n",
       "...               ...               ...                  ...   \n",
       "2640               89             26.57                264.0   \n",
       "1973              112             21.75                136.7   \n",
       "108               115             13.98                217.0   \n",
       "739                93             20.47                210.3   \n",
       "1291               95             17.98                169.0   \n",
       "\n",
       "      total_night_calls  total_night_charge  total_intl_minutes  \\\n",
       "373                  95               12.11                12.4   \n",
       "99                   96                7.52                 5.3   \n",
       "934                 143                9.33                14.1   \n",
       "3192                 84                8.51                 9.3   \n",
       "816                 100               12.83                 5.7   \n",
       "...                 ...                 ...                 ...   \n",
       "2640                 55               11.88                12.2   \n",
       "1973                 62                6.15                12.5   \n",
       "108                  86                9.76                 9.8   \n",
       "739                  76                9.46                11.4   \n",
       "1291                116                7.61                 9.1   \n",
       "\n",
       "      total_intl_calls  total_intl_charge  number_customer_service_calls  \\\n",
       "373                  1               3.35                              0   \n",
       "99                   5               1.43                              1   \n",
       "934                  4               3.81                              1   \n",
       "3192                 2               2.51                              0   \n",
       "816                  3               1.54                              2   \n",
       "...                ...                ...                            ...   \n",
       "2640                 4               3.29                              1   \n",
       "1973                 4               3.38                              2   \n",
       "108                  3               2.65                              1   \n",
       "739                  3               3.08                              1   \n",
       "1291                 3               2.46                              0   \n",
       "\n",
       "      international_plan_yes  voice_mail_plan_yes  area_code_area_code_415  \\\n",
       "373                        1                    0                        1   \n",
       "99                         0                    0                        0   \n",
       "934                        1                    0                        0   \n",
       "3192                       0                    0                        1   \n",
       "816                        0                    0                        1   \n",
       "...                      ...                  ...                      ...   \n",
       "2640                       0                    1                        1   \n",
       "1973                       0                    0                        1   \n",
       "108                        0                    1                        0   \n",
       "739                        0                    0                        0   \n",
       "1291                       0                    0                        0   \n",
       "\n",
       "      area_code_area_code_510  \n",
       "373                         0  \n",
       "99                          0  \n",
       "934                         1  \n",
       "3192                        0  \n",
       "816                         0  \n",
       "...                       ...  \n",
       "2640                        0  \n",
       "1973                        0  \n",
       "108                         1  \n",
       "739                         1  \n",
       "1291                        0  \n",
       "\n",
       "[2666 rows x 17 columns]"
      ]
     },
     "execution_count": 1515,
     "metadata": {},
     "output_type": "execute_result"
    }
   ],
   "source": [
    "X_train"
   ]
  },
  {
   "cell_type": "code",
   "execution_count": 1522,
   "metadata": {},
   "outputs": [
    {
     "data": {
      "text/html": [
       "<div>\n",
       "<style scoped>\n",
       "    .dataframe tbody tr th:only-of-type {\n",
       "        vertical-align: middle;\n",
       "    }\n",
       "\n",
       "    .dataframe tbody tr th {\n",
       "        vertical-align: top;\n",
       "    }\n",
       "\n",
       "    .dataframe thead th {\n",
       "        text-align: right;\n",
       "    }\n",
       "</style>\n",
       "<table border=\"1\" class=\"dataframe\">\n",
       "  <thead>\n",
       "    <tr style=\"text-align: right;\">\n",
       "      <th></th>\n",
       "      <th>total_day_minutes</th>\n",
       "      <th>total_day_charge</th>\n",
       "      <th>total_eve_minutes</th>\n",
       "      <th>number_customer_service_calls</th>\n",
       "      <th>international_plan_yes</th>\n",
       "    </tr>\n",
       "  </thead>\n",
       "  <tbody>\n",
       "    <tr>\n",
       "      <td>373</td>\n",
       "      <td>218.0</td>\n",
       "      <td>37.06</td>\n",
       "      <td>114.4</td>\n",
       "      <td>0</td>\n",
       "      <td>1</td>\n",
       "    </tr>\n",
       "    <tr>\n",
       "      <td>99</td>\n",
       "      <td>212.1</td>\n",
       "      <td>36.06</td>\n",
       "      <td>209.4</td>\n",
       "      <td>1</td>\n",
       "      <td>0</td>\n",
       "    </tr>\n",
       "    <tr>\n",
       "      <td>934</td>\n",
       "      <td>125.8</td>\n",
       "      <td>21.39</td>\n",
       "      <td>207.7</td>\n",
       "      <td>1</td>\n",
       "      <td>1</td>\n",
       "    </tr>\n",
       "    <tr>\n",
       "      <td>3192</td>\n",
       "      <td>240.0</td>\n",
       "      <td>40.80</td>\n",
       "      <td>134.1</td>\n",
       "      <td>0</td>\n",
       "      <td>0</td>\n",
       "    </tr>\n",
       "    <tr>\n",
       "      <td>816</td>\n",
       "      <td>314.6</td>\n",
       "      <td>53.48</td>\n",
       "      <td>169.8</td>\n",
       "      <td>2</td>\n",
       "      <td>0</td>\n",
       "    </tr>\n",
       "    <tr>\n",
       "      <td>...</td>\n",
       "      <td>...</td>\n",
       "      <td>...</td>\n",
       "      <td>...</td>\n",
       "      <td>...</td>\n",
       "      <td>...</td>\n",
       "    </tr>\n",
       "    <tr>\n",
       "      <td>2640</td>\n",
       "      <td>184.2</td>\n",
       "      <td>31.31</td>\n",
       "      <td>312.6</td>\n",
       "      <td>1</td>\n",
       "      <td>0</td>\n",
       "    </tr>\n",
       "    <tr>\n",
       "      <td>1973</td>\n",
       "      <td>150.3</td>\n",
       "      <td>25.55</td>\n",
       "      <td>255.9</td>\n",
       "      <td>2</td>\n",
       "      <td>0</td>\n",
       "    </tr>\n",
       "    <tr>\n",
       "      <td>108</td>\n",
       "      <td>117.9</td>\n",
       "      <td>20.04</td>\n",
       "      <td>164.5</td>\n",
       "      <td>1</td>\n",
       "      <td>0</td>\n",
       "    </tr>\n",
       "    <tr>\n",
       "      <td>739</td>\n",
       "      <td>159.5</td>\n",
       "      <td>27.12</td>\n",
       "      <td>240.8</td>\n",
       "      <td>1</td>\n",
       "      <td>0</td>\n",
       "    </tr>\n",
       "    <tr>\n",
       "      <td>1291</td>\n",
       "      <td>249.4</td>\n",
       "      <td>42.40</td>\n",
       "      <td>211.5</td>\n",
       "      <td>0</td>\n",
       "      <td>0</td>\n",
       "    </tr>\n",
       "  </tbody>\n",
       "</table>\n",
       "<p>2666 rows × 5 columns</p>\n",
       "</div>"
      ],
      "text/plain": [
       "      total_day_minutes  total_day_charge  total_eve_minutes  \\\n",
       "373               218.0             37.06              114.4   \n",
       "99                212.1             36.06              209.4   \n",
       "934               125.8             21.39              207.7   \n",
       "3192              240.0             40.80              134.1   \n",
       "816               314.6             53.48              169.8   \n",
       "...                 ...               ...                ...   \n",
       "2640              184.2             31.31              312.6   \n",
       "1973              150.3             25.55              255.9   \n",
       "108               117.9             20.04              164.5   \n",
       "739               159.5             27.12              240.8   \n",
       "1291              249.4             42.40              211.5   \n",
       "\n",
       "      number_customer_service_calls  international_plan_yes  \n",
       "373                               0                       1  \n",
       "99                                1                       0  \n",
       "934                               1                       1  \n",
       "3192                              0                       0  \n",
       "816                               2                       0  \n",
       "...                             ...                     ...  \n",
       "2640                              1                       0  \n",
       "1973                              2                       0  \n",
       "108                               1                       0  \n",
       "739                               1                       0  \n",
       "1291                              0                       0  \n",
       "\n",
       "[2666 rows x 5 columns]"
      ]
     },
     "execution_count": 1522,
     "metadata": {},
     "output_type": "execute_result"
    }
   ],
   "source": [
    "selector = SelectKBest(chi2, k=5)\n",
    "selector.fit_transform(X_train, y_train)\n",
    "cols = selector.get_support(indices=True)\n",
    "X_train_new = X_train.iloc[:,cols]\n",
    "X_train_new"
   ]
  }
 ],
 "metadata": {
  "anaconda-cloud": {},
  "kernelspec": {
   "display_name": "Python 3",
   "language": "python",
   "name": "python3"
  },
  "language_info": {
   "codemirror_mode": {
    "name": "ipython",
    "version": 3
   },
   "file_extension": ".py",
   "mimetype": "text/x-python",
   "name": "python",
   "nbconvert_exporter": "python",
   "pygments_lexer": "ipython3",
   "version": "3.7.4"
  }
 },
 "nbformat": 4,
 "nbformat_minor": 1
}
